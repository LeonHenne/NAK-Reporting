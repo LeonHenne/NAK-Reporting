{
 "cells": [
  {
   "cell_type": "markdown",
   "metadata": {},
   "source": [
    "# Hausarbeit - Reporting und Visualisierung\n",
    "### Einflussfaktoren auf die Schulleistungen im Rahmen der Oberschule\n",
    "#### MADS 2023oB"
   ]
  },
  {
   "cell_type": "markdown",
   "metadata": {},
   "source": [
    "## Environment setup"
   ]
  },
  {
   "cell_type": "code",
   "execution_count": null,
   "metadata": {},
   "outputs": [],
   "source": [
    "%%capture\n",
    "# !pip install numpy pandas plotly\n",
    "# or\n",
    "# !. venv/bin/activate"
   ]
  },
  {
   "cell_type": "code",
   "execution_count": null,
   "metadata": {},
   "outputs": [],
   "source": [
    "import numpy as np\n",
    "import pandas as pd\n",
    "import plotly.express as px\n",
    "import plotly.graph_objects as go\n",
    "from plotly.subplots import make_subplots"
   ]
  },
  {
   "cell_type": "markdown",
   "metadata": {},
   "source": [
    "## Data transformations"
   ]
  },
  {
   "cell_type": "markdown",
   "metadata": {},
   "source": [
    "### Data description"
   ]
  },
  {
   "cell_type": "markdown",
   "metadata": {},
   "source": [
    "**Attributes for both student-mat.csv (Math course) and student-por.csv (Portuguese language course) datasets:**\n",
    "\n",
    "1 school - student's school (binary: 'GP' - Gabriel Pereira or 'MS' - Mousinho da Silveira)\n",
    "\n",
    "2 sex - student's sex (binary: 'F' - female or 'M' - male)\n",
    "\n",
    "3 age - student's age (numeric: from 15 to 22)\n",
    "\n",
    "4 address - student's home address type (binary: 'U' - urban or 'R' - rural)\n",
    "\n",
    "5 famsize - family size (binary: 'LE3' - less or equal to 3 or 'GT3' - greater than 3)\n",
    "\n",
    "6 Pstatus - parent's cohabitation status (binary: 'T' - living together or 'A' - apart)\n",
    "\n",
    "7 Medu - mother's education (numeric: 0 - none,  1 - primary education (4th grade), 2 – 5th to 9th grade, 3 – \n",
    "secondary education or 4 – higher education)\n",
    "\n",
    "8 Fedu - father's education (numeric: 0 - none,  1 - primary education (4th grade), 2 – 5th to 9th grade, 3 – \n",
    "secondary education or 4 – higher education)\n",
    "\n",
    "9 Mjob - mother's job (nominal: 'teacher', 'health' care related, civil 'services' (e.g. administrative or \n",
    "police), 'at_home' or 'other')\n",
    "\n",
    "10 Fjob - father's job (nominal: 'teacher', 'health' care related, civil 'services' (e.g. administrative or \n",
    "police), 'at_home' or 'other')\n",
    "\n",
    "11 reason - reason to choose this school (nominal: close to 'home', school 'reputation', 'course' preference or \n",
    "'other')\n",
    "\n",
    "12 guardian - student's guardian (nominal: 'mother', 'father' or 'other')\n",
    "\n",
    "13 traveltime - home to school travel time (numeric: 1 - <15 min., 2 - 15 to 30 min., 3 - 30 min. to 1 hour, or \n",
    "4 - >1 hour)\n",
    "\n",
    "14 studytime - weekly study time (numeric: 1 - <2 hours, 2 - 2 to 5 hours, 3 - 5 to 10 hours, or 4 - >10 hours)\n",
    "\n",
    "15 failures - number of past class failures (numeric: n if 1<=n<3, else 4)\n",
    "\n",
    "16 schoolsup - extra educational support (binary: yes or no)\n",
    "\n",
    "17 famsup - family educational support (binary: yes or no)\n",
    "\n",
    "18 paid - extra paid classes within the course subject (Math or Portuguese) (binary: yes or no)\n",
    "\n",
    "19 activities - extra-curricular activities (binary: yes or no)\n",
    "\n",
    "20 nursery - attended nursery school (binary: yes or no)\n",
    "\n",
    "21 higher - wants to take higher education (binary: yes or no)\n",
    "\n",
    "22 internet - Internet access at home (binary: yes or no)\n",
    "\n",
    "23 romantic - with a romantic relationship (binary: yes or no)\n",
    "\n",
    "24 famrel - quality of family relationships (numeric: from 1 - very bad to 5 - excellent)\n",
    "\n",
    "25 freetime - free time after school (numeric: from 1 - very low to 5 - very high)\n",
    "\n",
    "26 goout - going out with friends (numeric: from 1 - very low to 5 - very high)\n",
    "\n",
    "27 Dalc - workday alcohol consumption (numeric: from 1 - very low to 5 - very high)\n",
    "\n",
    "28 Walc - weekend alcohol consumption (numeric: from 1 - very low to 5 - very high)\n",
    "\n",
    "29 health - current health status (numeric: from 1 - very bad to 5 - very good)\n",
    "\n",
    "30 absences - number of school absences (numeric: from 0 to 93)\n",
    "\n",
    "**these grades are related with the course subject, Math or Portuguese:**\n",
    "\n",
    "31 G1 - first period grade (numeric: from 0 to 20)\n",
    "\n",
    "31 G2 - second period grade (numeric: from 0 to 20)\n",
    "\n",
    "32 G3 - final grade (numeric: from 0 to 20, output target)\n",
    "\n",
    "Additional note: there are several (382) students that belong to both datasets . \n",
    "These students can be identified by searching for identical attributes\n",
    "that characterize each student, as shown in the annexed R file."
   ]
  },
  {
   "cell_type": "markdown",
   "metadata": {},
   "source": [
    "### Data loading and examination\n"
   ]
  },
  {
   "cell_type": "code",
   "execution_count": null,
   "metadata": {},
   "outputs": [],
   "source": [
    "mat_df = pd.read_csv('data/student-mat.csv', sep=';')\n",
    "por_df = pd.read_csv('data/student-por.csv', sep=';')\n",
    "\n",
    "info_df = pd.DataFrame([['mat_df', len(mat_df), len(mat_df.columns), np.mean(mat_df.isnull().sum())],\n",
    "                        ['por_df', len(por_df), len(por_df.columns), np.mean(por_df.isnull().sum())]], \n",
    "                        columns=['table name', 'table size', 'number of columns', 'average missing values per column'])\n",
    "info_df"
   ]
  },
  {
   "cell_type": "code",
   "execution_count": null,
   "metadata": {},
   "outputs": [],
   "source": [
    "print(f'mat_df columns: \\n\\n {mat_df.columns} \\n')\n",
    "print(f'por_df columns: \\n\\n {por_df.columns} \\n')"
   ]
  },
  {
   "cell_type": "code",
   "execution_count": null,
   "metadata": {},
   "outputs": [],
   "source": [
    "mat_df.head()"
   ]
  },
  {
   "cell_type": "code",
   "execution_count": null,
   "metadata": {},
   "outputs": [],
   "source": [
    "por_df.head()"
   ]
  },
  {
   "cell_type": "code",
   "execution_count": null,
   "metadata": {},
   "outputs": [],
   "source": [
    "px.imshow(mat_df.corr(numeric_only=True))\n",
    "px.imshow(por_df.corr(numeric_only=True))"
   ]
  },
  {
   "cell_type": "markdown",
   "metadata": {},
   "source": [
    "### Data merging"
   ]
  },
  {
   "cell_type": "code",
   "execution_count": null,
   "metadata": {},
   "outputs": [],
   "source": [
    "merging_colums = ['school','sex','age','address','famsize','Pstatus','Medu','Fedu','Mjob','Fjob','reason','nursery','internet']"
   ]
  },
  {
   "cell_type": "code",
   "execution_count": null,
   "metadata": {},
   "outputs": [],
   "source": [
    "left_mixed_df = pd.merge(por_df,mat_df,'left', on=merging_colums)\n",
    "# left_mixed_df.to_csv('data/student-merge-left.csv')"
   ]
  },
  {
   "cell_type": "code",
   "execution_count": null,
   "metadata": {},
   "outputs": [],
   "source": [
    "inner_mixed_df = pd.merge(por_df,mat_df,'inner', on=merging_colums)\n",
    "# inner_mixed_df.to_csv('data/student-merge-inner.csv')"
   ]
  },
  {
   "cell_type": "code",
   "execution_count": null,
   "metadata": {},
   "outputs": [],
   "source": [
    "def check_contraditories(df:pd.DataFrame, columns='all'):\n",
    "    # This cell checks for contraditory values within the merged dataset\n",
    "    double_columns = [x for x in list(por_df.columns) if x not in merging_colums]\n",
    "    check_columns = columns if columns != 'all' else double_columns # 'guardian', 'romantic', 'famrel', 'goout', 'health', 'Dalc', 'Walc', 'higher'\n",
    "    df = pd.DataFrame(inner_mixed_df).copy()\n",
    "\n",
    "    for column in check_columns: \n",
    "        df['equal'] = df[str(column)+'_x'] == df[str(column)+'_y'] # TODO: fix overwriting after each column \n",
    "        \n",
    "        # anticipate that the following attributes from student-por also apply for student-mat\n",
    "        # df[str(column)+'_y'] = df[str(column)+'_y'].combine_first(df[str(column)+'_x'])\n",
    "\n",
    "    xy_columns = []\n",
    "    xy_columns.extend([str(column)+'_x' for column in check_columns])\n",
    "    xy_columns.extend([str(column)+'_y' for column in check_columns])\n",
    "    xy_columns.sort()\n",
    "    return df[xy_columns][df['equal'] == False]\n",
    "\n",
    "check_contraditories(inner_mixed_df)"
   ]
  },
  {
   "cell_type": "code",
   "execution_count": null,
   "metadata": {},
   "outputs": [],
   "source": [
    "inner_mixed_info_series = pd.DataFrame([['inner_mixed_df', len(inner_mixed_df), len(inner_mixed_df.columns), np.mean(inner_mixed_df.isnull().sum())]], \n",
    "                                      columns=['table name', 'table size', 'number of columns', 'average missing values per column'])\n",
    "left_mixed_info_series = pd.DataFrame([['left_mixed_df', len(left_mixed_df), len(left_mixed_df.columns), np.mean(left_mixed_df.isnull().sum())]], \n",
    "                                      columns=['table name', 'table size', 'number of columns', 'average missing values per column'])\n",
    "info_df = pd.concat([info_df, inner_mixed_info_series, left_mixed_info_series])\n",
    "info_df"
   ]
  },
  {
   "cell_type": "markdown",
   "metadata": {},
   "source": [
    "## Data analysis"
   ]
  },
  {
   "cell_type": "markdown",
   "metadata": {},
   "source": [
    "### Individuelle und strukturelle Faktoren"
   ]
  },
  {
   "cell_type": "markdown",
   "metadata": {},
   "source": [
    "#### Individuelle Faktoren"
   ]
  },
  {
   "cell_type": "code",
   "execution_count": null,
   "metadata": {},
   "outputs": [],
   "source": [
    "# median dalc / walc per g3 group \n",
    "# g3 groups are the median of both g3 points\n",
    "stacked_bar_df = pd.DataFrame()\n",
    "stacked_bar_df['g3'] = pd.concat([inner_mixed_df['G3_x'], inner_mixed_df['G3_y']], axis=1).median(axis=1).astype(float)\n",
    "\n",
    "# check contradictories\n",
    "result = check_contraditories(inner_mixed_df, ['Dalc'])\n",
    "print(f\"{np.round(len(result) / len(inner_mixed_df),2)} % of contradictory values\")\n",
    "result2 = check_contraditories(inner_mixed_df, ['Walc'])\n",
    "print(f\"{np.round(len(result2) / len(inner_mixed_df),2)} % of contradictory values\")\n",
    "# data filtering\n",
    "stacked_bar_df['dalc'] = pd.concat([inner_mixed_df['Dalc_x'], inner_mixed_df['Dalc_y']], axis=1).median(axis=1)\n",
    "stacked_bar_df['walc'] = pd.concat([inner_mixed_df['Walc_x'], inner_mixed_df['Walc_y']], axis=1).median(axis=1)\n",
    "stacked_bar_df.drop(index=result.index.append(result2.index), inplace=True)\n",
    "\n",
    "# Define the g3 ranges (bins)\n",
    "g3_bins = range(2,22,2)\n",
    "\n",
    "# Create a new column with the bin labels for each g3 value\n",
    "stacked_bar_df['g3_range'] = pd.cut(stacked_bar_df['g3'], bins=g3_bins)\n",
    "\n",
    "# Group by the g3_range column and compute the median dalc and walc\n",
    "stacked_bar_df = stacked_bar_df.groupby('g3_range')[['dalc', 'walc']].median().reset_index()\n",
    "\n",
    "# Convert the Interval objects in the 'g3_range' column to strings\n",
    "stacked_bar_df['g3_range'] = stacked_bar_df['g3_range'].astype(str).str[:-1] + ')'\n",
    "stacked_bar_df"
   ]
  },
  {
   "cell_type": "code",
   "execution_count": null,
   "metadata": {},
   "outputs": [],
   "source": [
    "# Create a stacked bar graph using Plotly\n",
    "stacked_bar = go.Figure()\n",
    "\n",
    "# Add the first trace (bar) to the figure\n",
    "stacked_bar.add_trace(go.Bar(\n",
    "    x=stacked_bar_df[\"g3_range\"],\n",
    "    y=stacked_bar_df[\"dalc\"],\n",
    "    name='Alkoholkonsum an Arbeitstagen',\n",
    "    marker_color='#B11226'  # Set color to wine\n",
    "))\n",
    "\n",
    "# Add the second trace (bar) to the figure\n",
    "stacked_bar.add_trace(go.Bar(\n",
    "    x=stacked_bar_df[\"g3_range\"],\n",
    "    y=stacked_bar_df[\"walc\"],\n",
    "    name='Alkoholkonsum am Wochenende',\n",
    "    marker_color='#FBB117'  # Set color to yellow\n",
    "))\n",
    "\n",
    "# Configure the layout for a stacked bar graph\n",
    "stacked_bar.update_layout(\n",
    "    barmode='stack',\n",
    "    title='Einfluss von Alkoholkonsum auf die Lernleistung',\n",
    "    xaxis_title='Median der erreichten Notenpunkte <br>in beiden Fächern',\n",
    "    yaxis_title='Alkoholkonsumeeinschätzung<br>(1: sehr gering - 5: sehr stark)',\n",
    "    yaxis = dict(range=[0,10])\n",
    ")\n",
    "\n",
    "# Show the plot\n",
    "stacked_bar.show()"
   ]
  },
  {
   "cell_type": "markdown",
   "metadata": {},
   "source": [
    "#### Strukturelle Faktoren"
   ]
  },
  {
   "cell_type": "code",
   "execution_count": null,
   "metadata": {},
   "outputs": [],
   "source": [
    "violin_df = pd.DataFrame()\n",
    "\n",
    "mapping = {1: '<15 min', 2: '15 - 30 min', 3: '30-60 min', 4: '>60 min'}\n",
    "violin_df['traveltime'] = inner_mixed_df['traveltime_x'].map(mapping)\n",
    "\n",
    "violin_df['internet'] = inner_mixed_df['internet']\n",
    "violin_df['g3'] = pd.concat([inner_mixed_df['G3_x'], inner_mixed_df['G3_y']], axis=1).median(axis=1)"
   ]
  },
  {
   "cell_type": "code",
   "execution_count": null,
   "metadata": {},
   "outputs": [],
   "source": [
    "# Define colors for 'internet' categories\n",
    "colors = {'yes': 'green', 'no': 'red'}\n",
    "\n",
    "# Create a violin plot\n",
    "violin = go.Figure()\n",
    "\n",
    "def translate(x):\n",
    "    return 'Ja' if x=='yes' else 'Nein'\n",
    "\n",
    "for internet_status, color in colors.items():\n",
    "    subset = violin_df[violin_df['internet'] == internet_status]\n",
    "    side_value = 'positive' if internet_status=='yes' else 'negative'\n",
    "    violin.add_trace(go.Violin(\n",
    "        x=subset['traveltime'],\n",
    "        y=subset['g3'],\n",
    "        box_visible=False,\n",
    "        side=side_value,\n",
    "        meanline_visible=True,\n",
    "        line_color= 'black',# 'dark'+color,\n",
    "        fillcolor=color,\n",
    "        opacity=0.5,\n",
    "        name=translate(internet_status)\n",
    "    ))\n",
    "\n",
    "# Update layout\n",
    "violin.update_layout(\n",
    "    title='Zusammenhang struktureller Faktoren und Lernleistungen',\n",
    "    xaxis_title='Pendelzeit',\n",
    "    yaxis_title='Median der erreichten Notenpunkte <br>in beiden Fächern',\n",
    "    xaxis=dict(\n",
    "        categoryorder='array',\n",
    "        categoryarray=['<15 min', '15 - 30 min', '30-60 min', '>60 min']\n",
    "    ),\n",
    "    annotations=[\n",
    "        dict(\n",
    "            x=1.1,\n",
    "            y=1.15,\n",
    "            align=\"right\",\n",
    "            valign=\"top\",\n",
    "            text='Internet <br> available',\n",
    "            showarrow=False,\n",
    "            xref=\"paper\",\n",
    "            yref=\"paper\",\n",
    "            xanchor=\"center\",\n",
    "            yanchor=\"top\"\n",
    "        )\n",
    "    ]\n",
    ")\n",
    "\n",
    "# Show the plot\n",
    "violin.show()"
   ]
  },
  {
   "cell_type": "markdown",
   "metadata": {},
   "source": [
    "### Soziale Faktoren"
   ]
  },
  {
   "cell_type": "markdown",
   "metadata": {},
   "source": [
    "#### familiäres Umfeld"
   ]
  },
  {
   "cell_type": "code",
   "execution_count": null,
   "metadata": {},
   "outputs": [],
   "source": [
    "bar_df = pd.DataFrame()\n",
    "bar_df['g3'] = pd.concat([inner_mixed_df['G3_x'], inner_mixed_df['G3_y']], axis=1).median(axis=1)\n",
    "bar_df['famrel'] = pd.concat([inner_mixed_df['famrel_x'], inner_mixed_df['famrel_y']], axis=1).median(axis=1)\n",
    "bar_df['famsize'] = inner_mixed_df['famsize']\n",
    "\n",
    "# result = check_contraditories(inner_mixed_df, ['famrel'])\n",
    "# print(f\"{np.round(len(result) / len(inner_mixed_df),2)} % of contradictory values\")\n",
    "# bar_df.drop(index=result.index, inplace=True)\n",
    "\n",
    "bar_df"
   ]
  },
  {
   "cell_type": "code",
   "execution_count": null,
   "metadata": {},
   "outputs": [],
   "source": [
    "agg_bar_df = bar_df.groupby(['famsize', 'famrel'])['g3'].median().reset_index()\n",
    "# Create histograms for each family size\n",
    "bar = go.Figure()\n",
    "bar.add_trace(go.Bar(x=agg_bar_df[agg_bar_df[\"famsize\"] == 'LE3']['famrel'], y=agg_bar_df['g3'],name='LE3'))\n",
    "bar.add_trace(go.Bar(x=agg_bar_df[agg_bar_df[\"famsize\"] == 'GT3']['famrel'], y=agg_bar_df['g3'], name='GT3'))\n",
    "\n",
    "# Update layout\n",
    "bar.update_layout(\n",
    "    title='Einfluss der Familiengröße und dessen <br>Beziehungsverhältnis auf die Lernleistung',\n",
    "    xaxis_title='Qualität der Familienbeziehung<br>(1: sehr schlecht - 5: sehr gut)',\n",
    "    yaxis_title='Median der erreichten Notenpunkte <br>in beiden Fächern'\n",
    ")\n",
    "\n",
    "# Show the plot\n",
    "bar.show()\n"
   ]
  },
  {
   "cell_type": "markdown",
   "metadata": {},
   "source": [
    "#### partnerliches und freundschaftliches Umfeld"
   ]
  },
  {
   "cell_type": "code",
   "execution_count": null,
   "metadata": {},
   "outputs": [],
   "source": [
    "result = check_contraditories(inner_mixed_df, ['goout'])\n",
    "print(f\"{np.round(len(result) / len(inner_mixed_df),2)} % of contradictory values\")\n",
    "result2 = check_contraditories(inner_mixed_df, ['romantic'])\n",
    "print(f\"{np.round(len(result2) / len(inner_mixed_df),2)} % of contradictory values\")\n",
    "\n",
    "box_df = pd.DataFrame()\n",
    "box_df['g3'] = pd.concat([inner_mixed_df['G3_x'], inner_mixed_df['G3_y']], axis=1).median(axis=1)\n",
    "box_df['goout'] = pd.concat([inner_mixed_df['goout_x'], inner_mixed_df['goout_y']], axis=1).median(axis=1)\n",
    "box_df['romantic'] = inner_mixed_df['romantic_x']\n",
    "box_df.drop(index=result.index.append(result2.index), inplace=True)\n",
    "box_df"
   ]
  },
  {
   "cell_type": "code",
   "execution_count": null,
   "metadata": {},
   "outputs": [],
   "source": [
    "box = go.Figure()\n",
    "\n",
    "for index, (category, color) in enumerate(zip(['no', 'yes'], ['grey', '#E41B17'])):\n",
    "    df_category = box_df[box_df['romantic'] == category]\n",
    "    box.add_trace(go.Box(\n",
    "        x=df_category['goout'],\n",
    "        y=df_category['g3'],\n",
    "        name=f'Romantic = {category}',\n",
    "        marker_color=color,\n",
    "        offsetgroup=index\n",
    "    ))\n",
    "\n",
    "box.update_layout(\n",
    "    title='Boxplot-Verteilungen zum freundschaftlichen und partnerlichen Einfluss',\n",
    "    xaxis_title='Intensität sozialer Aktivitäten im Freundeskreis',\n",
    "    yaxis_title='Median der erreichten Notenpunkte <br>in beiden Fächern',\n",
    "    boxmode='group'\n",
    ")\n",
    "\n",
    "box.show()"
   ]
  },
  {
   "cell_type": "markdown",
   "metadata": {},
   "source": [
    "### Einfluss der individuellen Leistungsbereitschaft"
   ]
  },
  {
   "cell_type": "markdown",
   "metadata": {},
   "source": [
    "#### Einfluss von Lernunterstützung"
   ]
  },
  {
   "cell_type": "code",
   "execution_count": null,
   "metadata": {},
   "outputs": [],
   "source": [
    "balk_df = pd.DataFrame()\n",
    "mat_df['mat_sup_sum'] = (mat_df[['schoolsup', 'famsup', 'paid']] == 'yes').sum(axis=1)\n",
    "por_df['por_sup_sum'] = (por_df[['schoolsup', 'famsup', 'paid']] == 'yes').sum(axis=1)\n",
    "\n",
    "aggr_mat_balk_df = mat_df.groupby(['mat_sup_sum'])['G3'].median().reset_index()\n",
    "aggr_por_balk_df = por_df.groupby(['por_sup_sum'])['G3'].median().reset_index()\n",
    "\n",
    "print(aggr_mat_balk_df)\n",
    "print(aggr_por_balk_df)"
   ]
  },
  {
   "cell_type": "code",
   "execution_count": null,
   "metadata": {},
   "outputs": [],
   "source": [
    "balk = go.Figure()\n",
    "balk = make_subplots(rows=1, cols=2, subplot_titles=('Mathematik', 'Portugiesisch'))\n",
    "\n",
    "balk.add_trace(go.Box(\n",
    "    x=mat_df['G3'],\n",
    "    y=mat_df['mat_sup_sum'],\n",
    "    name='Math',\n",
    "    marker_color='blue',\n",
    "    offsetgroup=0,\n",
    "    orientation='h'),\n",
    "    row=1,\n",
    "    col=1\n",
    ")\n",
    "\n",
    "balk.add_trace(go.Box(\n",
    "    x=mat_df['G3'],\n",
    "    y=mat_df['mat_sup_sum'],\n",
    "    name='Portugiesisch',\n",
    "    marker_color='#FF0000',\n",
    "    offsetgroup=0,\n",
    "    orientation='h'),\n",
    "    row=1,\n",
    "    col=2\n",
    ")\n",
    "\n",
    "balk.update_layout(\n",
    "    title='Boxplot-Verteilungen zum Lernunterstützungseinfluss auf die Lernleistung',\n",
    "    xaxis_title='Median der erreichten Notenpunkte <br>in beiden Fächern',\n",
    "    yaxis_title='Summe der Lernunterstützungen',\n",
    "    boxmode='group'\n",
    ")\n",
    "\n",
    "balk.show()"
   ]
  },
  {
   "cell_type": "markdown",
   "metadata": {},
   "source": [
    "#### Individuelle Lernbereitschaft"
   ]
  },
  {
   "cell_type": "code",
   "execution_count": null,
   "metadata": {},
   "outputs": [],
   "source": [
    "studytime_map = {1: '<2 hours', 2: '2 to 5 hours', 3: '5 to 10 hours',4: '>10 hours'}\n",
    "\n",
    "nextbar_df = pd.DataFrame()\n",
    "nextbar_df['G3'] = mat_df['G3']\n",
    "nextbar_df['studytime'] = mat_df['studytime']\n",
    "nextbar_df['absences_bins'] = pd.cut(mat_df['absences'], bins=4).astype(str)\n",
    "grouped = nextbar_df.groupby(['studytime', 'absences_bins'])['G3'].median().reset_index()\n",
    "nextbar_df['studytime'] = nextbar_df['studytime'].map(studytime_map)\n",
    "\n",
    "grouped"
   ]
  },
  {
   "cell_type": "code",
   "execution_count": null,
   "metadata": {},
   "outputs": [],
   "source": [
    "# Creating a figure with subplots for each studytime value\n",
    "nextbar = go.Figure()\n",
    "\n",
    "for absence_bin in grouped['absences_bins'].unique():\n",
    "    filtered_data = grouped[grouped['absences_bins'] == absence_bin]\n",
    "    nextbar.add_trace(go.Bar(x=filtered_data['studytime'], y=filtered_data['G3'], name=f\"Absences in range {absence_bin}\"))\n",
    "\n",
    "# Updating layout\n",
    "nextbar.update_layout(\n",
    "    title=\"Median G3 by Study Time and Absences\",\n",
    "    xaxis_title=\"Studytime\",\n",
    "    yaxis_title=\"Median G3\",\n",
    "    barmode='group',\n",
    "    # Adjust spacing between subplots\n",
    "    margin=dict(l=20, r=20, t=50, b=50),\n",
    "    # Show legend\n",
    "    legend=dict(title=\"Studytime\")\n",
    ")\n",
    "\n",
    "# Show the plot\n",
    "nextbar.show()"
   ]
  },
  {
   "cell_type": "code",
   "execution_count": null,
   "metadata": {},
   "outputs": [],
   "source": []
  }
 ],
 "metadata": {
  "kernelspec": {
   "display_name": "venv",
   "language": "python",
   "name": "python3"
  },
  "language_info": {
   "codemirror_mode": {
    "name": "ipython",
    "version": 3
   },
   "file_extension": ".py",
   "mimetype": "text/x-python",
   "name": "python",
   "nbconvert_exporter": "python",
   "pygments_lexer": "ipython3",
   "version": "3.11.7"
  }
 },
 "nbformat": 4,
 "nbformat_minor": 2
}
