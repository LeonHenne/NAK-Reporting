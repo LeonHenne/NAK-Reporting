{
 "cells": [
  {
   "cell_type": "markdown",
   "metadata": {},
   "source": [
    "# Hausarbeit - Reporting und Visualisierung\n",
    "### Einflussfaktoren auf die Schulleistungen im Rahmen der Oberschule\n",
    "#### MADS 2023oB"
   ]
  },
  {
   "cell_type": "markdown",
   "metadata": {},
   "source": [
    "## Environment setup"
   ]
  },
  {
   "cell_type": "code",
   "execution_count": 1,
   "metadata": {},
   "outputs": [],
   "source": [
    "%%capture\n",
    "# !pip install numpy pandas plotly\n",
    "# or\n",
    "# !. venv/bin/activate"
   ]
  },
  {
   "cell_type": "code",
   "execution_count": 2,
   "metadata": {},
   "outputs": [],
   "source": [
    "import numpy as np\n",
    "import pandas as pd\n",
    "import plotly.express as px\n",
    "import plotly.graph_objects as go\n",
    "from plotly.subplots import make_subplots"
   ]
  },
  {
   "cell_type": "markdown",
   "metadata": {},
   "source": [
    "## Data transformations"
   ]
  },
  {
   "cell_type": "markdown",
   "metadata": {},
   "source": [
    "### Data description"
   ]
  },
  {
   "cell_type": "markdown",
   "metadata": {},
   "source": [
    "**Attributes for both student-mat.csv (Math course) and student-por.csv (Portuguese language course) datasets:**\n",
    "\n",
    "1 school - student's school (binary: 'GP' - Gabriel Pereira or 'MS' - Mousinho da Silveira)\n",
    "\n",
    "2 sex - student's sex (binary: 'F' - female or 'M' - male)\n",
    "\n",
    "3 age - student's age (numeric: from 15 to 22)\n",
    "\n",
    "4 address - student's home address type (binary: 'U' - urban or 'R' - rural)\n",
    "\n",
    "5 famsize - family size (binary: 'LE3' - less or equal to 3 or 'GT3' - greater than 3)\n",
    "\n",
    "6 Pstatus - parent's cohabitation status (binary: 'T' - living together or 'A' - apart)\n",
    "\n",
    "7 Medu - mother's education (numeric: 0 - none,  1 - primary education (4th grade), 2 – 5th to 9th grade, 3 – \n",
    "secondary education or 4 – higher education)\n",
    "\n",
    "8 Fedu - father's education (numeric: 0 - none,  1 - primary education (4th grade), 2 – 5th to 9th grade, 3 – \n",
    "secondary education or 4 – higher education)\n",
    "\n",
    "9 Mjob - mother's job (nominal: 'teacher', 'health' care related, civil 'services' (e.g. administrative or \n",
    "police), 'at_home' or 'other')\n",
    "\n",
    "10 Fjob - father's job (nominal: 'teacher', 'health' care related, civil 'services' (e.g. administrative or \n",
    "police), 'at_home' or 'other')\n",
    "\n",
    "11 reason - reason to choose this school (nominal: close to 'home', school 'reputation', 'course' preference or \n",
    "'other')\n",
    "\n",
    "12 guardian - student's guardian (nominal: 'mother', 'father' or 'other')\n",
    "\n",
    "13 traveltime - home to school travel time (numeric: 1 - <15 min., 2 - 15 to 30 min., 3 - 30 min. to 1 hour, or \n",
    "4 - >1 hour)\n",
    "\n",
    "14 studytime - weekly study time (numeric: 1 - <2 hours, 2 - 2 to 5 hours, 3 - 5 to 10 hours, or 4 - >10 hours)\n",
    "\n",
    "15 failures - number of past class failures (numeric: n if 1<=n<3, else 4)\n",
    "\n",
    "16 schoolsup - extra educational support (binary: yes or no)\n",
    "\n",
    "17 famsup - family educational support (binary: yes or no)\n",
    "\n",
    "18 paid - extra paid classes within the course subject (Math or Portuguese) (binary: yes or no)\n",
    "\n",
    "19 activities - extra-curricular activities (binary: yes or no)\n",
    "\n",
    "20 nursery - attended nursery school (binary: yes or no)\n",
    "\n",
    "21 higher - wants to take higher education (binary: yes or no)\n",
    "\n",
    "22 internet - Internet access at home (binary: yes or no)\n",
    "\n",
    "23 romantic - with a romantic relationship (binary: yes or no)\n",
    "\n",
    "24 famrel - quality of family relationships (numeric: from 1 - very bad to 5 - excellent)\n",
    "\n",
    "25 freetime - free time after school (numeric: from 1 - very low to 5 - very high)\n",
    "\n",
    "26 goout - going out with friends (numeric: from 1 - very low to 5 - very high)\n",
    "\n",
    "27 Dalc - workday alcohol consumption (numeric: from 1 - very low to 5 - very high)\n",
    "\n",
    "28 Walc - weekend alcohol consumption (numeric: from 1 - very low to 5 - very high)\n",
    "\n",
    "29 health - current health status (numeric: from 1 - very bad to 5 - very good)\n",
    "\n",
    "30 absences - number of school absences (numeric: from 0 to 93)\n",
    "\n",
    "**these grades are related with the course subject, Math or Portuguese:**\n",
    "\n",
    "31 G1 - first period grade (numeric: from 0 to 20)\n",
    "\n",
    "31 G2 - second period grade (numeric: from 0 to 20)\n",
    "\n",
    "32 G3 - final grade (numeric: from 0 to 20, output target)\n",
    "\n",
    "Additional note: there are several (382) students that belong to both datasets . \n",
    "These students can be identified by searching for identical attributes\n",
    "that characterize each student, as shown in the annexed R file."
   ]
  },
  {
   "cell_type": "markdown",
   "metadata": {},
   "source": [
    "### Data loading and examination\n"
   ]
  },
  {
   "cell_type": "code",
   "execution_count": 3,
   "metadata": {},
   "outputs": [
    {
     "data": {
      "text/html": [
       "<div>\n",
       "<style scoped>\n",
       "    .dataframe tbody tr th:only-of-type {\n",
       "        vertical-align: middle;\n",
       "    }\n",
       "\n",
       "    .dataframe tbody tr th {\n",
       "        vertical-align: top;\n",
       "    }\n",
       "\n",
       "    .dataframe thead th {\n",
       "        text-align: right;\n",
       "    }\n",
       "</style>\n",
       "<table border=\"1\" class=\"dataframe\">\n",
       "  <thead>\n",
       "    <tr style=\"text-align: right;\">\n",
       "      <th></th>\n",
       "      <th>table name</th>\n",
       "      <th>table size</th>\n",
       "      <th>number of columns</th>\n",
       "      <th>average missing values per column</th>\n",
       "    </tr>\n",
       "  </thead>\n",
       "  <tbody>\n",
       "    <tr>\n",
       "      <th>0</th>\n",
       "      <td>mat_df</td>\n",
       "      <td>395</td>\n",
       "      <td>33</td>\n",
       "      <td>0.0</td>\n",
       "    </tr>\n",
       "    <tr>\n",
       "      <th>1</th>\n",
       "      <td>por_df</td>\n",
       "      <td>649</td>\n",
       "      <td>33</td>\n",
       "      <td>0.0</td>\n",
       "    </tr>\n",
       "  </tbody>\n",
       "</table>\n",
       "</div>"
      ],
      "text/plain": [
       "  table name  table size  number of columns  average missing values per column\n",
       "0     mat_df         395                 33                                0.0\n",
       "1     por_df         649                 33                                0.0"
      ]
     },
     "execution_count": 3,
     "metadata": {},
     "output_type": "execute_result"
    }
   ],
   "source": [
    "mat_df = pd.read_csv('data/student-mat.csv', sep=';')\n",
    "por_df = pd.read_csv('data/student-por.csv', sep=';')\n",
    "\n",
    "info_df = pd.DataFrame([['mat_df', len(mat_df), len(mat_df.columns), np.mean(mat_df.isnull().sum())],\n",
    "                        ['por_df', len(por_df), len(por_df.columns), np.mean(por_df.isnull().sum())]], \n",
    "                        columns=['table name', 'table size', 'number of columns', 'average missing values per column'])\n",
    "info_df"
   ]
  },
  {
   "cell_type": "code",
   "execution_count": 4,
   "metadata": {},
   "outputs": [
    {
     "name": "stdout",
     "output_type": "stream",
     "text": [
      "mat_df columns: \n",
      "\n",
      " Index(['school', 'sex', 'age', 'address', 'famsize', 'Pstatus', 'Medu', 'Fedu',\n",
      "       'Mjob', 'Fjob', 'reason', 'guardian', 'traveltime', 'studytime',\n",
      "       'failures', 'schoolsup', 'famsup', 'paid', 'activities', 'nursery',\n",
      "       'higher', 'internet', 'romantic', 'famrel', 'freetime', 'goout', 'Dalc',\n",
      "       'Walc', 'health', 'absences', 'G1', 'G2', 'G3'],\n",
      "      dtype='object') \n",
      "\n",
      "por_df columns: \n",
      "\n",
      " Index(['school', 'sex', 'age', 'address', 'famsize', 'Pstatus', 'Medu', 'Fedu',\n",
      "       'Mjob', 'Fjob', 'reason', 'guardian', 'traveltime', 'studytime',\n",
      "       'failures', 'schoolsup', 'famsup', 'paid', 'activities', 'nursery',\n",
      "       'higher', 'internet', 'romantic', 'famrel', 'freetime', 'goout', 'Dalc',\n",
      "       'Walc', 'health', 'absences', 'G1', 'G2', 'G3'],\n",
      "      dtype='object') \n",
      "\n"
     ]
    }
   ],
   "source": [
    "print(f'mat_df columns: \\n\\n {mat_df.columns} \\n')\n",
    "print(f'por_df columns: \\n\\n {por_df.columns} \\n')"
   ]
  },
  {
   "cell_type": "code",
   "execution_count": 5,
   "metadata": {},
   "outputs": [
    {
     "data": {
      "text/html": [
       "<div>\n",
       "<style scoped>\n",
       "    .dataframe tbody tr th:only-of-type {\n",
       "        vertical-align: middle;\n",
       "    }\n",
       "\n",
       "    .dataframe tbody tr th {\n",
       "        vertical-align: top;\n",
       "    }\n",
       "\n",
       "    .dataframe thead th {\n",
       "        text-align: right;\n",
       "    }\n",
       "</style>\n",
       "<table border=\"1\" class=\"dataframe\">\n",
       "  <thead>\n",
       "    <tr style=\"text-align: right;\">\n",
       "      <th></th>\n",
       "      <th>school</th>\n",
       "      <th>sex</th>\n",
       "      <th>age</th>\n",
       "      <th>address</th>\n",
       "      <th>famsize</th>\n",
       "      <th>Pstatus</th>\n",
       "      <th>Medu</th>\n",
       "      <th>Fedu</th>\n",
       "      <th>Mjob</th>\n",
       "      <th>Fjob</th>\n",
       "      <th>...</th>\n",
       "      <th>famrel</th>\n",
       "      <th>freetime</th>\n",
       "      <th>goout</th>\n",
       "      <th>Dalc</th>\n",
       "      <th>Walc</th>\n",
       "      <th>health</th>\n",
       "      <th>absences</th>\n",
       "      <th>G1</th>\n",
       "      <th>G2</th>\n",
       "      <th>G3</th>\n",
       "    </tr>\n",
       "  </thead>\n",
       "  <tbody>\n",
       "    <tr>\n",
       "      <th>0</th>\n",
       "      <td>GP</td>\n",
       "      <td>F</td>\n",
       "      <td>18</td>\n",
       "      <td>U</td>\n",
       "      <td>GT3</td>\n",
       "      <td>A</td>\n",
       "      <td>4</td>\n",
       "      <td>4</td>\n",
       "      <td>at_home</td>\n",
       "      <td>teacher</td>\n",
       "      <td>...</td>\n",
       "      <td>4</td>\n",
       "      <td>3</td>\n",
       "      <td>4</td>\n",
       "      <td>1</td>\n",
       "      <td>1</td>\n",
       "      <td>3</td>\n",
       "      <td>6</td>\n",
       "      <td>5</td>\n",
       "      <td>6</td>\n",
       "      <td>6</td>\n",
       "    </tr>\n",
       "    <tr>\n",
       "      <th>1</th>\n",
       "      <td>GP</td>\n",
       "      <td>F</td>\n",
       "      <td>17</td>\n",
       "      <td>U</td>\n",
       "      <td>GT3</td>\n",
       "      <td>T</td>\n",
       "      <td>1</td>\n",
       "      <td>1</td>\n",
       "      <td>at_home</td>\n",
       "      <td>other</td>\n",
       "      <td>...</td>\n",
       "      <td>5</td>\n",
       "      <td>3</td>\n",
       "      <td>3</td>\n",
       "      <td>1</td>\n",
       "      <td>1</td>\n",
       "      <td>3</td>\n",
       "      <td>4</td>\n",
       "      <td>5</td>\n",
       "      <td>5</td>\n",
       "      <td>6</td>\n",
       "    </tr>\n",
       "    <tr>\n",
       "      <th>2</th>\n",
       "      <td>GP</td>\n",
       "      <td>F</td>\n",
       "      <td>15</td>\n",
       "      <td>U</td>\n",
       "      <td>LE3</td>\n",
       "      <td>T</td>\n",
       "      <td>1</td>\n",
       "      <td>1</td>\n",
       "      <td>at_home</td>\n",
       "      <td>other</td>\n",
       "      <td>...</td>\n",
       "      <td>4</td>\n",
       "      <td>3</td>\n",
       "      <td>2</td>\n",
       "      <td>2</td>\n",
       "      <td>3</td>\n",
       "      <td>3</td>\n",
       "      <td>10</td>\n",
       "      <td>7</td>\n",
       "      <td>8</td>\n",
       "      <td>10</td>\n",
       "    </tr>\n",
       "    <tr>\n",
       "      <th>3</th>\n",
       "      <td>GP</td>\n",
       "      <td>F</td>\n",
       "      <td>15</td>\n",
       "      <td>U</td>\n",
       "      <td>GT3</td>\n",
       "      <td>T</td>\n",
       "      <td>4</td>\n",
       "      <td>2</td>\n",
       "      <td>health</td>\n",
       "      <td>services</td>\n",
       "      <td>...</td>\n",
       "      <td>3</td>\n",
       "      <td>2</td>\n",
       "      <td>2</td>\n",
       "      <td>1</td>\n",
       "      <td>1</td>\n",
       "      <td>5</td>\n",
       "      <td>2</td>\n",
       "      <td>15</td>\n",
       "      <td>14</td>\n",
       "      <td>15</td>\n",
       "    </tr>\n",
       "    <tr>\n",
       "      <th>4</th>\n",
       "      <td>GP</td>\n",
       "      <td>F</td>\n",
       "      <td>16</td>\n",
       "      <td>U</td>\n",
       "      <td>GT3</td>\n",
       "      <td>T</td>\n",
       "      <td>3</td>\n",
       "      <td>3</td>\n",
       "      <td>other</td>\n",
       "      <td>other</td>\n",
       "      <td>...</td>\n",
       "      <td>4</td>\n",
       "      <td>3</td>\n",
       "      <td>2</td>\n",
       "      <td>1</td>\n",
       "      <td>2</td>\n",
       "      <td>5</td>\n",
       "      <td>4</td>\n",
       "      <td>6</td>\n",
       "      <td>10</td>\n",
       "      <td>10</td>\n",
       "    </tr>\n",
       "  </tbody>\n",
       "</table>\n",
       "<p>5 rows × 33 columns</p>\n",
       "</div>"
      ],
      "text/plain": [
       "  school sex  age address famsize Pstatus  Medu  Fedu     Mjob      Fjob  ...  \\\n",
       "0     GP   F   18       U     GT3       A     4     4  at_home   teacher  ...   \n",
       "1     GP   F   17       U     GT3       T     1     1  at_home     other  ...   \n",
       "2     GP   F   15       U     LE3       T     1     1  at_home     other  ...   \n",
       "3     GP   F   15       U     GT3       T     4     2   health  services  ...   \n",
       "4     GP   F   16       U     GT3       T     3     3    other     other  ...   \n",
       "\n",
       "  famrel freetime  goout  Dalc  Walc health absences  G1  G2  G3  \n",
       "0      4        3      4     1     1      3        6   5   6   6  \n",
       "1      5        3      3     1     1      3        4   5   5   6  \n",
       "2      4        3      2     2     3      3       10   7   8  10  \n",
       "3      3        2      2     1     1      5        2  15  14  15  \n",
       "4      4        3      2     1     2      5        4   6  10  10  \n",
       "\n",
       "[5 rows x 33 columns]"
      ]
     },
     "execution_count": 5,
     "metadata": {},
     "output_type": "execute_result"
    }
   ],
   "source": [
    "mat_df.head()"
   ]
  },
  {
   "cell_type": "code",
   "execution_count": 6,
   "metadata": {},
   "outputs": [
    {
     "data": {
      "text/html": [
       "<div>\n",
       "<style scoped>\n",
       "    .dataframe tbody tr th:only-of-type {\n",
       "        vertical-align: middle;\n",
       "    }\n",
       "\n",
       "    .dataframe tbody tr th {\n",
       "        vertical-align: top;\n",
       "    }\n",
       "\n",
       "    .dataframe thead th {\n",
       "        text-align: right;\n",
       "    }\n",
       "</style>\n",
       "<table border=\"1\" class=\"dataframe\">\n",
       "  <thead>\n",
       "    <tr style=\"text-align: right;\">\n",
       "      <th></th>\n",
       "      <th>school</th>\n",
       "      <th>sex</th>\n",
       "      <th>age</th>\n",
       "      <th>address</th>\n",
       "      <th>famsize</th>\n",
       "      <th>Pstatus</th>\n",
       "      <th>Medu</th>\n",
       "      <th>Fedu</th>\n",
       "      <th>Mjob</th>\n",
       "      <th>Fjob</th>\n",
       "      <th>...</th>\n",
       "      <th>famrel</th>\n",
       "      <th>freetime</th>\n",
       "      <th>goout</th>\n",
       "      <th>Dalc</th>\n",
       "      <th>Walc</th>\n",
       "      <th>health</th>\n",
       "      <th>absences</th>\n",
       "      <th>G1</th>\n",
       "      <th>G2</th>\n",
       "      <th>G3</th>\n",
       "    </tr>\n",
       "  </thead>\n",
       "  <tbody>\n",
       "    <tr>\n",
       "      <th>0</th>\n",
       "      <td>GP</td>\n",
       "      <td>F</td>\n",
       "      <td>18</td>\n",
       "      <td>U</td>\n",
       "      <td>GT3</td>\n",
       "      <td>A</td>\n",
       "      <td>4</td>\n",
       "      <td>4</td>\n",
       "      <td>at_home</td>\n",
       "      <td>teacher</td>\n",
       "      <td>...</td>\n",
       "      <td>4</td>\n",
       "      <td>3</td>\n",
       "      <td>4</td>\n",
       "      <td>1</td>\n",
       "      <td>1</td>\n",
       "      <td>3</td>\n",
       "      <td>4</td>\n",
       "      <td>0</td>\n",
       "      <td>11</td>\n",
       "      <td>11</td>\n",
       "    </tr>\n",
       "    <tr>\n",
       "      <th>1</th>\n",
       "      <td>GP</td>\n",
       "      <td>F</td>\n",
       "      <td>17</td>\n",
       "      <td>U</td>\n",
       "      <td>GT3</td>\n",
       "      <td>T</td>\n",
       "      <td>1</td>\n",
       "      <td>1</td>\n",
       "      <td>at_home</td>\n",
       "      <td>other</td>\n",
       "      <td>...</td>\n",
       "      <td>5</td>\n",
       "      <td>3</td>\n",
       "      <td>3</td>\n",
       "      <td>1</td>\n",
       "      <td>1</td>\n",
       "      <td>3</td>\n",
       "      <td>2</td>\n",
       "      <td>9</td>\n",
       "      <td>11</td>\n",
       "      <td>11</td>\n",
       "    </tr>\n",
       "    <tr>\n",
       "      <th>2</th>\n",
       "      <td>GP</td>\n",
       "      <td>F</td>\n",
       "      <td>15</td>\n",
       "      <td>U</td>\n",
       "      <td>LE3</td>\n",
       "      <td>T</td>\n",
       "      <td>1</td>\n",
       "      <td>1</td>\n",
       "      <td>at_home</td>\n",
       "      <td>other</td>\n",
       "      <td>...</td>\n",
       "      <td>4</td>\n",
       "      <td>3</td>\n",
       "      <td>2</td>\n",
       "      <td>2</td>\n",
       "      <td>3</td>\n",
       "      <td>3</td>\n",
       "      <td>6</td>\n",
       "      <td>12</td>\n",
       "      <td>13</td>\n",
       "      <td>12</td>\n",
       "    </tr>\n",
       "    <tr>\n",
       "      <th>3</th>\n",
       "      <td>GP</td>\n",
       "      <td>F</td>\n",
       "      <td>15</td>\n",
       "      <td>U</td>\n",
       "      <td>GT3</td>\n",
       "      <td>T</td>\n",
       "      <td>4</td>\n",
       "      <td>2</td>\n",
       "      <td>health</td>\n",
       "      <td>services</td>\n",
       "      <td>...</td>\n",
       "      <td>3</td>\n",
       "      <td>2</td>\n",
       "      <td>2</td>\n",
       "      <td>1</td>\n",
       "      <td>1</td>\n",
       "      <td>5</td>\n",
       "      <td>0</td>\n",
       "      <td>14</td>\n",
       "      <td>14</td>\n",
       "      <td>14</td>\n",
       "    </tr>\n",
       "    <tr>\n",
       "      <th>4</th>\n",
       "      <td>GP</td>\n",
       "      <td>F</td>\n",
       "      <td>16</td>\n",
       "      <td>U</td>\n",
       "      <td>GT3</td>\n",
       "      <td>T</td>\n",
       "      <td>3</td>\n",
       "      <td>3</td>\n",
       "      <td>other</td>\n",
       "      <td>other</td>\n",
       "      <td>...</td>\n",
       "      <td>4</td>\n",
       "      <td>3</td>\n",
       "      <td>2</td>\n",
       "      <td>1</td>\n",
       "      <td>2</td>\n",
       "      <td>5</td>\n",
       "      <td>0</td>\n",
       "      <td>11</td>\n",
       "      <td>13</td>\n",
       "      <td>13</td>\n",
       "    </tr>\n",
       "  </tbody>\n",
       "</table>\n",
       "<p>5 rows × 33 columns</p>\n",
       "</div>"
      ],
      "text/plain": [
       "  school sex  age address famsize Pstatus  Medu  Fedu     Mjob      Fjob  ...  \\\n",
       "0     GP   F   18       U     GT3       A     4     4  at_home   teacher  ...   \n",
       "1     GP   F   17       U     GT3       T     1     1  at_home     other  ...   \n",
       "2     GP   F   15       U     LE3       T     1     1  at_home     other  ...   \n",
       "3     GP   F   15       U     GT3       T     4     2   health  services  ...   \n",
       "4     GP   F   16       U     GT3       T     3     3    other     other  ...   \n",
       "\n",
       "  famrel freetime  goout  Dalc  Walc health absences  G1  G2  G3  \n",
       "0      4        3      4     1     1      3        4   0  11  11  \n",
       "1      5        3      3     1     1      3        2   9  11  11  \n",
       "2      4        3      2     2     3      3        6  12  13  12  \n",
       "3      3        2      2     1     1      5        0  14  14  14  \n",
       "4      4        3      2     1     2      5        0  11  13  13  \n",
       "\n",
       "[5 rows x 33 columns]"
      ]
     },
     "execution_count": 6,
     "metadata": {},
     "output_type": "execute_result"
    }
   ],
   "source": [
    "por_df.head()"
   ]
  },
  {
   "cell_type": "code",
   "execution_count": 7,
   "metadata": {},
   "outputs": [
    {
     "data": {
      "application/vnd.plotly.v1+json": {
       "config": {
        "plotlyServerURL": "https://plot.ly"
       },
       "data": [
        {
         "coloraxis": "coloraxis",
         "hovertemplate": "x: %{x}<br>y: %{y}<br>color: %{z}<extra></extra>",
         "name": "0",
         "type": "heatmap",
         "x": [
          "age",
          "Medu",
          "Fedu",
          "traveltime",
          "studytime",
          "failures",
          "famrel",
          "freetime",
          "goout",
          "Dalc",
          "Walc",
          "health",
          "absences",
          "G1",
          "G2",
          "G3"
         ],
         "xaxis": "x",
         "y": [
          "age",
          "Medu",
          "Fedu",
          "traveltime",
          "studytime",
          "failures",
          "famrel",
          "freetime",
          "goout",
          "Dalc",
          "Walc",
          "health",
          "absences",
          "G1",
          "G2",
          "G3"
         ],
         "yaxis": "y",
         "z": [
          [
           1,
           -0.10783182168328716,
           -0.12105049703353692,
           0.03449001957112496,
           -0.00841511473032031,
           0.3199679477700505,
           -0.02055945504034186,
           -0.0049102591888240555,
           0.11280462078676542,
           0.13476826838640507,
           0.08635734514165758,
           -0.008750117130007083,
           0.14999819003988463,
           -0.17432223952760745,
           -0.10711907881607756,
           -0.10650539063847742
          ],
          [
           -0.10783182168328716,
           1,
           0.6474766091364943,
           -0.2650790028065537,
           0.09700583290488131,
           -0.1722102872776206,
           0.024420573121111774,
           -0.01968629824280799,
           0.009536493875243078,
           -0.007018319051808879,
           -0.01976578577475952,
           0.004614055999030898,
           -0.008577494775545973,
           0.26047228956523216,
           0.2640352996954117,
           0.24015075657359514
          ],
          [
           -0.12105049703353692,
           0.6474766091364943,
           1,
           -0.20828797848977135,
           0.05039964766444922,
           -0.16591500535547477,
           0.020255884809253916,
           0.00684063104053267,
           0.027689742855497437,
           0.00006077489938230663,
           0.0384447002652423,
           0.044909788415312374,
           0.029858663975560848,
           0.21750065064752314,
           0.2251389296521708,
           0.21179967911445172
          ],
          [
           0.03449001957112496,
           -0.2650790028065537,
           -0.20828797848977135,
           1,
           -0.06315390424614713,
           0.0977297501284627,
           -0.009521184519664655,
           0.0009367341272307921,
           0.05745419566943001,
           0.09282428355692024,
           0.0570071779978884,
           -0.04826120642527855,
           -0.008149087354862151,
           -0.15411962111281535,
           -0.15448887058863833,
           -0.12717296675842094
          ],
          [
           -0.00841511473032031,
           0.09700583290488131,
           0.05039964766444922,
           -0.06315390424614713,
           1,
           -0.14744054515158297,
           -0.004127129214111947,
           -0.06882922218083942,
           -0.07544221085456851,
           -0.1375847394424694,
           -0.21492510452682612,
           -0.05643269351112612,
           -0.11838937011024397,
           0.26087538031319013,
           0.24049799907999114,
           0.24978868999886308
          ],
          [
           0.3199679477700505,
           -0.1722102872776206,
           -0.16591500535547477,
           0.0977297501284627,
           -0.14744054515158297,
           1,
           -0.06264516268418767,
           0.10899462179242314,
           0.04507777595307839,
           0.10594909220788187,
           0.0822662646923068,
           0.03558821278366823,
           0.12277883526082045,
           -0.384210476004419,
           -0.38578221523188205,
           -0.3933155480419926
          ],
          [
           -0.02055945504034186,
           0.024420573121111774,
           0.020255884809253916,
           -0.009521184519664655,
           -0.004127129214111947,
           -0.06264516268418767,
           1,
           0.12921567655885216,
           0.0897065691292657,
           -0.07576722502380892,
           -0.09351080600009955,
           0.10955921666418504,
           -0.08953365432972478,
           0.04879460349123026,
           0.08958778299759299,
           0.06336112772983056
          ],
          [
           -0.0049102591888240555,
           -0.01968629824280799,
           0.00684063104053267,
           0.0009367341272307921,
           -0.06882922218083942,
           0.10899462179242314,
           0.12921567655885216,
           1,
           0.34635178804693684,
           0.10990355938003123,
           0.1202438806988557,
           0.08452642601918957,
           -0.018716028242381316,
           -0.09449660588180091,
           -0.10667792651255599,
           -0.12270492583369787
          ],
          [
           0.11280462078676542,
           0.009536493875243078,
           0.027689742855497437,
           0.05745419566943001,
           -0.07544221085456851,
           0.04507777595307839,
           0.0897065691292657,
           0.34635178804693684,
           1,
           0.24512598855543796,
           0.3886797612064947,
           -0.015741131042270748,
           0.08537382666952785,
           -0.07405263312184847,
           -0.07946919397288821,
           -0.08764072272424253
          ],
          [
           0.13476826838640507,
           -0.007018319051808879,
           0.00006077489938230663,
           0.09282428355692024,
           -0.1375847394424694,
           0.10594909220788187,
           -0.07576722502380892,
           0.10990355938003123,
           0.24512598855543796,
           1,
           0.6165613820643421,
           0.0590674576756243,
           0.1729524910452464,
           -0.1951709341928914,
           -0.18947993515773712,
           -0.20471939724815696
          ],
          [
           0.08635734514165758,
           -0.01976578577475952,
           0.0384447002652423,
           0.0570071779978884,
           -0.21492510452682612,
           0.0822662646923068,
           -0.09351080600009955,
           0.1202438806988557,
           0.3886797612064947,
           0.6165613820643421,
           1,
           0.11498797166707762,
           0.1563729695217544,
           -0.15564948637866224,
           -0.1648521867672083,
           -0.17661887420966438
          ],
          [
           -0.008750117130007083,
           0.004614055999030898,
           0.044909788415312374,
           -0.04826120642527855,
           -0.05643269351112612,
           0.03558821278366823,
           0.10955921666418504,
           0.08452642601918957,
           -0.015741131042270748,
           0.0590674576756243,
           0.11498797166707762,
           1,
           -0.030234864488400796,
           -0.05164741507284648,
           -0.08217908362558927,
           -0.09885124139431796
          ],
          [
           0.14999819003988463,
           -0.008577494775545973,
           0.029858663975560848,
           -0.008149087354862151,
           -0.11838937011024397,
           0.12277883526082045,
           -0.08953365432972478,
           -0.018716028242381316,
           0.08537382666952785,
           0.1729524910452464,
           0.1563729695217544,
           -0.030234864488400796,
           1,
           -0.1471492417639847,
           -0.12474493347142752,
           -0.09137905643875593
          ],
          [
           -0.17432223952760745,
           0.26047228956523216,
           0.21750065064752314,
           -0.15411962111281535,
           0.26087538031319013,
           -0.384210476004419,
           0.04879460349123026,
           -0.09449660588180091,
           -0.07405263312184847,
           -0.1951709341928914,
           -0.15564948637866224,
           -0.05164741507284648,
           -0.1471492417639847,
           1,
           0.8649816303085825,
           0.8263871247890487
          ],
          [
           -0.10711907881607756,
           0.2640352996954117,
           0.2251389296521708,
           -0.15448887058863833,
           0.24049799907999114,
           -0.38578221523188205,
           0.08958778299759299,
           -0.10667792651255599,
           -0.07946919397288821,
           -0.18947993515773712,
           -0.1648521867672083,
           -0.08217908362558927,
           -0.12474493347142752,
           0.8649816303085825,
           1,
           0.9185480035603523
          ],
          [
           -0.10650539063847742,
           0.24015075657359514,
           0.21179967911445172,
           -0.12717296675842094,
           0.24978868999886308,
           -0.3933155480419926,
           0.06336112772983056,
           -0.12270492583369787,
           -0.08764072272424253,
           -0.20471939724815696,
           -0.17661887420966438,
           -0.09885124139431796,
           -0.09137905643875593,
           0.8263871247890487,
           0.9185480035603523,
           1
          ]
         ]
        }
       ],
       "layout": {
        "coloraxis": {
         "colorscale": [
          [
           0,
           "#0d0887"
          ],
          [
           0.1111111111111111,
           "#46039f"
          ],
          [
           0.2222222222222222,
           "#7201a8"
          ],
          [
           0.3333333333333333,
           "#9c179e"
          ],
          [
           0.4444444444444444,
           "#bd3786"
          ],
          [
           0.5555555555555556,
           "#d8576b"
          ],
          [
           0.6666666666666666,
           "#ed7953"
          ],
          [
           0.7777777777777778,
           "#fb9f3a"
          ],
          [
           0.8888888888888888,
           "#fdca26"
          ],
          [
           1,
           "#f0f921"
          ]
         ]
        },
        "margin": {
         "t": 60
        },
        "template": {
         "data": {
          "bar": [
           {
            "error_x": {
             "color": "#2a3f5f"
            },
            "error_y": {
             "color": "#2a3f5f"
            },
            "marker": {
             "line": {
              "color": "#E5ECF6",
              "width": 0.5
             },
             "pattern": {
              "fillmode": "overlay",
              "size": 10,
              "solidity": 0.2
             }
            },
            "type": "bar"
           }
          ],
          "barpolar": [
           {
            "marker": {
             "line": {
              "color": "#E5ECF6",
              "width": 0.5
             },
             "pattern": {
              "fillmode": "overlay",
              "size": 10,
              "solidity": 0.2
             }
            },
            "type": "barpolar"
           }
          ],
          "carpet": [
           {
            "aaxis": {
             "endlinecolor": "#2a3f5f",
             "gridcolor": "white",
             "linecolor": "white",
             "minorgridcolor": "white",
             "startlinecolor": "#2a3f5f"
            },
            "baxis": {
             "endlinecolor": "#2a3f5f",
             "gridcolor": "white",
             "linecolor": "white",
             "minorgridcolor": "white",
             "startlinecolor": "#2a3f5f"
            },
            "type": "carpet"
           }
          ],
          "choropleth": [
           {
            "colorbar": {
             "outlinewidth": 0,
             "ticks": ""
            },
            "type": "choropleth"
           }
          ],
          "contour": [
           {
            "colorbar": {
             "outlinewidth": 0,
             "ticks": ""
            },
            "colorscale": [
             [
              0,
              "#0d0887"
             ],
             [
              0.1111111111111111,
              "#46039f"
             ],
             [
              0.2222222222222222,
              "#7201a8"
             ],
             [
              0.3333333333333333,
              "#9c179e"
             ],
             [
              0.4444444444444444,
              "#bd3786"
             ],
             [
              0.5555555555555556,
              "#d8576b"
             ],
             [
              0.6666666666666666,
              "#ed7953"
             ],
             [
              0.7777777777777778,
              "#fb9f3a"
             ],
             [
              0.8888888888888888,
              "#fdca26"
             ],
             [
              1,
              "#f0f921"
             ]
            ],
            "type": "contour"
           }
          ],
          "contourcarpet": [
           {
            "colorbar": {
             "outlinewidth": 0,
             "ticks": ""
            },
            "type": "contourcarpet"
           }
          ],
          "heatmap": [
           {
            "colorbar": {
             "outlinewidth": 0,
             "ticks": ""
            },
            "colorscale": [
             [
              0,
              "#0d0887"
             ],
             [
              0.1111111111111111,
              "#46039f"
             ],
             [
              0.2222222222222222,
              "#7201a8"
             ],
             [
              0.3333333333333333,
              "#9c179e"
             ],
             [
              0.4444444444444444,
              "#bd3786"
             ],
             [
              0.5555555555555556,
              "#d8576b"
             ],
             [
              0.6666666666666666,
              "#ed7953"
             ],
             [
              0.7777777777777778,
              "#fb9f3a"
             ],
             [
              0.8888888888888888,
              "#fdca26"
             ],
             [
              1,
              "#f0f921"
             ]
            ],
            "type": "heatmap"
           }
          ],
          "heatmapgl": [
           {
            "colorbar": {
             "outlinewidth": 0,
             "ticks": ""
            },
            "colorscale": [
             [
              0,
              "#0d0887"
             ],
             [
              0.1111111111111111,
              "#46039f"
             ],
             [
              0.2222222222222222,
              "#7201a8"
             ],
             [
              0.3333333333333333,
              "#9c179e"
             ],
             [
              0.4444444444444444,
              "#bd3786"
             ],
             [
              0.5555555555555556,
              "#d8576b"
             ],
             [
              0.6666666666666666,
              "#ed7953"
             ],
             [
              0.7777777777777778,
              "#fb9f3a"
             ],
             [
              0.8888888888888888,
              "#fdca26"
             ],
             [
              1,
              "#f0f921"
             ]
            ],
            "type": "heatmapgl"
           }
          ],
          "histogram": [
           {
            "marker": {
             "pattern": {
              "fillmode": "overlay",
              "size": 10,
              "solidity": 0.2
             }
            },
            "type": "histogram"
           }
          ],
          "histogram2d": [
           {
            "colorbar": {
             "outlinewidth": 0,
             "ticks": ""
            },
            "colorscale": [
             [
              0,
              "#0d0887"
             ],
             [
              0.1111111111111111,
              "#46039f"
             ],
             [
              0.2222222222222222,
              "#7201a8"
             ],
             [
              0.3333333333333333,
              "#9c179e"
             ],
             [
              0.4444444444444444,
              "#bd3786"
             ],
             [
              0.5555555555555556,
              "#d8576b"
             ],
             [
              0.6666666666666666,
              "#ed7953"
             ],
             [
              0.7777777777777778,
              "#fb9f3a"
             ],
             [
              0.8888888888888888,
              "#fdca26"
             ],
             [
              1,
              "#f0f921"
             ]
            ],
            "type": "histogram2d"
           }
          ],
          "histogram2dcontour": [
           {
            "colorbar": {
             "outlinewidth": 0,
             "ticks": ""
            },
            "colorscale": [
             [
              0,
              "#0d0887"
             ],
             [
              0.1111111111111111,
              "#46039f"
             ],
             [
              0.2222222222222222,
              "#7201a8"
             ],
             [
              0.3333333333333333,
              "#9c179e"
             ],
             [
              0.4444444444444444,
              "#bd3786"
             ],
             [
              0.5555555555555556,
              "#d8576b"
             ],
             [
              0.6666666666666666,
              "#ed7953"
             ],
             [
              0.7777777777777778,
              "#fb9f3a"
             ],
             [
              0.8888888888888888,
              "#fdca26"
             ],
             [
              1,
              "#f0f921"
             ]
            ],
            "type": "histogram2dcontour"
           }
          ],
          "mesh3d": [
           {
            "colorbar": {
             "outlinewidth": 0,
             "ticks": ""
            },
            "type": "mesh3d"
           }
          ],
          "parcoords": [
           {
            "line": {
             "colorbar": {
              "outlinewidth": 0,
              "ticks": ""
             }
            },
            "type": "parcoords"
           }
          ],
          "pie": [
           {
            "automargin": true,
            "type": "pie"
           }
          ],
          "scatter": [
           {
            "fillpattern": {
             "fillmode": "overlay",
             "size": 10,
             "solidity": 0.2
            },
            "type": "scatter"
           }
          ],
          "scatter3d": [
           {
            "line": {
             "colorbar": {
              "outlinewidth": 0,
              "ticks": ""
             }
            },
            "marker": {
             "colorbar": {
              "outlinewidth": 0,
              "ticks": ""
             }
            },
            "type": "scatter3d"
           }
          ],
          "scattercarpet": [
           {
            "marker": {
             "colorbar": {
              "outlinewidth": 0,
              "ticks": ""
             }
            },
            "type": "scattercarpet"
           }
          ],
          "scattergeo": [
           {
            "marker": {
             "colorbar": {
              "outlinewidth": 0,
              "ticks": ""
             }
            },
            "type": "scattergeo"
           }
          ],
          "scattergl": [
           {
            "marker": {
             "colorbar": {
              "outlinewidth": 0,
              "ticks": ""
             }
            },
            "type": "scattergl"
           }
          ],
          "scattermapbox": [
           {
            "marker": {
             "colorbar": {
              "outlinewidth": 0,
              "ticks": ""
             }
            },
            "type": "scattermapbox"
           }
          ],
          "scatterpolar": [
           {
            "marker": {
             "colorbar": {
              "outlinewidth": 0,
              "ticks": ""
             }
            },
            "type": "scatterpolar"
           }
          ],
          "scatterpolargl": [
           {
            "marker": {
             "colorbar": {
              "outlinewidth": 0,
              "ticks": ""
             }
            },
            "type": "scatterpolargl"
           }
          ],
          "scatterternary": [
           {
            "marker": {
             "colorbar": {
              "outlinewidth": 0,
              "ticks": ""
             }
            },
            "type": "scatterternary"
           }
          ],
          "surface": [
           {
            "colorbar": {
             "outlinewidth": 0,
             "ticks": ""
            },
            "colorscale": [
             [
              0,
              "#0d0887"
             ],
             [
              0.1111111111111111,
              "#46039f"
             ],
             [
              0.2222222222222222,
              "#7201a8"
             ],
             [
              0.3333333333333333,
              "#9c179e"
             ],
             [
              0.4444444444444444,
              "#bd3786"
             ],
             [
              0.5555555555555556,
              "#d8576b"
             ],
             [
              0.6666666666666666,
              "#ed7953"
             ],
             [
              0.7777777777777778,
              "#fb9f3a"
             ],
             [
              0.8888888888888888,
              "#fdca26"
             ],
             [
              1,
              "#f0f921"
             ]
            ],
            "type": "surface"
           }
          ],
          "table": [
           {
            "cells": {
             "fill": {
              "color": "#EBF0F8"
             },
             "line": {
              "color": "white"
             }
            },
            "header": {
             "fill": {
              "color": "#C8D4E3"
             },
             "line": {
              "color": "white"
             }
            },
            "type": "table"
           }
          ]
         },
         "layout": {
          "annotationdefaults": {
           "arrowcolor": "#2a3f5f",
           "arrowhead": 0,
           "arrowwidth": 1
          },
          "autotypenumbers": "strict",
          "coloraxis": {
           "colorbar": {
            "outlinewidth": 0,
            "ticks": ""
           }
          },
          "colorscale": {
           "diverging": [
            [
             0,
             "#8e0152"
            ],
            [
             0.1,
             "#c51b7d"
            ],
            [
             0.2,
             "#de77ae"
            ],
            [
             0.3,
             "#f1b6da"
            ],
            [
             0.4,
             "#fde0ef"
            ],
            [
             0.5,
             "#f7f7f7"
            ],
            [
             0.6,
             "#e6f5d0"
            ],
            [
             0.7,
             "#b8e186"
            ],
            [
             0.8,
             "#7fbc41"
            ],
            [
             0.9,
             "#4d9221"
            ],
            [
             1,
             "#276419"
            ]
           ],
           "sequential": [
            [
             0,
             "#0d0887"
            ],
            [
             0.1111111111111111,
             "#46039f"
            ],
            [
             0.2222222222222222,
             "#7201a8"
            ],
            [
             0.3333333333333333,
             "#9c179e"
            ],
            [
             0.4444444444444444,
             "#bd3786"
            ],
            [
             0.5555555555555556,
             "#d8576b"
            ],
            [
             0.6666666666666666,
             "#ed7953"
            ],
            [
             0.7777777777777778,
             "#fb9f3a"
            ],
            [
             0.8888888888888888,
             "#fdca26"
            ],
            [
             1,
             "#f0f921"
            ]
           ],
           "sequentialminus": [
            [
             0,
             "#0d0887"
            ],
            [
             0.1111111111111111,
             "#46039f"
            ],
            [
             0.2222222222222222,
             "#7201a8"
            ],
            [
             0.3333333333333333,
             "#9c179e"
            ],
            [
             0.4444444444444444,
             "#bd3786"
            ],
            [
             0.5555555555555556,
             "#d8576b"
            ],
            [
             0.6666666666666666,
             "#ed7953"
            ],
            [
             0.7777777777777778,
             "#fb9f3a"
            ],
            [
             0.8888888888888888,
             "#fdca26"
            ],
            [
             1,
             "#f0f921"
            ]
           ]
          },
          "colorway": [
           "#636efa",
           "#EF553B",
           "#00cc96",
           "#ab63fa",
           "#FFA15A",
           "#19d3f3",
           "#FF6692",
           "#B6E880",
           "#FF97FF",
           "#FECB52"
          ],
          "font": {
           "color": "#2a3f5f"
          },
          "geo": {
           "bgcolor": "white",
           "lakecolor": "white",
           "landcolor": "#E5ECF6",
           "showlakes": true,
           "showland": true,
           "subunitcolor": "white"
          },
          "hoverlabel": {
           "align": "left"
          },
          "hovermode": "closest",
          "mapbox": {
           "style": "light"
          },
          "paper_bgcolor": "white",
          "plot_bgcolor": "#E5ECF6",
          "polar": {
           "angularaxis": {
            "gridcolor": "white",
            "linecolor": "white",
            "ticks": ""
           },
           "bgcolor": "#E5ECF6",
           "radialaxis": {
            "gridcolor": "white",
            "linecolor": "white",
            "ticks": ""
           }
          },
          "scene": {
           "xaxis": {
            "backgroundcolor": "#E5ECF6",
            "gridcolor": "white",
            "gridwidth": 2,
            "linecolor": "white",
            "showbackground": true,
            "ticks": "",
            "zerolinecolor": "white"
           },
           "yaxis": {
            "backgroundcolor": "#E5ECF6",
            "gridcolor": "white",
            "gridwidth": 2,
            "linecolor": "white",
            "showbackground": true,
            "ticks": "",
            "zerolinecolor": "white"
           },
           "zaxis": {
            "backgroundcolor": "#E5ECF6",
            "gridcolor": "white",
            "gridwidth": 2,
            "linecolor": "white",
            "showbackground": true,
            "ticks": "",
            "zerolinecolor": "white"
           }
          },
          "shapedefaults": {
           "line": {
            "color": "#2a3f5f"
           }
          },
          "ternary": {
           "aaxis": {
            "gridcolor": "white",
            "linecolor": "white",
            "ticks": ""
           },
           "baxis": {
            "gridcolor": "white",
            "linecolor": "white",
            "ticks": ""
           },
           "bgcolor": "#E5ECF6",
           "caxis": {
            "gridcolor": "white",
            "linecolor": "white",
            "ticks": ""
           }
          },
          "title": {
           "x": 0.05
          },
          "xaxis": {
           "automargin": true,
           "gridcolor": "white",
           "linecolor": "white",
           "ticks": "",
           "title": {
            "standoff": 15
           },
           "zerolinecolor": "white",
           "zerolinewidth": 2
          },
          "yaxis": {
           "automargin": true,
           "gridcolor": "white",
           "linecolor": "white",
           "ticks": "",
           "title": {
            "standoff": 15
           },
           "zerolinecolor": "white",
           "zerolinewidth": 2
          }
         }
        },
        "xaxis": {
         "anchor": "y",
         "constrain": "domain",
         "domain": [
          0,
          1
         ],
         "scaleanchor": "y"
        },
        "yaxis": {
         "anchor": "x",
         "autorange": "reversed",
         "constrain": "domain",
         "domain": [
          0,
          1
         ]
        }
       }
      }
     },
     "metadata": {},
     "output_type": "display_data"
    }
   ],
   "source": [
    "px.imshow(mat_df.corr(numeric_only=True))\n",
    "px.imshow(por_df.corr(numeric_only=True))"
   ]
  },
  {
   "cell_type": "markdown",
   "metadata": {},
   "source": [
    "### Data merging"
   ]
  },
  {
   "cell_type": "code",
   "execution_count": 8,
   "metadata": {},
   "outputs": [],
   "source": [
    "merging_colums = ['school','sex','age','address','famsize','Pstatus','Medu','Fedu','Mjob','Fjob','reason','nursery','internet']"
   ]
  },
  {
   "cell_type": "code",
   "execution_count": 9,
   "metadata": {},
   "outputs": [],
   "source": [
    "left_mixed_df = pd.merge(por_df,mat_df,'left', on=merging_colums)\n",
    "\n",
    "# uncomment to save data file\n",
    "# left_mixed_df.to_csv('data/student-merge-left.csv')"
   ]
  },
  {
   "cell_type": "code",
   "execution_count": 10,
   "metadata": {},
   "outputs": [],
   "source": [
    "inner_mixed_df = pd.merge(por_df,mat_df,'inner', on=merging_colums)\n",
    "\n",
    "# uncomment to save data file\n",
    "# inner_mixed_df.to_csv('data/student-merge-inner.csv')"
   ]
  },
  {
   "cell_type": "code",
   "execution_count": 11,
   "metadata": {},
   "outputs": [
    {
     "data": {
      "text/html": [
       "<div>\n",
       "<style scoped>\n",
       "    .dataframe tbody tr th:only-of-type {\n",
       "        vertical-align: middle;\n",
       "    }\n",
       "\n",
       "    .dataframe tbody tr th {\n",
       "        vertical-align: top;\n",
       "    }\n",
       "\n",
       "    .dataframe thead th {\n",
       "        text-align: right;\n",
       "    }\n",
       "</style>\n",
       "<table border=\"1\" class=\"dataframe\">\n",
       "  <thead>\n",
       "    <tr style=\"text-align: right;\">\n",
       "      <th></th>\n",
       "      <th>Dalc_x</th>\n",
       "      <th>Dalc_y</th>\n",
       "      <th>G1_x</th>\n",
       "      <th>G1_y</th>\n",
       "      <th>G2_x</th>\n",
       "      <th>G2_y</th>\n",
       "      <th>G3_x</th>\n",
       "      <th>G3_y</th>\n",
       "      <th>Walc_x</th>\n",
       "      <th>Walc_y</th>\n",
       "      <th>...</th>\n",
       "      <th>paid_x</th>\n",
       "      <th>paid_y</th>\n",
       "      <th>romantic_x</th>\n",
       "      <th>romantic_y</th>\n",
       "      <th>schoolsup_x</th>\n",
       "      <th>schoolsup_y</th>\n",
       "      <th>studytime_x</th>\n",
       "      <th>studytime_y</th>\n",
       "      <th>traveltime_x</th>\n",
       "      <th>traveltime_y</th>\n",
       "    </tr>\n",
       "  </thead>\n",
       "  <tbody>\n",
       "    <tr>\n",
       "      <th>0</th>\n",
       "      <td>1</td>\n",
       "      <td>1</td>\n",
       "      <td>0</td>\n",
       "      <td>5</td>\n",
       "      <td>11</td>\n",
       "      <td>6</td>\n",
       "      <td>11</td>\n",
       "      <td>6</td>\n",
       "      <td>1</td>\n",
       "      <td>1</td>\n",
       "      <td>...</td>\n",
       "      <td>no</td>\n",
       "      <td>no</td>\n",
       "      <td>no</td>\n",
       "      <td>no</td>\n",
       "      <td>yes</td>\n",
       "      <td>yes</td>\n",
       "      <td>2</td>\n",
       "      <td>2</td>\n",
       "      <td>2</td>\n",
       "      <td>2</td>\n",
       "    </tr>\n",
       "    <tr>\n",
       "      <th>1</th>\n",
       "      <td>1</td>\n",
       "      <td>1</td>\n",
       "      <td>9</td>\n",
       "      <td>5</td>\n",
       "      <td>11</td>\n",
       "      <td>5</td>\n",
       "      <td>11</td>\n",
       "      <td>6</td>\n",
       "      <td>1</td>\n",
       "      <td>1</td>\n",
       "      <td>...</td>\n",
       "      <td>no</td>\n",
       "      <td>no</td>\n",
       "      <td>no</td>\n",
       "      <td>no</td>\n",
       "      <td>no</td>\n",
       "      <td>no</td>\n",
       "      <td>2</td>\n",
       "      <td>2</td>\n",
       "      <td>1</td>\n",
       "      <td>1</td>\n",
       "    </tr>\n",
       "    <tr>\n",
       "      <th>2</th>\n",
       "      <td>2</td>\n",
       "      <td>2</td>\n",
       "      <td>12</td>\n",
       "      <td>7</td>\n",
       "      <td>13</td>\n",
       "      <td>8</td>\n",
       "      <td>12</td>\n",
       "      <td>10</td>\n",
       "      <td>3</td>\n",
       "      <td>3</td>\n",
       "      <td>...</td>\n",
       "      <td>no</td>\n",
       "      <td>yes</td>\n",
       "      <td>no</td>\n",
       "      <td>no</td>\n",
       "      <td>yes</td>\n",
       "      <td>yes</td>\n",
       "      <td>2</td>\n",
       "      <td>2</td>\n",
       "      <td>1</td>\n",
       "      <td>1</td>\n",
       "    </tr>\n",
       "    <tr>\n",
       "      <th>3</th>\n",
       "      <td>1</td>\n",
       "      <td>1</td>\n",
       "      <td>14</td>\n",
       "      <td>15</td>\n",
       "      <td>14</td>\n",
       "      <td>14</td>\n",
       "      <td>14</td>\n",
       "      <td>15</td>\n",
       "      <td>1</td>\n",
       "      <td>1</td>\n",
       "      <td>...</td>\n",
       "      <td>no</td>\n",
       "      <td>yes</td>\n",
       "      <td>yes</td>\n",
       "      <td>yes</td>\n",
       "      <td>no</td>\n",
       "      <td>no</td>\n",
       "      <td>3</td>\n",
       "      <td>3</td>\n",
       "      <td>1</td>\n",
       "      <td>1</td>\n",
       "    </tr>\n",
       "    <tr>\n",
       "      <th>4</th>\n",
       "      <td>1</td>\n",
       "      <td>1</td>\n",
       "      <td>11</td>\n",
       "      <td>6</td>\n",
       "      <td>13</td>\n",
       "      <td>10</td>\n",
       "      <td>13</td>\n",
       "      <td>10</td>\n",
       "      <td>2</td>\n",
       "      <td>2</td>\n",
       "      <td>...</td>\n",
       "      <td>no</td>\n",
       "      <td>yes</td>\n",
       "      <td>no</td>\n",
       "      <td>no</td>\n",
       "      <td>no</td>\n",
       "      <td>no</td>\n",
       "      <td>2</td>\n",
       "      <td>2</td>\n",
       "      <td>1</td>\n",
       "      <td>1</td>\n",
       "    </tr>\n",
       "    <tr>\n",
       "      <th>...</th>\n",
       "      <td>...</td>\n",
       "      <td>...</td>\n",
       "      <td>...</td>\n",
       "      <td>...</td>\n",
       "      <td>...</td>\n",
       "      <td>...</td>\n",
       "      <td>...</td>\n",
       "      <td>...</td>\n",
       "      <td>...</td>\n",
       "      <td>...</td>\n",
       "      <td>...</td>\n",
       "      <td>...</td>\n",
       "      <td>...</td>\n",
       "      <td>...</td>\n",
       "      <td>...</td>\n",
       "      <td>...</td>\n",
       "      <td>...</td>\n",
       "      <td>...</td>\n",
       "      <td>...</td>\n",
       "      <td>...</td>\n",
       "      <td>...</td>\n",
       "    </tr>\n",
       "    <tr>\n",
       "      <th>377</th>\n",
       "      <td>1</td>\n",
       "      <td>1</td>\n",
       "      <td>10</td>\n",
       "      <td>7</td>\n",
       "      <td>11</td>\n",
       "      <td>5</td>\n",
       "      <td>10</td>\n",
       "      <td>0</td>\n",
       "      <td>2</td>\n",
       "      <td>2</td>\n",
       "      <td>...</td>\n",
       "      <td>no</td>\n",
       "      <td>no</td>\n",
       "      <td>no</td>\n",
       "      <td>no</td>\n",
       "      <td>no</td>\n",
       "      <td>no</td>\n",
       "      <td>3</td>\n",
       "      <td>3</td>\n",
       "      <td>1</td>\n",
       "      <td>1</td>\n",
       "    </tr>\n",
       "    <tr>\n",
       "      <th>378</th>\n",
       "      <td>1</td>\n",
       "      <td>1</td>\n",
       "      <td>15</td>\n",
       "      <td>7</td>\n",
       "      <td>15</td>\n",
       "      <td>9</td>\n",
       "      <td>16</td>\n",
       "      <td>8</td>\n",
       "      <td>1</td>\n",
       "      <td>1</td>\n",
       "      <td>...</td>\n",
       "      <td>no</td>\n",
       "      <td>yes</td>\n",
       "      <td>no</td>\n",
       "      <td>no</td>\n",
       "      <td>no</td>\n",
       "      <td>no</td>\n",
       "      <td>2</td>\n",
       "      <td>2</td>\n",
       "      <td>1</td>\n",
       "      <td>1</td>\n",
       "    </tr>\n",
       "    <tr>\n",
       "      <th>379</th>\n",
       "      <td>1</td>\n",
       "      <td>1</td>\n",
       "      <td>11</td>\n",
       "      <td>6</td>\n",
       "      <td>12</td>\n",
       "      <td>5</td>\n",
       "      <td>9</td>\n",
       "      <td>0</td>\n",
       "      <td>1</td>\n",
       "      <td>1</td>\n",
       "      <td>...</td>\n",
       "      <td>no</td>\n",
       "      <td>no</td>\n",
       "      <td>no</td>\n",
       "      <td>no</td>\n",
       "      <td>no</td>\n",
       "      <td>no</td>\n",
       "      <td>2</td>\n",
       "      <td>2</td>\n",
       "      <td>2</td>\n",
       "      <td>2</td>\n",
       "    </tr>\n",
       "    <tr>\n",
       "      <th>380</th>\n",
       "      <td>3</td>\n",
       "      <td>3</td>\n",
       "      <td>10</td>\n",
       "      <td>14</td>\n",
       "      <td>10</td>\n",
       "      <td>16</td>\n",
       "      <td>10</td>\n",
       "      <td>16</td>\n",
       "      <td>4</td>\n",
       "      <td>4</td>\n",
       "      <td>...</td>\n",
       "      <td>no</td>\n",
       "      <td>no</td>\n",
       "      <td>no</td>\n",
       "      <td>no</td>\n",
       "      <td>no</td>\n",
       "      <td>no</td>\n",
       "      <td>1</td>\n",
       "      <td>1</td>\n",
       "      <td>2</td>\n",
       "      <td>2</td>\n",
       "    </tr>\n",
       "    <tr>\n",
       "      <th>381</th>\n",
       "      <td>3</td>\n",
       "      <td>3</td>\n",
       "      <td>10</td>\n",
       "      <td>11</td>\n",
       "      <td>11</td>\n",
       "      <td>12</td>\n",
       "      <td>11</td>\n",
       "      <td>10</td>\n",
       "      <td>4</td>\n",
       "      <td>4</td>\n",
       "      <td>...</td>\n",
       "      <td>no</td>\n",
       "      <td>no</td>\n",
       "      <td>no</td>\n",
       "      <td>no</td>\n",
       "      <td>no</td>\n",
       "      <td>no</td>\n",
       "      <td>1</td>\n",
       "      <td>1</td>\n",
       "      <td>3</td>\n",
       "      <td>3</td>\n",
       "    </tr>\n",
       "  </tbody>\n",
       "</table>\n",
       "<p>344 rows × 40 columns</p>\n",
       "</div>"
      ],
      "text/plain": [
       "     Dalc_x  Dalc_y  G1_x  G1_y  G2_x  G2_y  G3_x  G3_y  Walc_x  Walc_y  ...  \\\n",
       "0         1       1     0     5    11     6    11     6       1       1  ...   \n",
       "1         1       1     9     5    11     5    11     6       1       1  ...   \n",
       "2         2       2    12     7    13     8    12    10       3       3  ...   \n",
       "3         1       1    14    15    14    14    14    15       1       1  ...   \n",
       "4         1       1    11     6    13    10    13    10       2       2  ...   \n",
       "..      ...     ...   ...   ...   ...   ...   ...   ...     ...     ...  ...   \n",
       "377       1       1    10     7    11     5    10     0       2       2  ...   \n",
       "378       1       1    15     7    15     9    16     8       1       1  ...   \n",
       "379       1       1    11     6    12     5     9     0       1       1  ...   \n",
       "380       3       3    10    14    10    16    10    16       4       4  ...   \n",
       "381       3       3    10    11    11    12    11    10       4       4  ...   \n",
       "\n",
       "     paid_x  paid_y romantic_x romantic_y  schoolsup_x  schoolsup_y  \\\n",
       "0        no      no         no         no          yes          yes   \n",
       "1        no      no         no         no           no           no   \n",
       "2        no     yes         no         no          yes          yes   \n",
       "3        no     yes        yes        yes           no           no   \n",
       "4        no     yes         no         no           no           no   \n",
       "..      ...     ...        ...        ...          ...          ...   \n",
       "377      no      no         no         no           no           no   \n",
       "378      no     yes         no         no           no           no   \n",
       "379      no      no         no         no           no           no   \n",
       "380      no      no         no         no           no           no   \n",
       "381      no      no         no         no           no           no   \n",
       "\n",
       "     studytime_x  studytime_y traveltime_x traveltime_y  \n",
       "0              2            2            2            2  \n",
       "1              2            2            1            1  \n",
       "2              2            2            1            1  \n",
       "3              3            3            1            1  \n",
       "4              2            2            1            1  \n",
       "..           ...          ...          ...          ...  \n",
       "377            3            3            1            1  \n",
       "378            2            2            1            1  \n",
       "379            2            2            2            2  \n",
       "380            1            1            2            2  \n",
       "381            1            1            3            3  \n",
       "\n",
       "[344 rows x 40 columns]"
      ]
     },
     "execution_count": 11,
     "metadata": {},
     "output_type": "execute_result"
    }
   ],
   "source": [
    "def check_contraditories(df:pd.DataFrame, columns='all'):\n",
    "    # This cell checks for contraditory values within the merged dataset\n",
    "    double_columns = [x for x in list(por_df.columns) if x not in merging_colums]\n",
    "    check_columns = columns if columns != 'all' else double_columns\n",
    "    df = pd.DataFrame(inner_mixed_df).copy()\n",
    "\n",
    "    for column in check_columns: \n",
    "        df['equal'] = df[str(column)+'_x'] == df[str(column)+'_y'] # TODO: fix overwriting after each column \n",
    "        \n",
    "        # anticipate that the following attributes from student-por also apply for student-mat\n",
    "        # df[str(column)+'_y'] = df[str(column)+'_y'].combine_first(df[str(column)+'_x'])\n",
    "\n",
    "    xy_columns = []\n",
    "    xy_columns.extend([str(column)+'_x' for column in check_columns])\n",
    "    xy_columns.extend([str(column)+'_y' for column in check_columns])\n",
    "    xy_columns.sort()\n",
    "    return df[xy_columns][df['equal'] == False]\n",
    "\n",
    "check_contraditories(inner_mixed_df)"
   ]
  },
  {
   "cell_type": "code",
   "execution_count": 12,
   "metadata": {},
   "outputs": [
    {
     "data": {
      "text/html": [
       "<div>\n",
       "<style scoped>\n",
       "    .dataframe tbody tr th:only-of-type {\n",
       "        vertical-align: middle;\n",
       "    }\n",
       "\n",
       "    .dataframe tbody tr th {\n",
       "        vertical-align: top;\n",
       "    }\n",
       "\n",
       "    .dataframe thead th {\n",
       "        text-align: right;\n",
       "    }\n",
       "</style>\n",
       "<table border=\"1\" class=\"dataframe\">\n",
       "  <thead>\n",
       "    <tr style=\"text-align: right;\">\n",
       "      <th></th>\n",
       "      <th>table name</th>\n",
       "      <th>table size</th>\n",
       "      <th>number of columns</th>\n",
       "      <th>average missing values per column</th>\n",
       "    </tr>\n",
       "  </thead>\n",
       "  <tbody>\n",
       "    <tr>\n",
       "      <th>0</th>\n",
       "      <td>mat_df</td>\n",
       "      <td>395</td>\n",
       "      <td>33</td>\n",
       "      <td>0.000000</td>\n",
       "    </tr>\n",
       "    <tr>\n",
       "      <th>1</th>\n",
       "      <td>por_df</td>\n",
       "      <td>649</td>\n",
       "      <td>33</td>\n",
       "      <td>0.000000</td>\n",
       "    </tr>\n",
       "    <tr>\n",
       "      <th>0</th>\n",
       "      <td>inner_mixed_df</td>\n",
       "      <td>382</td>\n",
       "      <td>53</td>\n",
       "      <td>0.000000</td>\n",
       "    </tr>\n",
       "    <tr>\n",
       "      <th>0</th>\n",
       "      <td>left_mixed_df</td>\n",
       "      <td>657</td>\n",
       "      <td>53</td>\n",
       "      <td>103.773585</td>\n",
       "    </tr>\n",
       "  </tbody>\n",
       "</table>\n",
       "</div>"
      ],
      "text/plain": [
       "       table name  table size  number of columns  \\\n",
       "0          mat_df         395                 33   \n",
       "1          por_df         649                 33   \n",
       "0  inner_mixed_df         382                 53   \n",
       "0   left_mixed_df         657                 53   \n",
       "\n",
       "   average missing values per column  \n",
       "0                           0.000000  \n",
       "1                           0.000000  \n",
       "0                           0.000000  \n",
       "0                         103.773585  "
      ]
     },
     "execution_count": 12,
     "metadata": {},
     "output_type": "execute_result"
    }
   ],
   "source": [
    "inner_mixed_info_series = pd.DataFrame([['inner_mixed_df', len(inner_mixed_df), len(inner_mixed_df.columns), np.mean(inner_mixed_df.isnull().sum())]], \n",
    "                                      columns=['table name', 'table size', 'number of columns', 'average missing values per column'])\n",
    "left_mixed_info_series = pd.DataFrame([['left_mixed_df', len(left_mixed_df), len(left_mixed_df.columns), np.mean(left_mixed_df.isnull().sum())]], \n",
    "                                      columns=['table name', 'table size', 'number of columns', 'average missing values per column'])\n",
    "info_df = pd.concat([info_df, inner_mixed_info_series, left_mixed_info_series])\n",
    "info_df"
   ]
  },
  {
   "cell_type": "markdown",
   "metadata": {},
   "source": [
    "## Data analysis"
   ]
  },
  {
   "cell_type": "markdown",
   "metadata": {},
   "source": [
    "### Individuelle und strukturelle Faktoren"
   ]
  },
  {
   "cell_type": "markdown",
   "metadata": {},
   "source": [
    "#### Individuelle Faktoren"
   ]
  },
  {
   "cell_type": "code",
   "execution_count": 13,
   "metadata": {},
   "outputs": [
    {
     "name": "stdout",
     "output_type": "stream",
     "text": [
      "0.01 % of contradictory values\n",
      "0.03 % of contradictory values\n"
     ]
    },
    {
     "name": "stderr",
     "output_type": "stream",
     "text": [
      "/var/folders/6k/h0g52s0n37j4cs9f4jx9fxz40000gn/T/ipykernel_52399/2668494348.py:23: FutureWarning:\n",
      "\n",
      "The default of observed=False is deprecated and will be changed to True in a future version of pandas. Pass observed=False to retain current behavior or observed=True to adopt the future default and silence this warning.\n",
      "\n"
     ]
    },
    {
     "data": {
      "text/html": [
       "<div>\n",
       "<style scoped>\n",
       "    .dataframe tbody tr th:only-of-type {\n",
       "        vertical-align: middle;\n",
       "    }\n",
       "\n",
       "    .dataframe tbody tr th {\n",
       "        vertical-align: top;\n",
       "    }\n",
       "\n",
       "    .dataframe thead th {\n",
       "        text-align: right;\n",
       "    }\n",
       "</style>\n",
       "<table border=\"1\" class=\"dataframe\">\n",
       "  <thead>\n",
       "    <tr style=\"text-align: right;\">\n",
       "      <th></th>\n",
       "      <th>g3_range</th>\n",
       "      <th>dalc</th>\n",
       "      <th>walc</th>\n",
       "    </tr>\n",
       "  </thead>\n",
       "  <tbody>\n",
       "    <tr>\n",
       "      <th>0</th>\n",
       "      <td>(2, 4]</td>\n",
       "      <td>2.0</td>\n",
       "      <td>3.0</td>\n",
       "    </tr>\n",
       "    <tr>\n",
       "      <th>1</th>\n",
       "      <td>(4, 6]</td>\n",
       "      <td>1.0</td>\n",
       "      <td>1.0</td>\n",
       "    </tr>\n",
       "    <tr>\n",
       "      <th>2</th>\n",
       "      <td>(6, 8]</td>\n",
       "      <td>1.0</td>\n",
       "      <td>2.0</td>\n",
       "    </tr>\n",
       "    <tr>\n",
       "      <th>3</th>\n",
       "      <td>(8, 10]</td>\n",
       "      <td>1.0</td>\n",
       "      <td>2.0</td>\n",
       "    </tr>\n",
       "    <tr>\n",
       "      <th>4</th>\n",
       "      <td>(10, 12]</td>\n",
       "      <td>1.0</td>\n",
       "      <td>2.0</td>\n",
       "    </tr>\n",
       "    <tr>\n",
       "      <th>5</th>\n",
       "      <td>(12, 14]</td>\n",
       "      <td>1.0</td>\n",
       "      <td>2.0</td>\n",
       "    </tr>\n",
       "    <tr>\n",
       "      <th>6</th>\n",
       "      <td>(14, 16]</td>\n",
       "      <td>1.0</td>\n",
       "      <td>1.5</td>\n",
       "    </tr>\n",
       "    <tr>\n",
       "      <th>7</th>\n",
       "      <td>(16, 18]</td>\n",
       "      <td>1.0</td>\n",
       "      <td>1.5</td>\n",
       "    </tr>\n",
       "    <tr>\n",
       "      <th>8</th>\n",
       "      <td>(18, 20]</td>\n",
       "      <td>1.0</td>\n",
       "      <td>1.0</td>\n",
       "    </tr>\n",
       "  </tbody>\n",
       "</table>\n",
       "</div>"
      ],
      "text/plain": [
       "   g3_range  dalc  walc\n",
       "0    (2, 4]   2.0   3.0\n",
       "1    (4, 6]   1.0   1.0\n",
       "2    (6, 8]   1.0   2.0\n",
       "3   (8, 10]   1.0   2.0\n",
       "4  (10, 12]   1.0   2.0\n",
       "5  (12, 14]   1.0   2.0\n",
       "6  (14, 16]   1.0   1.5\n",
       "7  (16, 18]   1.0   1.5\n",
       "8  (18, 20]   1.0   1.0"
      ]
     },
     "execution_count": 13,
     "metadata": {},
     "output_type": "execute_result"
    }
   ],
   "source": [
    "# g3 groups are the median of both g3 points\n",
    "stacked_bar_df = pd.DataFrame()\n",
    "stacked_bar_df['g3'] = pd.concat([inner_mixed_df['G3_x'], inner_mixed_df['G3_y']], axis=1).median(axis=1).astype(float)\n",
    "\n",
    "# check contradictories\n",
    "result = check_contraditories(inner_mixed_df, ['Dalc'])\n",
    "print(f'{np.round(len(result) / len(inner_mixed_df),2)} % of contradictory values')\n",
    "result2 = check_contraditories(inner_mixed_df, ['Walc'])\n",
    "print(f'{np.round(len(result2) / len(inner_mixed_df),2)} % of contradictory values')\n",
    "\n",
    "# data filtering\n",
    "stacked_bar_df['dalc'] = pd.concat([inner_mixed_df['Dalc_x'], inner_mixed_df['Dalc_y']], axis=1).median(axis=1)\n",
    "stacked_bar_df['walc'] = pd.concat([inner_mixed_df['Walc_x'], inner_mixed_df['Walc_y']], axis=1).median(axis=1)\n",
    "stacked_bar_df.drop(index=result.index.append(result2.index), inplace=True)\n",
    "\n",
    "# Define the g3 ranges (bins)\n",
    "g3_bins = range(2,22,2)\n",
    "\n",
    "# Create a new column with the bin labels for each g3 value\n",
    "stacked_bar_df['g3_range'] = pd.cut(stacked_bar_df['g3'], bins=g3_bins)\n",
    "\n",
    "# Group by the g3_range column and compute the median dalc and walc\n",
    "stacked_bar_df = stacked_bar_df.groupby('g3_range')[['dalc', 'walc']].median().reset_index()\n",
    "\n",
    "# Convert the Interval objects in the 'g3_range' column to strings\n",
    "stacked_bar_df['g3_range'] = stacked_bar_df['g3_range'].astype(str)\n",
    "stacked_bar_df"
   ]
  },
  {
   "cell_type": "code",
   "execution_count": 14,
   "metadata": {},
   "outputs": [
    {
     "data": {
      "application/vnd.plotly.v1+json": {
       "config": {
        "plotlyServerURL": "https://plot.ly"
       },
       "data": [
        {
         "marker": {
          "color": "#B11226"
         },
         "name": "Alkoholkonsum an Werktagen",
         "type": "bar",
         "width": 0.7,
         "x": [
          "(2, 4]",
          "(4, 6]",
          "(6, 8]",
          "(8, 10]",
          "(10, 12]",
          "(12, 14]",
          "(14, 16]",
          "(16, 18]",
          "(18, 20]"
         ],
         "y": [
          2,
          1,
          1,
          1,
          1,
          1,
          1,
          1,
          1
         ]
        },
        {
         "marker": {
          "color": "#FBB117"
         },
         "name": "Alkoholkonsum am Wochenende",
         "type": "bar",
         "width": 0.7,
         "x": [
          "(2, 4]",
          "(4, 6]",
          "(6, 8]",
          "(8, 10]",
          "(10, 12]",
          "(12, 14]",
          "(14, 16]",
          "(16, 18]",
          "(18, 20]"
         ],
         "y": [
          3,
          1,
          2,
          2,
          2,
          2,
          1.5,
          1.5,
          1
         ]
        }
       ],
       "layout": {
        "barmode": "stack",
        "height": 700,
        "legend": {
         "font": {
          "size": 14
         },
         "orientation": "v",
         "title": {
          "text": ""
         },
         "traceorder": "normal",
         "x": 0.75,
         "y": 1.1
        },
        "margin": {
         "b": 50,
         "l": 50,
         "r": 20,
         "t": 10
        },
        "template": {
         "data": {
          "bar": [
           {
            "error_x": {
             "color": "#2a3f5f"
            },
            "error_y": {
             "color": "#2a3f5f"
            },
            "marker": {
             "line": {
              "color": "#E5ECF6",
              "width": 0.5
             },
             "pattern": {
              "fillmode": "overlay",
              "size": 10,
              "solidity": 0.2
             }
            },
            "type": "bar"
           }
          ],
          "barpolar": [
           {
            "marker": {
             "line": {
              "color": "#E5ECF6",
              "width": 0.5
             },
             "pattern": {
              "fillmode": "overlay",
              "size": 10,
              "solidity": 0.2
             }
            },
            "type": "barpolar"
           }
          ],
          "carpet": [
           {
            "aaxis": {
             "endlinecolor": "#2a3f5f",
             "gridcolor": "white",
             "linecolor": "white",
             "minorgridcolor": "white",
             "startlinecolor": "#2a3f5f"
            },
            "baxis": {
             "endlinecolor": "#2a3f5f",
             "gridcolor": "white",
             "linecolor": "white",
             "minorgridcolor": "white",
             "startlinecolor": "#2a3f5f"
            },
            "type": "carpet"
           }
          ],
          "choropleth": [
           {
            "colorbar": {
             "outlinewidth": 0,
             "ticks": ""
            },
            "type": "choropleth"
           }
          ],
          "contour": [
           {
            "colorbar": {
             "outlinewidth": 0,
             "ticks": ""
            },
            "colorscale": [
             [
              0,
              "#0d0887"
             ],
             [
              0.1111111111111111,
              "#46039f"
             ],
             [
              0.2222222222222222,
              "#7201a8"
             ],
             [
              0.3333333333333333,
              "#9c179e"
             ],
             [
              0.4444444444444444,
              "#bd3786"
             ],
             [
              0.5555555555555556,
              "#d8576b"
             ],
             [
              0.6666666666666666,
              "#ed7953"
             ],
             [
              0.7777777777777778,
              "#fb9f3a"
             ],
             [
              0.8888888888888888,
              "#fdca26"
             ],
             [
              1,
              "#f0f921"
             ]
            ],
            "type": "contour"
           }
          ],
          "contourcarpet": [
           {
            "colorbar": {
             "outlinewidth": 0,
             "ticks": ""
            },
            "type": "contourcarpet"
           }
          ],
          "heatmap": [
           {
            "colorbar": {
             "outlinewidth": 0,
             "ticks": ""
            },
            "colorscale": [
             [
              0,
              "#0d0887"
             ],
             [
              0.1111111111111111,
              "#46039f"
             ],
             [
              0.2222222222222222,
              "#7201a8"
             ],
             [
              0.3333333333333333,
              "#9c179e"
             ],
             [
              0.4444444444444444,
              "#bd3786"
             ],
             [
              0.5555555555555556,
              "#d8576b"
             ],
             [
              0.6666666666666666,
              "#ed7953"
             ],
             [
              0.7777777777777778,
              "#fb9f3a"
             ],
             [
              0.8888888888888888,
              "#fdca26"
             ],
             [
              1,
              "#f0f921"
             ]
            ],
            "type": "heatmap"
           }
          ],
          "heatmapgl": [
           {
            "colorbar": {
             "outlinewidth": 0,
             "ticks": ""
            },
            "colorscale": [
             [
              0,
              "#0d0887"
             ],
             [
              0.1111111111111111,
              "#46039f"
             ],
             [
              0.2222222222222222,
              "#7201a8"
             ],
             [
              0.3333333333333333,
              "#9c179e"
             ],
             [
              0.4444444444444444,
              "#bd3786"
             ],
             [
              0.5555555555555556,
              "#d8576b"
             ],
             [
              0.6666666666666666,
              "#ed7953"
             ],
             [
              0.7777777777777778,
              "#fb9f3a"
             ],
             [
              0.8888888888888888,
              "#fdca26"
             ],
             [
              1,
              "#f0f921"
             ]
            ],
            "type": "heatmapgl"
           }
          ],
          "histogram": [
           {
            "marker": {
             "pattern": {
              "fillmode": "overlay",
              "size": 10,
              "solidity": 0.2
             }
            },
            "type": "histogram"
           }
          ],
          "histogram2d": [
           {
            "colorbar": {
             "outlinewidth": 0,
             "ticks": ""
            },
            "colorscale": [
             [
              0,
              "#0d0887"
             ],
             [
              0.1111111111111111,
              "#46039f"
             ],
             [
              0.2222222222222222,
              "#7201a8"
             ],
             [
              0.3333333333333333,
              "#9c179e"
             ],
             [
              0.4444444444444444,
              "#bd3786"
             ],
             [
              0.5555555555555556,
              "#d8576b"
             ],
             [
              0.6666666666666666,
              "#ed7953"
             ],
             [
              0.7777777777777778,
              "#fb9f3a"
             ],
             [
              0.8888888888888888,
              "#fdca26"
             ],
             [
              1,
              "#f0f921"
             ]
            ],
            "type": "histogram2d"
           }
          ],
          "histogram2dcontour": [
           {
            "colorbar": {
             "outlinewidth": 0,
             "ticks": ""
            },
            "colorscale": [
             [
              0,
              "#0d0887"
             ],
             [
              0.1111111111111111,
              "#46039f"
             ],
             [
              0.2222222222222222,
              "#7201a8"
             ],
             [
              0.3333333333333333,
              "#9c179e"
             ],
             [
              0.4444444444444444,
              "#bd3786"
             ],
             [
              0.5555555555555556,
              "#d8576b"
             ],
             [
              0.6666666666666666,
              "#ed7953"
             ],
             [
              0.7777777777777778,
              "#fb9f3a"
             ],
             [
              0.8888888888888888,
              "#fdca26"
             ],
             [
              1,
              "#f0f921"
             ]
            ],
            "type": "histogram2dcontour"
           }
          ],
          "mesh3d": [
           {
            "colorbar": {
             "outlinewidth": 0,
             "ticks": ""
            },
            "type": "mesh3d"
           }
          ],
          "parcoords": [
           {
            "line": {
             "colorbar": {
              "outlinewidth": 0,
              "ticks": ""
             }
            },
            "type": "parcoords"
           }
          ],
          "pie": [
           {
            "automargin": true,
            "type": "pie"
           }
          ],
          "scatter": [
           {
            "fillpattern": {
             "fillmode": "overlay",
             "size": 10,
             "solidity": 0.2
            },
            "type": "scatter"
           }
          ],
          "scatter3d": [
           {
            "line": {
             "colorbar": {
              "outlinewidth": 0,
              "ticks": ""
             }
            },
            "marker": {
             "colorbar": {
              "outlinewidth": 0,
              "ticks": ""
             }
            },
            "type": "scatter3d"
           }
          ],
          "scattercarpet": [
           {
            "marker": {
             "colorbar": {
              "outlinewidth": 0,
              "ticks": ""
             }
            },
            "type": "scattercarpet"
           }
          ],
          "scattergeo": [
           {
            "marker": {
             "colorbar": {
              "outlinewidth": 0,
              "ticks": ""
             }
            },
            "type": "scattergeo"
           }
          ],
          "scattergl": [
           {
            "marker": {
             "colorbar": {
              "outlinewidth": 0,
              "ticks": ""
             }
            },
            "type": "scattergl"
           }
          ],
          "scattermapbox": [
           {
            "marker": {
             "colorbar": {
              "outlinewidth": 0,
              "ticks": ""
             }
            },
            "type": "scattermapbox"
           }
          ],
          "scatterpolar": [
           {
            "marker": {
             "colorbar": {
              "outlinewidth": 0,
              "ticks": ""
             }
            },
            "type": "scatterpolar"
           }
          ],
          "scatterpolargl": [
           {
            "marker": {
             "colorbar": {
              "outlinewidth": 0,
              "ticks": ""
             }
            },
            "type": "scatterpolargl"
           }
          ],
          "scatterternary": [
           {
            "marker": {
             "colorbar": {
              "outlinewidth": 0,
              "ticks": ""
             }
            },
            "type": "scatterternary"
           }
          ],
          "surface": [
           {
            "colorbar": {
             "outlinewidth": 0,
             "ticks": ""
            },
            "colorscale": [
             [
              0,
              "#0d0887"
             ],
             [
              0.1111111111111111,
              "#46039f"
             ],
             [
              0.2222222222222222,
              "#7201a8"
             ],
             [
              0.3333333333333333,
              "#9c179e"
             ],
             [
              0.4444444444444444,
              "#bd3786"
             ],
             [
              0.5555555555555556,
              "#d8576b"
             ],
             [
              0.6666666666666666,
              "#ed7953"
             ],
             [
              0.7777777777777778,
              "#fb9f3a"
             ],
             [
              0.8888888888888888,
              "#fdca26"
             ],
             [
              1,
              "#f0f921"
             ]
            ],
            "type": "surface"
           }
          ],
          "table": [
           {
            "cells": {
             "fill": {
              "color": "#EBF0F8"
             },
             "line": {
              "color": "white"
             }
            },
            "header": {
             "fill": {
              "color": "#C8D4E3"
             },
             "line": {
              "color": "white"
             }
            },
            "type": "table"
           }
          ]
         },
         "layout": {
          "annotationdefaults": {
           "arrowcolor": "#2a3f5f",
           "arrowhead": 0,
           "arrowwidth": 1
          },
          "autotypenumbers": "strict",
          "coloraxis": {
           "colorbar": {
            "outlinewidth": 0,
            "ticks": ""
           }
          },
          "colorscale": {
           "diverging": [
            [
             0,
             "#8e0152"
            ],
            [
             0.1,
             "#c51b7d"
            ],
            [
             0.2,
             "#de77ae"
            ],
            [
             0.3,
             "#f1b6da"
            ],
            [
             0.4,
             "#fde0ef"
            ],
            [
             0.5,
             "#f7f7f7"
            ],
            [
             0.6,
             "#e6f5d0"
            ],
            [
             0.7,
             "#b8e186"
            ],
            [
             0.8,
             "#7fbc41"
            ],
            [
             0.9,
             "#4d9221"
            ],
            [
             1,
             "#276419"
            ]
           ],
           "sequential": [
            [
             0,
             "#0d0887"
            ],
            [
             0.1111111111111111,
             "#46039f"
            ],
            [
             0.2222222222222222,
             "#7201a8"
            ],
            [
             0.3333333333333333,
             "#9c179e"
            ],
            [
             0.4444444444444444,
             "#bd3786"
            ],
            [
             0.5555555555555556,
             "#d8576b"
            ],
            [
             0.6666666666666666,
             "#ed7953"
            ],
            [
             0.7777777777777778,
             "#fb9f3a"
            ],
            [
             0.8888888888888888,
             "#fdca26"
            ],
            [
             1,
             "#f0f921"
            ]
           ],
           "sequentialminus": [
            [
             0,
             "#0d0887"
            ],
            [
             0.1111111111111111,
             "#46039f"
            ],
            [
             0.2222222222222222,
             "#7201a8"
            ],
            [
             0.3333333333333333,
             "#9c179e"
            ],
            [
             0.4444444444444444,
             "#bd3786"
            ],
            [
             0.5555555555555556,
             "#d8576b"
            ],
            [
             0.6666666666666666,
             "#ed7953"
            ],
            [
             0.7777777777777778,
             "#fb9f3a"
            ],
            [
             0.8888888888888888,
             "#fdca26"
            ],
            [
             1,
             "#f0f921"
            ]
           ]
          },
          "colorway": [
           "#636efa",
           "#EF553B",
           "#00cc96",
           "#ab63fa",
           "#FFA15A",
           "#19d3f3",
           "#FF6692",
           "#B6E880",
           "#FF97FF",
           "#FECB52"
          ],
          "font": {
           "color": "#2a3f5f"
          },
          "geo": {
           "bgcolor": "white",
           "lakecolor": "white",
           "landcolor": "#E5ECF6",
           "showlakes": true,
           "showland": true,
           "subunitcolor": "white"
          },
          "hoverlabel": {
           "align": "left"
          },
          "hovermode": "closest",
          "mapbox": {
           "style": "light"
          },
          "paper_bgcolor": "white",
          "plot_bgcolor": "#E5ECF6",
          "polar": {
           "angularaxis": {
            "gridcolor": "white",
            "linecolor": "white",
            "ticks": ""
           },
           "bgcolor": "#E5ECF6",
           "radialaxis": {
            "gridcolor": "white",
            "linecolor": "white",
            "ticks": ""
           }
          },
          "scene": {
           "xaxis": {
            "backgroundcolor": "#E5ECF6",
            "gridcolor": "white",
            "gridwidth": 2,
            "linecolor": "white",
            "showbackground": true,
            "ticks": "",
            "zerolinecolor": "white"
           },
           "yaxis": {
            "backgroundcolor": "#E5ECF6",
            "gridcolor": "white",
            "gridwidth": 2,
            "linecolor": "white",
            "showbackground": true,
            "ticks": "",
            "zerolinecolor": "white"
           },
           "zaxis": {
            "backgroundcolor": "#E5ECF6",
            "gridcolor": "white",
            "gridwidth": 2,
            "linecolor": "white",
            "showbackground": true,
            "ticks": "",
            "zerolinecolor": "white"
           }
          },
          "shapedefaults": {
           "line": {
            "color": "#2a3f5f"
           }
          },
          "ternary": {
           "aaxis": {
            "gridcolor": "white",
            "linecolor": "white",
            "ticks": ""
           },
           "baxis": {
            "gridcolor": "white",
            "linecolor": "white",
            "ticks": ""
           },
           "bgcolor": "#E5ECF6",
           "caxis": {
            "gridcolor": "white",
            "linecolor": "white",
            "ticks": ""
           }
          },
          "title": {
           "x": 0.05
          },
          "xaxis": {
           "automargin": true,
           "gridcolor": "white",
           "linecolor": "white",
           "ticks": "",
           "title": {
            "standoff": 15
           },
           "zerolinecolor": "white",
           "zerolinewidth": 2
          },
          "yaxis": {
           "automargin": true,
           "gridcolor": "white",
           "linecolor": "white",
           "ticks": "",
           "title": {
            "standoff": 15
           },
           "zerolinecolor": "white",
           "zerolinewidth": 2
          }
         }
        },
        "title": {
         "text": "Einfluss von Alkoholkonsum auf die Lernleistung"
        },
        "width": 1200,
        "xaxis": {
         "title": {
          "font": {
           "size": 15
          },
          "text": "Median der erreichten Notenpunkte <br>in beiden Fächern"
         }
        },
        "yaxis": {
         "range": [
          0,
          10
         ],
         "title": {
          "font": {
           "size": 15
          },
          "text": "Median der Alkoholkonsumeinschätzung pro Kategorie<br>(1: sehr gering - 5: sehr stark)"
         }
        }
       }
      }
     },
     "metadata": {},
     "output_type": "display_data"
    }
   ],
   "source": [
    "# Create a stacked bar graph using Plotly\n",
    "stacked_bar = go.Figure()\n",
    "\n",
    "# Add the first trace (bar) to the stacked bar\n",
    "stacked_bar.add_trace(go.Bar(\n",
    "    x=stacked_bar_df['g3_range'],\n",
    "    y=stacked_bar_df['dalc'],\n",
    "    name='Alkoholkonsum an Werktagen',\n",
    "    marker_color='#B11226',  # Set color to wine\n",
    "    width=0.7\n",
    "))\n",
    "\n",
    "# Add the second trace (bar) to the stacked bar\n",
    "stacked_bar.add_trace(go.Bar(\n",
    "    x=stacked_bar_df['g3_range'],\n",
    "    y=stacked_bar_df['walc'],\n",
    "    name='Alkoholkonsum am Wochenende',\n",
    "    marker_color='#FBB117',  # Set color to yellow\n",
    "    width=0.7\n",
    "))\n",
    "\n",
    "# Configure the layout for a stacked bar graph\n",
    "stacked_bar.update_layout(\n",
    "    barmode='stack',\n",
    "    title='Einfluss von Alkoholkonsum auf die Lernleistung',\n",
    "    yaxis = dict(range=[0,10]),\n",
    "\n",
    "    height=700,\n",
    "    width=1200,\n",
    "\n",
    "    legend=dict(title='', orientation='v', traceorder='normal', x=0.75, y=1.1, font=dict(size=14)),\n",
    "    margin=dict(l=50, r=20, t=10, b=50),\n",
    ")\n",
    "\n",
    "stacked_bar.update_xaxes(title_text='Median der erreichten Notenpunkte <br>in beiden Fächern', title_font=dict(size=15))\n",
    "stacked_bar.update_yaxes(title_text='Median der Alkoholkonsumeinschätzung pro Kategorie<br>(1: sehr gering - 5: sehr stark)', title_font=dict(size=15))\n",
    "\n",
    "# Show the plot\n",
    "stacked_bar.write_image('stacked_bar.png')\n",
    "stacked_bar.show()"
   ]
  },
  {
   "cell_type": "markdown",
   "metadata": {},
   "source": [
    "#### Strukturelle Faktoren"
   ]
  },
  {
   "cell_type": "code",
   "execution_count": 15,
   "metadata": {},
   "outputs": [],
   "source": [
    "violin_df = pd.DataFrame()\n",
    "\n",
    "mapping = {1: '<15 min', 2: '15 - 30 min', 3: '30-60 min', 4: '>60 min'}\n",
    "violin_df['traveltime'] = inner_mixed_df['traveltime_x'].map(mapping)\n",
    "\n",
    "violin_df['internet'] = inner_mixed_df['internet']\n",
    "violin_df['g3'] = pd.concat([inner_mixed_df['G3_x'], inner_mixed_df['G3_y']], axis=1).median(axis=1)"
   ]
  },
  {
   "cell_type": "code",
   "execution_count": 16,
   "metadata": {},
   "outputs": [
    {
     "data": {
      "application/vnd.plotly.v1+json": {
       "config": {
        "plotlyServerURL": "https://plot.ly"
       },
       "data": [
        {
         "box": {
          "visible": false
         },
         "fillcolor": "green",
         "line": {
          "color": "black"
         },
         "meanline": {
          "visible": true
         },
         "name": "Ja",
         "opacity": 0.5,
         "side": "positive",
         "type": "violin",
         "x": [
          "<15 min",
          "<15 min",
          "<15 min",
          "<15 min",
          "<15 min",
          "<15 min",
          "<15 min",
          "<15 min",
          "30-60 min",
          "<15 min",
          "15 - 30 min",
          "<15 min",
          "<15 min",
          "<15 min",
          "<15 min",
          "<15 min",
          "<15 min",
          "<15 min",
          "<15 min",
          "15 - 30 min",
          "<15 min",
          "<15 min",
          "<15 min",
          "<15 min",
          "<15 min",
          "<15 min",
          "<15 min",
          "15 - 30 min",
          "<15 min",
          "<15 min",
          "<15 min",
          "<15 min",
          "15 - 30 min",
          "<15 min",
          "15 - 30 min",
          "<15 min",
          "<15 min",
          "<15 min",
          "15 - 30 min",
          "<15 min",
          "<15 min",
          "<15 min",
          "<15 min",
          "30-60 min",
          "<15 min",
          "<15 min",
          "<15 min",
          "<15 min",
          "<15 min",
          "<15 min",
          "<15 min",
          ">60 min",
          "<15 min",
          "<15 min",
          "<15 min",
          "30-60 min",
          "<15 min",
          "<15 min",
          "15 - 30 min",
          "15 - 30 min",
          "15 - 30 min",
          "<15 min",
          "<15 min",
          "<15 min",
          "<15 min",
          "15 - 30 min",
          "<15 min",
          "15 - 30 min",
          "15 - 30 min",
          "<15 min",
          "<15 min",
          "<15 min",
          "<15 min",
          "15 - 30 min",
          "<15 min",
          "15 - 30 min",
          "<15 min",
          "15 - 30 min",
          "<15 min",
          "<15 min",
          "15 - 30 min",
          "<15 min",
          "15 - 30 min",
          "15 - 30 min",
          "<15 min",
          "<15 min",
          "<15 min",
          "<15 min",
          "<15 min",
          "15 - 30 min",
          "<15 min",
          "<15 min",
          "<15 min",
          "<15 min",
          ">60 min",
          "<15 min",
          "<15 min",
          "<15 min",
          "<15 min",
          "<15 min",
          "<15 min",
          "<15 min",
          "<15 min",
          "15 - 30 min",
          "30-60 min",
          "<15 min",
          "<15 min",
          "<15 min",
          "15 - 30 min",
          "<15 min",
          "<15 min",
          "<15 min",
          "<15 min",
          "<15 min",
          "15 - 30 min",
          "30-60 min",
          "<15 min",
          "<15 min",
          "<15 min",
          "15 - 30 min",
          "15 - 30 min",
          "15 - 30 min",
          "<15 min",
          "15 - 30 min",
          "<15 min",
          "<15 min",
          "<15 min",
          "<15 min",
          "<15 min",
          "<15 min",
          "<15 min",
          "<15 min",
          "<15 min",
          ">60 min",
          "<15 min",
          "15 - 30 min",
          "<15 min",
          "<15 min",
          "15 - 30 min",
          "<15 min",
          "<15 min",
          "<15 min",
          "<15 min",
          "30-60 min",
          "15 - 30 min",
          "<15 min",
          "<15 min",
          "15 - 30 min",
          "15 - 30 min",
          "15 - 30 min",
          "<15 min",
          "<15 min",
          "<15 min",
          "<15 min",
          "<15 min",
          "<15 min",
          "<15 min",
          "<15 min",
          "<15 min",
          "<15 min",
          "<15 min",
          "<15 min",
          "<15 min",
          "<15 min",
          "15 - 30 min",
          "<15 min",
          "15 - 30 min",
          "<15 min",
          "<15 min",
          "30-60 min",
          "15 - 30 min",
          "<15 min",
          "<15 min",
          "<15 min",
          "15 - 30 min",
          "<15 min",
          "<15 min",
          "<15 min",
          "15 - 30 min",
          "<15 min",
          "<15 min",
          "<15 min",
          "<15 min",
          "15 - 30 min",
          "<15 min",
          "<15 min",
          "<15 min",
          "15 - 30 min",
          "<15 min",
          "15 - 30 min",
          "<15 min",
          "<15 min",
          "<15 min",
          "<15 min",
          ">60 min",
          "15 - 30 min",
          "<15 min",
          "15 - 30 min",
          "<15 min",
          "<15 min",
          "15 - 30 min",
          "15 - 30 min",
          "<15 min",
          "<15 min",
          "<15 min",
          "15 - 30 min",
          "15 - 30 min",
          "<15 min",
          "<15 min",
          "<15 min",
          "15 - 30 min",
          "30-60 min",
          "15 - 30 min",
          "<15 min",
          "<15 min",
          "<15 min",
          "15 - 30 min",
          "30-60 min",
          "<15 min",
          "<15 min",
          "15 - 30 min",
          "<15 min",
          "<15 min",
          "<15 min",
          "<15 min",
          "<15 min",
          "<15 min",
          "<15 min",
          "15 - 30 min",
          "<15 min",
          "15 - 30 min",
          "<15 min",
          "15 - 30 min",
          "<15 min",
          "<15 min",
          "15 - 30 min",
          "15 - 30 min",
          "15 - 30 min",
          "15 - 30 min",
          "15 - 30 min",
          "<15 min",
          "15 - 30 min",
          "15 - 30 min",
          "<15 min",
          "15 - 30 min",
          "<15 min",
          "<15 min",
          "<15 min",
          "<15 min",
          "<15 min",
          "<15 min",
          "<15 min",
          "<15 min",
          "15 - 30 min",
          "<15 min",
          "15 - 30 min",
          "15 - 30 min",
          "<15 min",
          "<15 min",
          "<15 min",
          "15 - 30 min",
          "15 - 30 min",
          "<15 min",
          "15 - 30 min",
          "<15 min",
          "<15 min",
          "<15 min",
          "<15 min",
          "<15 min",
          "<15 min",
          "15 - 30 min",
          "15 - 30 min",
          "<15 min",
          "<15 min",
          ">60 min",
          "<15 min",
          "15 - 30 min",
          "<15 min",
          "<15 min",
          "<15 min",
          "<15 min",
          "<15 min",
          "<15 min",
          "<15 min",
          "<15 min",
          "<15 min",
          "<15 min",
          "<15 min",
          "<15 min",
          "<15 min",
          "<15 min",
          "<15 min",
          "<15 min",
          "<15 min",
          "15 - 30 min",
          "30-60 min",
          "15 - 30 min",
          "<15 min",
          "30-60 min",
          "15 - 30 min",
          "15 - 30 min",
          "15 - 30 min",
          "15 - 30 min",
          "15 - 30 min",
          "<15 min",
          "15 - 30 min",
          "30-60 min",
          "15 - 30 min",
          "30-60 min",
          "30-60 min",
          "<15 min",
          "15 - 30 min",
          ">60 min",
          "<15 min",
          "<15 min",
          "<15 min",
          "<15 min",
          "15 - 30 min",
          "15 - 30 min",
          "30-60 min",
          "<15 min",
          "<15 min",
          "15 - 30 min",
          "30-60 min"
         ],
         "y": [
          8.5,
          11,
          14.5,
          14,
          12,
          18,
          14,
          11.5,
          12.5,
          13,
          12,
          15.5,
          15.5,
          14,
          6,
          11,
          14.5,
          13.5,
          15,
          11,
          9,
          10,
          11.5,
          13,
          12,
          11.5,
          11.5,
          16,
          15.5,
          12,
          13.5,
          16,
          14,
          11.5,
          10.5,
          11.5,
          16.5,
          10.5,
          10,
          8.5,
          12,
          18.5,
          9.5,
          13,
          14.5,
          11.5,
          13,
          11,
          15,
          11.5,
          16,
          13.5,
          9.5,
          11,
          11,
          15.5,
          12,
          8,
          9.5,
          15.5,
          13,
          10,
          8,
          11,
          10.5,
          10.5,
          12,
          10,
          5,
          8,
          12,
          10,
          8.5,
          14,
          11,
          10,
          14.5,
          10.5,
          9.5,
          15.5,
          12,
          13,
          11.5,
          13,
          13.5,
          10.5,
          6.5,
          16.5,
          13,
          8,
          17,
          9,
          16,
          13,
          12,
          15,
          16.5,
          10.5,
          11.5,
          18.5,
          9.5,
          15,
          7,
          14,
          9.5,
          13.5,
          14.5,
          14,
          13,
          13,
          9.5,
          10.5,
          11,
          16.5,
          6,
          6.5,
          12,
          12.5,
          7.5,
          5,
          14.5,
          5.5,
          12.5,
          10,
          12,
          12,
          8,
          3,
          11.5,
          5.5,
          12,
          12,
          4,
          10.5,
          0,
          11.5,
          5.5,
          6.5,
          4.5,
          10.5,
          17,
          6.5,
          15.5,
          5,
          17,
          10,
          6.5,
          12,
          10,
          12.5,
          8,
          10,
          12,
          9.5,
          15.5,
          12.5,
          11,
          14,
          12.5,
          11,
          15.5,
          11.5,
          13,
          10.5,
          10,
          10,
          13,
          15.5,
          15,
          11,
          17,
          10.5,
          15.5,
          9.5,
          12,
          8.5,
          9.5,
          14,
          9.5,
          10,
          12.5,
          13.5,
          9.5,
          15,
          7,
          9,
          11.5,
          8.5,
          15.5,
          11.5,
          15,
          7.5,
          16,
          11.5,
          10,
          14,
          13,
          12,
          11,
          13.5,
          7.5,
          11,
          14.5,
          11,
          4,
          13.5,
          12,
          7.5,
          13.5,
          10.5,
          5.5,
          17,
          13,
          6.5,
          7.5,
          13,
          7.5,
          10,
          7,
          12.5,
          9,
          15,
          12.5,
          15,
          6,
          16.5,
          9.5,
          6.5,
          16.5,
          12,
          11.5,
          12,
          5,
          10.5,
          15,
          13,
          12,
          9.5,
          10.5,
          6,
          10.5,
          10,
          9,
          11.5,
          11.5,
          12.5,
          11.5,
          18.5,
          13,
          14.5,
          16,
          13.5,
          16.5,
          14.5,
          13,
          6.5,
          11,
          15.5,
          16.5,
          13,
          11.5,
          15,
          18,
          7.5,
          13,
          13.5,
          12,
          15,
          10.5,
          16,
          15,
          12,
          12,
          16.5,
          10,
          11,
          14.5,
          10,
          14.5,
          6,
          6,
          14.5,
          7.5,
          16,
          13,
          11,
          6.5,
          16,
          7,
          12,
          15.5,
          16.5,
          11.5,
          14,
          12,
          9.5,
          11.5,
          8.5,
          9,
          11,
          12.5,
          12,
          17,
          11.5,
          15,
          14.5,
          4.5,
          10,
          5.5,
          11,
          7,
          18,
          11,
          12,
          15.5,
          9.5,
          16.5,
          3.5,
          13,
          8,
          5,
          12,
          13,
          10.5
         ]
        },
        {
         "box": {
          "visible": false
         },
         "fillcolor": "red",
         "line": {
          "color": "black"
         },
         "meanline": {
          "visible": true
         },
         "name": "Nein",
         "opacity": 0.5,
         "side": "negative",
         "type": "violin",
         "x": [
          "15 - 30 min",
          "<15 min",
          "15 - 30 min",
          "30-60 min",
          "15 - 30 min",
          "<15 min",
          "<15 min",
          "15 - 30 min",
          "<15 min",
          "<15 min",
          "<15 min",
          "<15 min",
          "<15 min",
          "<15 min",
          "<15 min",
          "<15 min",
          "15 - 30 min",
          "<15 min",
          ">60 min",
          "30-60 min",
          "<15 min",
          "<15 min",
          "<15 min",
          "<15 min",
          "<15 min",
          "30-60 min",
          "30-60 min",
          ">60 min",
          "<15 min",
          "<15 min",
          "<15 min",
          "<15 min",
          "15 - 30 min",
          "<15 min",
          "15 - 30 min",
          "<15 min",
          "30-60 min",
          "15 - 30 min",
          "<15 min",
          "<15 min",
          "15 - 30 min",
          "<15 min",
          "15 - 30 min",
          "15 - 30 min",
          "<15 min",
          "<15 min",
          "<15 min",
          "15 - 30 min",
          "30-60 min",
          "<15 min",
          "15 - 30 min",
          "15 - 30 min",
          "15 - 30 min",
          "<15 min",
          "15 - 30 min",
          "15 - 30 min",
          "15 - 30 min",
          "15 - 30 min"
         ],
         "y": [
          8.5,
          11.5,
          9.5,
          12,
          8.5,
          12.5,
          13.5,
          9.5,
          15.5,
          13.5,
          14,
          8.5,
          8.5,
          9,
          11,
          10.5,
          15,
          10,
          5.5,
          5,
          11,
          12,
          12.5,
          8,
          11.5,
          10.5,
          13,
          7.5,
          17,
          10,
          11,
          12.5,
          11.5,
          10.5,
          10.5,
          6,
          12,
          10,
          12,
          11,
          12,
          16,
          15,
          18.5,
          16.5,
          11.5,
          11,
          7,
          3.5,
          9.5,
          13,
          12.5,
          9.5,
          11.5,
          0,
          2.5,
          12.5,
          4.5
         ]
        }
       ],
       "layout": {
        "height": 700,
        "legend": {
         "font": {
          "size": 14
         },
         "orientation": "v",
         "title": {
          "text": "Internet verfügbar"
         },
         "traceorder": "normal",
         "x": 0.83,
         "y": 1.15
        },
        "margin": {
         "b": 50,
         "l": 50,
         "r": 20,
         "t": 10
        },
        "template": {
         "data": {
          "bar": [
           {
            "error_x": {
             "color": "#2a3f5f"
            },
            "error_y": {
             "color": "#2a3f5f"
            },
            "marker": {
             "line": {
              "color": "#E5ECF6",
              "width": 0.5
             },
             "pattern": {
              "fillmode": "overlay",
              "size": 10,
              "solidity": 0.2
             }
            },
            "type": "bar"
           }
          ],
          "barpolar": [
           {
            "marker": {
             "line": {
              "color": "#E5ECF6",
              "width": 0.5
             },
             "pattern": {
              "fillmode": "overlay",
              "size": 10,
              "solidity": 0.2
             }
            },
            "type": "barpolar"
           }
          ],
          "carpet": [
           {
            "aaxis": {
             "endlinecolor": "#2a3f5f",
             "gridcolor": "white",
             "linecolor": "white",
             "minorgridcolor": "white",
             "startlinecolor": "#2a3f5f"
            },
            "baxis": {
             "endlinecolor": "#2a3f5f",
             "gridcolor": "white",
             "linecolor": "white",
             "minorgridcolor": "white",
             "startlinecolor": "#2a3f5f"
            },
            "type": "carpet"
           }
          ],
          "choropleth": [
           {
            "colorbar": {
             "outlinewidth": 0,
             "ticks": ""
            },
            "type": "choropleth"
           }
          ],
          "contour": [
           {
            "colorbar": {
             "outlinewidth": 0,
             "ticks": ""
            },
            "colorscale": [
             [
              0,
              "#0d0887"
             ],
             [
              0.1111111111111111,
              "#46039f"
             ],
             [
              0.2222222222222222,
              "#7201a8"
             ],
             [
              0.3333333333333333,
              "#9c179e"
             ],
             [
              0.4444444444444444,
              "#bd3786"
             ],
             [
              0.5555555555555556,
              "#d8576b"
             ],
             [
              0.6666666666666666,
              "#ed7953"
             ],
             [
              0.7777777777777778,
              "#fb9f3a"
             ],
             [
              0.8888888888888888,
              "#fdca26"
             ],
             [
              1,
              "#f0f921"
             ]
            ],
            "type": "contour"
           }
          ],
          "contourcarpet": [
           {
            "colorbar": {
             "outlinewidth": 0,
             "ticks": ""
            },
            "type": "contourcarpet"
           }
          ],
          "heatmap": [
           {
            "colorbar": {
             "outlinewidth": 0,
             "ticks": ""
            },
            "colorscale": [
             [
              0,
              "#0d0887"
             ],
             [
              0.1111111111111111,
              "#46039f"
             ],
             [
              0.2222222222222222,
              "#7201a8"
             ],
             [
              0.3333333333333333,
              "#9c179e"
             ],
             [
              0.4444444444444444,
              "#bd3786"
             ],
             [
              0.5555555555555556,
              "#d8576b"
             ],
             [
              0.6666666666666666,
              "#ed7953"
             ],
             [
              0.7777777777777778,
              "#fb9f3a"
             ],
             [
              0.8888888888888888,
              "#fdca26"
             ],
             [
              1,
              "#f0f921"
             ]
            ],
            "type": "heatmap"
           }
          ],
          "heatmapgl": [
           {
            "colorbar": {
             "outlinewidth": 0,
             "ticks": ""
            },
            "colorscale": [
             [
              0,
              "#0d0887"
             ],
             [
              0.1111111111111111,
              "#46039f"
             ],
             [
              0.2222222222222222,
              "#7201a8"
             ],
             [
              0.3333333333333333,
              "#9c179e"
             ],
             [
              0.4444444444444444,
              "#bd3786"
             ],
             [
              0.5555555555555556,
              "#d8576b"
             ],
             [
              0.6666666666666666,
              "#ed7953"
             ],
             [
              0.7777777777777778,
              "#fb9f3a"
             ],
             [
              0.8888888888888888,
              "#fdca26"
             ],
             [
              1,
              "#f0f921"
             ]
            ],
            "type": "heatmapgl"
           }
          ],
          "histogram": [
           {
            "marker": {
             "pattern": {
              "fillmode": "overlay",
              "size": 10,
              "solidity": 0.2
             }
            },
            "type": "histogram"
           }
          ],
          "histogram2d": [
           {
            "colorbar": {
             "outlinewidth": 0,
             "ticks": ""
            },
            "colorscale": [
             [
              0,
              "#0d0887"
             ],
             [
              0.1111111111111111,
              "#46039f"
             ],
             [
              0.2222222222222222,
              "#7201a8"
             ],
             [
              0.3333333333333333,
              "#9c179e"
             ],
             [
              0.4444444444444444,
              "#bd3786"
             ],
             [
              0.5555555555555556,
              "#d8576b"
             ],
             [
              0.6666666666666666,
              "#ed7953"
             ],
             [
              0.7777777777777778,
              "#fb9f3a"
             ],
             [
              0.8888888888888888,
              "#fdca26"
             ],
             [
              1,
              "#f0f921"
             ]
            ],
            "type": "histogram2d"
           }
          ],
          "histogram2dcontour": [
           {
            "colorbar": {
             "outlinewidth": 0,
             "ticks": ""
            },
            "colorscale": [
             [
              0,
              "#0d0887"
             ],
             [
              0.1111111111111111,
              "#46039f"
             ],
             [
              0.2222222222222222,
              "#7201a8"
             ],
             [
              0.3333333333333333,
              "#9c179e"
             ],
             [
              0.4444444444444444,
              "#bd3786"
             ],
             [
              0.5555555555555556,
              "#d8576b"
             ],
             [
              0.6666666666666666,
              "#ed7953"
             ],
             [
              0.7777777777777778,
              "#fb9f3a"
             ],
             [
              0.8888888888888888,
              "#fdca26"
             ],
             [
              1,
              "#f0f921"
             ]
            ],
            "type": "histogram2dcontour"
           }
          ],
          "mesh3d": [
           {
            "colorbar": {
             "outlinewidth": 0,
             "ticks": ""
            },
            "type": "mesh3d"
           }
          ],
          "parcoords": [
           {
            "line": {
             "colorbar": {
              "outlinewidth": 0,
              "ticks": ""
             }
            },
            "type": "parcoords"
           }
          ],
          "pie": [
           {
            "automargin": true,
            "type": "pie"
           }
          ],
          "scatter": [
           {
            "fillpattern": {
             "fillmode": "overlay",
             "size": 10,
             "solidity": 0.2
            },
            "type": "scatter"
           }
          ],
          "scatter3d": [
           {
            "line": {
             "colorbar": {
              "outlinewidth": 0,
              "ticks": ""
             }
            },
            "marker": {
             "colorbar": {
              "outlinewidth": 0,
              "ticks": ""
             }
            },
            "type": "scatter3d"
           }
          ],
          "scattercarpet": [
           {
            "marker": {
             "colorbar": {
              "outlinewidth": 0,
              "ticks": ""
             }
            },
            "type": "scattercarpet"
           }
          ],
          "scattergeo": [
           {
            "marker": {
             "colorbar": {
              "outlinewidth": 0,
              "ticks": ""
             }
            },
            "type": "scattergeo"
           }
          ],
          "scattergl": [
           {
            "marker": {
             "colorbar": {
              "outlinewidth": 0,
              "ticks": ""
             }
            },
            "type": "scattergl"
           }
          ],
          "scattermapbox": [
           {
            "marker": {
             "colorbar": {
              "outlinewidth": 0,
              "ticks": ""
             }
            },
            "type": "scattermapbox"
           }
          ],
          "scatterpolar": [
           {
            "marker": {
             "colorbar": {
              "outlinewidth": 0,
              "ticks": ""
             }
            },
            "type": "scatterpolar"
           }
          ],
          "scatterpolargl": [
           {
            "marker": {
             "colorbar": {
              "outlinewidth": 0,
              "ticks": ""
             }
            },
            "type": "scatterpolargl"
           }
          ],
          "scatterternary": [
           {
            "marker": {
             "colorbar": {
              "outlinewidth": 0,
              "ticks": ""
             }
            },
            "type": "scatterternary"
           }
          ],
          "surface": [
           {
            "colorbar": {
             "outlinewidth": 0,
             "ticks": ""
            },
            "colorscale": [
             [
              0,
              "#0d0887"
             ],
             [
              0.1111111111111111,
              "#46039f"
             ],
             [
              0.2222222222222222,
              "#7201a8"
             ],
             [
              0.3333333333333333,
              "#9c179e"
             ],
             [
              0.4444444444444444,
              "#bd3786"
             ],
             [
              0.5555555555555556,
              "#d8576b"
             ],
             [
              0.6666666666666666,
              "#ed7953"
             ],
             [
              0.7777777777777778,
              "#fb9f3a"
             ],
             [
              0.8888888888888888,
              "#fdca26"
             ],
             [
              1,
              "#f0f921"
             ]
            ],
            "type": "surface"
           }
          ],
          "table": [
           {
            "cells": {
             "fill": {
              "color": "#EBF0F8"
             },
             "line": {
              "color": "white"
             }
            },
            "header": {
             "fill": {
              "color": "#C8D4E3"
             },
             "line": {
              "color": "white"
             }
            },
            "type": "table"
           }
          ]
         },
         "layout": {
          "annotationdefaults": {
           "arrowcolor": "#2a3f5f",
           "arrowhead": 0,
           "arrowwidth": 1
          },
          "autotypenumbers": "strict",
          "coloraxis": {
           "colorbar": {
            "outlinewidth": 0,
            "ticks": ""
           }
          },
          "colorscale": {
           "diverging": [
            [
             0,
             "#8e0152"
            ],
            [
             0.1,
             "#c51b7d"
            ],
            [
             0.2,
             "#de77ae"
            ],
            [
             0.3,
             "#f1b6da"
            ],
            [
             0.4,
             "#fde0ef"
            ],
            [
             0.5,
             "#f7f7f7"
            ],
            [
             0.6,
             "#e6f5d0"
            ],
            [
             0.7,
             "#b8e186"
            ],
            [
             0.8,
             "#7fbc41"
            ],
            [
             0.9,
             "#4d9221"
            ],
            [
             1,
             "#276419"
            ]
           ],
           "sequential": [
            [
             0,
             "#0d0887"
            ],
            [
             0.1111111111111111,
             "#46039f"
            ],
            [
             0.2222222222222222,
             "#7201a8"
            ],
            [
             0.3333333333333333,
             "#9c179e"
            ],
            [
             0.4444444444444444,
             "#bd3786"
            ],
            [
             0.5555555555555556,
             "#d8576b"
            ],
            [
             0.6666666666666666,
             "#ed7953"
            ],
            [
             0.7777777777777778,
             "#fb9f3a"
            ],
            [
             0.8888888888888888,
             "#fdca26"
            ],
            [
             1,
             "#f0f921"
            ]
           ],
           "sequentialminus": [
            [
             0,
             "#0d0887"
            ],
            [
             0.1111111111111111,
             "#46039f"
            ],
            [
             0.2222222222222222,
             "#7201a8"
            ],
            [
             0.3333333333333333,
             "#9c179e"
            ],
            [
             0.4444444444444444,
             "#bd3786"
            ],
            [
             0.5555555555555556,
             "#d8576b"
            ],
            [
             0.6666666666666666,
             "#ed7953"
            ],
            [
             0.7777777777777778,
             "#fb9f3a"
            ],
            [
             0.8888888888888888,
             "#fdca26"
            ],
            [
             1,
             "#f0f921"
            ]
           ]
          },
          "colorway": [
           "#636efa",
           "#EF553B",
           "#00cc96",
           "#ab63fa",
           "#FFA15A",
           "#19d3f3",
           "#FF6692",
           "#B6E880",
           "#FF97FF",
           "#FECB52"
          ],
          "font": {
           "color": "#2a3f5f"
          },
          "geo": {
           "bgcolor": "white",
           "lakecolor": "white",
           "landcolor": "#E5ECF6",
           "showlakes": true,
           "showland": true,
           "subunitcolor": "white"
          },
          "hoverlabel": {
           "align": "left"
          },
          "hovermode": "closest",
          "mapbox": {
           "style": "light"
          },
          "paper_bgcolor": "white",
          "plot_bgcolor": "#E5ECF6",
          "polar": {
           "angularaxis": {
            "gridcolor": "white",
            "linecolor": "white",
            "ticks": ""
           },
           "bgcolor": "#E5ECF6",
           "radialaxis": {
            "gridcolor": "white",
            "linecolor": "white",
            "ticks": ""
           }
          },
          "scene": {
           "xaxis": {
            "backgroundcolor": "#E5ECF6",
            "gridcolor": "white",
            "gridwidth": 2,
            "linecolor": "white",
            "showbackground": true,
            "ticks": "",
            "zerolinecolor": "white"
           },
           "yaxis": {
            "backgroundcolor": "#E5ECF6",
            "gridcolor": "white",
            "gridwidth": 2,
            "linecolor": "white",
            "showbackground": true,
            "ticks": "",
            "zerolinecolor": "white"
           },
           "zaxis": {
            "backgroundcolor": "#E5ECF6",
            "gridcolor": "white",
            "gridwidth": 2,
            "linecolor": "white",
            "showbackground": true,
            "ticks": "",
            "zerolinecolor": "white"
           }
          },
          "shapedefaults": {
           "line": {
            "color": "#2a3f5f"
           }
          },
          "ternary": {
           "aaxis": {
            "gridcolor": "white",
            "linecolor": "white",
            "ticks": ""
           },
           "baxis": {
            "gridcolor": "white",
            "linecolor": "white",
            "ticks": ""
           },
           "bgcolor": "#E5ECF6",
           "caxis": {
            "gridcolor": "white",
            "linecolor": "white",
            "ticks": ""
           }
          },
          "title": {
           "x": 0.05
          },
          "xaxis": {
           "automargin": true,
           "gridcolor": "white",
           "linecolor": "white",
           "ticks": "",
           "title": {
            "standoff": 15
           },
           "zerolinecolor": "white",
           "zerolinewidth": 2
          },
          "yaxis": {
           "automargin": true,
           "gridcolor": "white",
           "linecolor": "white",
           "ticks": "",
           "title": {
            "standoff": 15
           },
           "zerolinecolor": "white",
           "zerolinewidth": 2
          }
         }
        },
        "title": {
         "text": "Zusammenhang struktureller Faktoren und Lernleistungen"
        },
        "width": 1200,
        "xaxis": {
         "categoryarray": [
          "<15 min",
          "15 - 30 min",
          "30-60 min",
          ">60 min"
         ],
         "categoryorder": "array",
         "title": {
          "font": {
           "size": 15
          },
          "text": "Pendelzeit"
         }
        },
        "yaxis": {
         "range": [
          0,
          20
         ],
         "title": {
          "font": {
           "size": 15
          },
          "text": "Median der erreichten Notenpunkte <br>in beiden Fächern"
         }
        }
       }
      }
     },
     "metadata": {},
     "output_type": "display_data"
    }
   ],
   "source": [
    "# Define colors for 'internet' categories\n",
    "colors = {'yes': 'green', 'no': 'red'}\n",
    "\n",
    "# Create a violin plot\n",
    "violin = go.Figure()\n",
    "\n",
    "def translate(x):\n",
    "    return 'Ja' if x=='yes' else 'Nein'\n",
    "\n",
    "for internet_status, color in colors.items():\n",
    "    subset = violin_df[violin_df['internet'] == internet_status]\n",
    "    side_value = 'positive' if internet_status=='yes' else 'negative'\n",
    "    violin.add_trace(go.Violin(\n",
    "        x=subset['traveltime'],\n",
    "        y=subset['g3'],\n",
    "        box_visible=False,\n",
    "        side=side_value,\n",
    "        meanline_visible=True,\n",
    "        line_color= 'black',\n",
    "        fillcolor=color,\n",
    "        opacity=0.5,\n",
    "        name=translate(internet_status)\n",
    "    ))\n",
    "\n",
    "# Update layout\n",
    "violin.update_layout(\n",
    "    title='Zusammenhang struktureller Faktoren und Lernleistungen',\n",
    "    yaxis = dict(range=[0,20]),\n",
    "    xaxis=dict(\n",
    "        categoryorder='array',\n",
    "        categoryarray=['<15 min', '15 - 30 min', '30-60 min', '>60 min']\n",
    "    ),\n",
    "\n",
    "    legend=dict(title='Internet verfügbar', orientation='v', traceorder='normal', x=0.83, y=1.15, font=dict(size=14)),\n",
    "    height=700,\n",
    "    width=1200,\n",
    "    margin=dict(l=50, r=20, t=10, b=50),\n",
    ")\n",
    "\n",
    "violin.update_xaxes(title_text='Pendelzeit', title_font=dict(size=15))\n",
    "violin.update_yaxes(title_text='Median der erreichten Notenpunkte <br>in beiden Fächern', title_font=dict(size=15))\n",
    "\n",
    "# Show the plot\n",
    "violin.write_image('violin.png')\n",
    "violin.show()"
   ]
  },
  {
   "cell_type": "markdown",
   "metadata": {},
   "source": [
    "### Soziale Faktoren"
   ]
  },
  {
   "cell_type": "markdown",
   "metadata": {},
   "source": [
    "#### familiäres Umfeld"
   ]
  },
  {
   "cell_type": "code",
   "execution_count": 17,
   "metadata": {},
   "outputs": [
    {
     "data": {
      "text/html": [
       "<div>\n",
       "<style scoped>\n",
       "    .dataframe tbody tr th:only-of-type {\n",
       "        vertical-align: middle;\n",
       "    }\n",
       "\n",
       "    .dataframe tbody tr th {\n",
       "        vertical-align: top;\n",
       "    }\n",
       "\n",
       "    .dataframe thead th {\n",
       "        text-align: right;\n",
       "    }\n",
       "</style>\n",
       "<table border=\"1\" class=\"dataframe\">\n",
       "  <thead>\n",
       "    <tr style=\"text-align: right;\">\n",
       "      <th></th>\n",
       "      <th>g3</th>\n",
       "      <th>famrel</th>\n",
       "      <th>famsize</th>\n",
       "    </tr>\n",
       "  </thead>\n",
       "  <tbody>\n",
       "    <tr>\n",
       "      <th>0</th>\n",
       "      <td>8.5</td>\n",
       "      <td>4.0</td>\n",
       "      <td>GT3</td>\n",
       "    </tr>\n",
       "    <tr>\n",
       "      <th>1</th>\n",
       "      <td>8.5</td>\n",
       "      <td>5.0</td>\n",
       "      <td>GT3</td>\n",
       "    </tr>\n",
       "    <tr>\n",
       "      <th>2</th>\n",
       "      <td>11.0</td>\n",
       "      <td>4.0</td>\n",
       "      <td>LE3</td>\n",
       "    </tr>\n",
       "    <tr>\n",
       "      <th>3</th>\n",
       "      <td>14.5</td>\n",
       "      <td>3.0</td>\n",
       "      <td>GT3</td>\n",
       "    </tr>\n",
       "    <tr>\n",
       "      <th>4</th>\n",
       "      <td>11.5</td>\n",
       "      <td>4.0</td>\n",
       "      <td>GT3</td>\n",
       "    </tr>\n",
       "    <tr>\n",
       "      <th>...</th>\n",
       "      <td>...</td>\n",
       "      <td>...</td>\n",
       "      <td>...</td>\n",
       "    </tr>\n",
       "    <tr>\n",
       "      <th>377</th>\n",
       "      <td>5.0</td>\n",
       "      <td>5.0</td>\n",
       "      <td>GT3</td>\n",
       "    </tr>\n",
       "    <tr>\n",
       "      <th>378</th>\n",
       "      <td>12.0</td>\n",
       "      <td>4.0</td>\n",
       "      <td>LE3</td>\n",
       "    </tr>\n",
       "    <tr>\n",
       "      <th>379</th>\n",
       "      <td>4.5</td>\n",
       "      <td>1.0</td>\n",
       "      <td>GT3</td>\n",
       "    </tr>\n",
       "    <tr>\n",
       "      <th>380</th>\n",
       "      <td>13.0</td>\n",
       "      <td>2.0</td>\n",
       "      <td>LE3</td>\n",
       "    </tr>\n",
       "    <tr>\n",
       "      <th>381</th>\n",
       "      <td>10.5</td>\n",
       "      <td>4.0</td>\n",
       "      <td>LE3</td>\n",
       "    </tr>\n",
       "  </tbody>\n",
       "</table>\n",
       "<p>382 rows × 3 columns</p>\n",
       "</div>"
      ],
      "text/plain": [
       "       g3  famrel famsize\n",
       "0     8.5     4.0     GT3\n",
       "1     8.5     5.0     GT3\n",
       "2    11.0     4.0     LE3\n",
       "3    14.5     3.0     GT3\n",
       "4    11.5     4.0     GT3\n",
       "..    ...     ...     ...\n",
       "377   5.0     5.0     GT3\n",
       "378  12.0     4.0     LE3\n",
       "379   4.5     1.0     GT3\n",
       "380  13.0     2.0     LE3\n",
       "381  10.5     4.0     LE3\n",
       "\n",
       "[382 rows x 3 columns]"
      ]
     },
     "execution_count": 17,
     "metadata": {},
     "output_type": "execute_result"
    }
   ],
   "source": [
    "bar_df = pd.DataFrame()\n",
    "bar_df['g3'] = pd.concat([inner_mixed_df['G3_x'], inner_mixed_df['G3_y']], axis=1).median(axis=1)\n",
    "bar_df['famrel'] = pd.concat([inner_mixed_df['famrel_x'], inner_mixed_df['famrel_y']], axis=1).median(axis=1)\n",
    "bar_df['famsize'] = inner_mixed_df['famsize']\n",
    "\n",
    "bar_df"
   ]
  },
  {
   "cell_type": "code",
   "execution_count": 18,
   "metadata": {},
   "outputs": [
    {
     "data": {
      "application/vnd.plotly.v1+json": {
       "config": {
        "plotlyServerURL": "https://plot.ly"
       },
       "data": [
        {
         "name": "Kleine Familie (<=3 Pers.)",
         "type": "bar",
         "x": [
          1,
          2,
          3,
          4,
          5
         ],
         "y": [
          12,
          11.25,
          11.5,
          8.5,
          11.5,
          12,
          12,
          14.75,
          12,
          11,
          11.5,
          12.5
         ]
        },
        {
         "name": "Große Familie (>3 Pers.)",
         "type": "bar",
         "x": [
          1,
          2,
          3,
          3.5,
          4,
          4.5,
          5
         ],
         "y": [
          12,
          11.25,
          11.5,
          8.5,
          11.5,
          12,
          12,
          14.75,
          12,
          11,
          11.5,
          12.5
         ]
        }
       ],
       "layout": {
        "height": 700,
        "legend": {
         "font": {
          "size": 14
         },
         "orientation": "v",
         "title": {
          "text": "Familiengröße"
         },
         "traceorder": "normal",
         "x": 0.78,
         "y": 1.15
        },
        "margin": {
         "b": 50,
         "l": 50,
         "r": 20,
         "t": 10
        },
        "template": {
         "data": {
          "bar": [
           {
            "error_x": {
             "color": "#2a3f5f"
            },
            "error_y": {
             "color": "#2a3f5f"
            },
            "marker": {
             "line": {
              "color": "#E5ECF6",
              "width": 0.5
             },
             "pattern": {
              "fillmode": "overlay",
              "size": 10,
              "solidity": 0.2
             }
            },
            "type": "bar"
           }
          ],
          "barpolar": [
           {
            "marker": {
             "line": {
              "color": "#E5ECF6",
              "width": 0.5
             },
             "pattern": {
              "fillmode": "overlay",
              "size": 10,
              "solidity": 0.2
             }
            },
            "type": "barpolar"
           }
          ],
          "carpet": [
           {
            "aaxis": {
             "endlinecolor": "#2a3f5f",
             "gridcolor": "white",
             "linecolor": "white",
             "minorgridcolor": "white",
             "startlinecolor": "#2a3f5f"
            },
            "baxis": {
             "endlinecolor": "#2a3f5f",
             "gridcolor": "white",
             "linecolor": "white",
             "minorgridcolor": "white",
             "startlinecolor": "#2a3f5f"
            },
            "type": "carpet"
           }
          ],
          "choropleth": [
           {
            "colorbar": {
             "outlinewidth": 0,
             "ticks": ""
            },
            "type": "choropleth"
           }
          ],
          "contour": [
           {
            "colorbar": {
             "outlinewidth": 0,
             "ticks": ""
            },
            "colorscale": [
             [
              0,
              "#0d0887"
             ],
             [
              0.1111111111111111,
              "#46039f"
             ],
             [
              0.2222222222222222,
              "#7201a8"
             ],
             [
              0.3333333333333333,
              "#9c179e"
             ],
             [
              0.4444444444444444,
              "#bd3786"
             ],
             [
              0.5555555555555556,
              "#d8576b"
             ],
             [
              0.6666666666666666,
              "#ed7953"
             ],
             [
              0.7777777777777778,
              "#fb9f3a"
             ],
             [
              0.8888888888888888,
              "#fdca26"
             ],
             [
              1,
              "#f0f921"
             ]
            ],
            "type": "contour"
           }
          ],
          "contourcarpet": [
           {
            "colorbar": {
             "outlinewidth": 0,
             "ticks": ""
            },
            "type": "contourcarpet"
           }
          ],
          "heatmap": [
           {
            "colorbar": {
             "outlinewidth": 0,
             "ticks": ""
            },
            "colorscale": [
             [
              0,
              "#0d0887"
             ],
             [
              0.1111111111111111,
              "#46039f"
             ],
             [
              0.2222222222222222,
              "#7201a8"
             ],
             [
              0.3333333333333333,
              "#9c179e"
             ],
             [
              0.4444444444444444,
              "#bd3786"
             ],
             [
              0.5555555555555556,
              "#d8576b"
             ],
             [
              0.6666666666666666,
              "#ed7953"
             ],
             [
              0.7777777777777778,
              "#fb9f3a"
             ],
             [
              0.8888888888888888,
              "#fdca26"
             ],
             [
              1,
              "#f0f921"
             ]
            ],
            "type": "heatmap"
           }
          ],
          "heatmapgl": [
           {
            "colorbar": {
             "outlinewidth": 0,
             "ticks": ""
            },
            "colorscale": [
             [
              0,
              "#0d0887"
             ],
             [
              0.1111111111111111,
              "#46039f"
             ],
             [
              0.2222222222222222,
              "#7201a8"
             ],
             [
              0.3333333333333333,
              "#9c179e"
             ],
             [
              0.4444444444444444,
              "#bd3786"
             ],
             [
              0.5555555555555556,
              "#d8576b"
             ],
             [
              0.6666666666666666,
              "#ed7953"
             ],
             [
              0.7777777777777778,
              "#fb9f3a"
             ],
             [
              0.8888888888888888,
              "#fdca26"
             ],
             [
              1,
              "#f0f921"
             ]
            ],
            "type": "heatmapgl"
           }
          ],
          "histogram": [
           {
            "marker": {
             "pattern": {
              "fillmode": "overlay",
              "size": 10,
              "solidity": 0.2
             }
            },
            "type": "histogram"
           }
          ],
          "histogram2d": [
           {
            "colorbar": {
             "outlinewidth": 0,
             "ticks": ""
            },
            "colorscale": [
             [
              0,
              "#0d0887"
             ],
             [
              0.1111111111111111,
              "#46039f"
             ],
             [
              0.2222222222222222,
              "#7201a8"
             ],
             [
              0.3333333333333333,
              "#9c179e"
             ],
             [
              0.4444444444444444,
              "#bd3786"
             ],
             [
              0.5555555555555556,
              "#d8576b"
             ],
             [
              0.6666666666666666,
              "#ed7953"
             ],
             [
              0.7777777777777778,
              "#fb9f3a"
             ],
             [
              0.8888888888888888,
              "#fdca26"
             ],
             [
              1,
              "#f0f921"
             ]
            ],
            "type": "histogram2d"
           }
          ],
          "histogram2dcontour": [
           {
            "colorbar": {
             "outlinewidth": 0,
             "ticks": ""
            },
            "colorscale": [
             [
              0,
              "#0d0887"
             ],
             [
              0.1111111111111111,
              "#46039f"
             ],
             [
              0.2222222222222222,
              "#7201a8"
             ],
             [
              0.3333333333333333,
              "#9c179e"
             ],
             [
              0.4444444444444444,
              "#bd3786"
             ],
             [
              0.5555555555555556,
              "#d8576b"
             ],
             [
              0.6666666666666666,
              "#ed7953"
             ],
             [
              0.7777777777777778,
              "#fb9f3a"
             ],
             [
              0.8888888888888888,
              "#fdca26"
             ],
             [
              1,
              "#f0f921"
             ]
            ],
            "type": "histogram2dcontour"
           }
          ],
          "mesh3d": [
           {
            "colorbar": {
             "outlinewidth": 0,
             "ticks": ""
            },
            "type": "mesh3d"
           }
          ],
          "parcoords": [
           {
            "line": {
             "colorbar": {
              "outlinewidth": 0,
              "ticks": ""
             }
            },
            "type": "parcoords"
           }
          ],
          "pie": [
           {
            "automargin": true,
            "type": "pie"
           }
          ],
          "scatter": [
           {
            "fillpattern": {
             "fillmode": "overlay",
             "size": 10,
             "solidity": 0.2
            },
            "type": "scatter"
           }
          ],
          "scatter3d": [
           {
            "line": {
             "colorbar": {
              "outlinewidth": 0,
              "ticks": ""
             }
            },
            "marker": {
             "colorbar": {
              "outlinewidth": 0,
              "ticks": ""
             }
            },
            "type": "scatter3d"
           }
          ],
          "scattercarpet": [
           {
            "marker": {
             "colorbar": {
              "outlinewidth": 0,
              "ticks": ""
             }
            },
            "type": "scattercarpet"
           }
          ],
          "scattergeo": [
           {
            "marker": {
             "colorbar": {
              "outlinewidth": 0,
              "ticks": ""
             }
            },
            "type": "scattergeo"
           }
          ],
          "scattergl": [
           {
            "marker": {
             "colorbar": {
              "outlinewidth": 0,
              "ticks": ""
             }
            },
            "type": "scattergl"
           }
          ],
          "scattermapbox": [
           {
            "marker": {
             "colorbar": {
              "outlinewidth": 0,
              "ticks": ""
             }
            },
            "type": "scattermapbox"
           }
          ],
          "scatterpolar": [
           {
            "marker": {
             "colorbar": {
              "outlinewidth": 0,
              "ticks": ""
             }
            },
            "type": "scatterpolar"
           }
          ],
          "scatterpolargl": [
           {
            "marker": {
             "colorbar": {
              "outlinewidth": 0,
              "ticks": ""
             }
            },
            "type": "scatterpolargl"
           }
          ],
          "scatterternary": [
           {
            "marker": {
             "colorbar": {
              "outlinewidth": 0,
              "ticks": ""
             }
            },
            "type": "scatterternary"
           }
          ],
          "surface": [
           {
            "colorbar": {
             "outlinewidth": 0,
             "ticks": ""
            },
            "colorscale": [
             [
              0,
              "#0d0887"
             ],
             [
              0.1111111111111111,
              "#46039f"
             ],
             [
              0.2222222222222222,
              "#7201a8"
             ],
             [
              0.3333333333333333,
              "#9c179e"
             ],
             [
              0.4444444444444444,
              "#bd3786"
             ],
             [
              0.5555555555555556,
              "#d8576b"
             ],
             [
              0.6666666666666666,
              "#ed7953"
             ],
             [
              0.7777777777777778,
              "#fb9f3a"
             ],
             [
              0.8888888888888888,
              "#fdca26"
             ],
             [
              1,
              "#f0f921"
             ]
            ],
            "type": "surface"
           }
          ],
          "table": [
           {
            "cells": {
             "fill": {
              "color": "#EBF0F8"
             },
             "line": {
              "color": "white"
             }
            },
            "header": {
             "fill": {
              "color": "#C8D4E3"
             },
             "line": {
              "color": "white"
             }
            },
            "type": "table"
           }
          ]
         },
         "layout": {
          "annotationdefaults": {
           "arrowcolor": "#2a3f5f",
           "arrowhead": 0,
           "arrowwidth": 1
          },
          "autotypenumbers": "strict",
          "coloraxis": {
           "colorbar": {
            "outlinewidth": 0,
            "ticks": ""
           }
          },
          "colorscale": {
           "diverging": [
            [
             0,
             "#8e0152"
            ],
            [
             0.1,
             "#c51b7d"
            ],
            [
             0.2,
             "#de77ae"
            ],
            [
             0.3,
             "#f1b6da"
            ],
            [
             0.4,
             "#fde0ef"
            ],
            [
             0.5,
             "#f7f7f7"
            ],
            [
             0.6,
             "#e6f5d0"
            ],
            [
             0.7,
             "#b8e186"
            ],
            [
             0.8,
             "#7fbc41"
            ],
            [
             0.9,
             "#4d9221"
            ],
            [
             1,
             "#276419"
            ]
           ],
           "sequential": [
            [
             0,
             "#0d0887"
            ],
            [
             0.1111111111111111,
             "#46039f"
            ],
            [
             0.2222222222222222,
             "#7201a8"
            ],
            [
             0.3333333333333333,
             "#9c179e"
            ],
            [
             0.4444444444444444,
             "#bd3786"
            ],
            [
             0.5555555555555556,
             "#d8576b"
            ],
            [
             0.6666666666666666,
             "#ed7953"
            ],
            [
             0.7777777777777778,
             "#fb9f3a"
            ],
            [
             0.8888888888888888,
             "#fdca26"
            ],
            [
             1,
             "#f0f921"
            ]
           ],
           "sequentialminus": [
            [
             0,
             "#0d0887"
            ],
            [
             0.1111111111111111,
             "#46039f"
            ],
            [
             0.2222222222222222,
             "#7201a8"
            ],
            [
             0.3333333333333333,
             "#9c179e"
            ],
            [
             0.4444444444444444,
             "#bd3786"
            ],
            [
             0.5555555555555556,
             "#d8576b"
            ],
            [
             0.6666666666666666,
             "#ed7953"
            ],
            [
             0.7777777777777778,
             "#fb9f3a"
            ],
            [
             0.8888888888888888,
             "#fdca26"
            ],
            [
             1,
             "#f0f921"
            ]
           ]
          },
          "colorway": [
           "#636efa",
           "#EF553B",
           "#00cc96",
           "#ab63fa",
           "#FFA15A",
           "#19d3f3",
           "#FF6692",
           "#B6E880",
           "#FF97FF",
           "#FECB52"
          ],
          "font": {
           "color": "#2a3f5f"
          },
          "geo": {
           "bgcolor": "white",
           "lakecolor": "white",
           "landcolor": "#E5ECF6",
           "showlakes": true,
           "showland": true,
           "subunitcolor": "white"
          },
          "hoverlabel": {
           "align": "left"
          },
          "hovermode": "closest",
          "mapbox": {
           "style": "light"
          },
          "paper_bgcolor": "white",
          "plot_bgcolor": "#E5ECF6",
          "polar": {
           "angularaxis": {
            "gridcolor": "white",
            "linecolor": "white",
            "ticks": ""
           },
           "bgcolor": "#E5ECF6",
           "radialaxis": {
            "gridcolor": "white",
            "linecolor": "white",
            "ticks": ""
           }
          },
          "scene": {
           "xaxis": {
            "backgroundcolor": "#E5ECF6",
            "gridcolor": "white",
            "gridwidth": 2,
            "linecolor": "white",
            "showbackground": true,
            "ticks": "",
            "zerolinecolor": "white"
           },
           "yaxis": {
            "backgroundcolor": "#E5ECF6",
            "gridcolor": "white",
            "gridwidth": 2,
            "linecolor": "white",
            "showbackground": true,
            "ticks": "",
            "zerolinecolor": "white"
           },
           "zaxis": {
            "backgroundcolor": "#E5ECF6",
            "gridcolor": "white",
            "gridwidth": 2,
            "linecolor": "white",
            "showbackground": true,
            "ticks": "",
            "zerolinecolor": "white"
           }
          },
          "shapedefaults": {
           "line": {
            "color": "#2a3f5f"
           }
          },
          "ternary": {
           "aaxis": {
            "gridcolor": "white",
            "linecolor": "white",
            "ticks": ""
           },
           "baxis": {
            "gridcolor": "white",
            "linecolor": "white",
            "ticks": ""
           },
           "bgcolor": "#E5ECF6",
           "caxis": {
            "gridcolor": "white",
            "linecolor": "white",
            "ticks": ""
           }
          },
          "title": {
           "x": 0.05
          },
          "xaxis": {
           "automargin": true,
           "gridcolor": "white",
           "linecolor": "white",
           "ticks": "",
           "title": {
            "standoff": 15
           },
           "zerolinecolor": "white",
           "zerolinewidth": 2
          },
          "yaxis": {
           "automargin": true,
           "gridcolor": "white",
           "linecolor": "white",
           "ticks": "",
           "title": {
            "standoff": 15
           },
           "zerolinecolor": "white",
           "zerolinewidth": 2
          }
         }
        },
        "title": {
         "text": "Einfluss der Familiengröße und dessen <br>Beziehungsqualität auf die Lernleistung"
        },
        "width": 1200,
        "xaxis": {
         "title": {
          "font": {
           "size": 15
          },
          "text": "Qualität der Familienbeziehung<br>(1: sehr schlecht - 5: sehr gut)"
         }
        },
        "yaxis": {
         "range": [
          0,
          20
         ],
         "title": {
          "font": {
           "size": 15
          },
          "text": "Median der erreichten Notenpunkte <br>in beiden Fächern"
         }
        }
       }
      }
     },
     "metadata": {},
     "output_type": "display_data"
    }
   ],
   "source": [
    "agg_bar_df = bar_df.groupby(['famsize', 'famrel'])['g3'].median().reset_index()\n",
    "\n",
    "# Create histograms for each family size\n",
    "bar = go.Figure()\n",
    "bar.add_trace(go.Bar(x=agg_bar_df[agg_bar_df['famsize'] == 'LE3']['famrel'], y=agg_bar_df['g3'],name='Kleine Familie (<=3 Pers.)'))\n",
    "bar.add_trace(go.Bar(x=agg_bar_df[agg_bar_df['famsize'] == 'GT3']['famrel'], y=agg_bar_df['g3'], name='Große Familie (>3 Pers.)'))\n",
    "\n",
    "# Update layout\n",
    "bar.update_layout(\n",
    "    title='Einfluss der Familiengröße und dessen <br>Beziehungsqualität auf die Lernleistung',\n",
    "    yaxis = dict(range=[0,20]),\n",
    "\n",
    "    legend=dict(title='Familiengröße', orientation='v', traceorder='normal', x=0.78, y=1.15, font=dict(size=14)),\n",
    "    height=700,\n",
    "    width=1200,\n",
    "    margin=dict(l=50, r=20, t=10, b=50),\n",
    ")\n",
    "\n",
    "bar.update_xaxes(title_text='Qualität der Familienbeziehung<br>(1: sehr schlecht - 5: sehr gut)', title_font=dict(size=15))\n",
    "bar.update_yaxes(title_text='Median der erreichten Notenpunkte <br>in beiden Fächern', title_font=dict(size=15))\n",
    "\n",
    "# Show the plot\n",
    "bar.write_image('bar.png')\n",
    "bar.show()"
   ]
  },
  {
   "cell_type": "markdown",
   "metadata": {},
   "source": [
    "#### partnerliches und freundschaftliches Umfeld"
   ]
  },
  {
   "cell_type": "code",
   "execution_count": 19,
   "metadata": {},
   "outputs": [
    {
     "name": "stdout",
     "output_type": "stream",
     "text": [
      "0.03 % of contradictory values\n",
      "0.02 % of contradictory values\n"
     ]
    },
    {
     "data": {
      "text/html": [
       "<div>\n",
       "<style scoped>\n",
       "    .dataframe tbody tr th:only-of-type {\n",
       "        vertical-align: middle;\n",
       "    }\n",
       "\n",
       "    .dataframe tbody tr th {\n",
       "        vertical-align: top;\n",
       "    }\n",
       "\n",
       "    .dataframe thead th {\n",
       "        text-align: right;\n",
       "    }\n",
       "</style>\n",
       "<table border=\"1\" class=\"dataframe\">\n",
       "  <thead>\n",
       "    <tr style=\"text-align: right;\">\n",
       "      <th></th>\n",
       "      <th>g3</th>\n",
       "      <th>goout</th>\n",
       "      <th>romantic</th>\n",
       "    </tr>\n",
       "  </thead>\n",
       "  <tbody>\n",
       "    <tr>\n",
       "      <th>0</th>\n",
       "      <td>8.5</td>\n",
       "      <td>4.0</td>\n",
       "      <td>no</td>\n",
       "    </tr>\n",
       "    <tr>\n",
       "      <th>1</th>\n",
       "      <td>8.5</td>\n",
       "      <td>3.0</td>\n",
       "      <td>no</td>\n",
       "    </tr>\n",
       "    <tr>\n",
       "      <th>2</th>\n",
       "      <td>11.0</td>\n",
       "      <td>2.0</td>\n",
       "      <td>no</td>\n",
       "    </tr>\n",
       "    <tr>\n",
       "      <th>3</th>\n",
       "      <td>14.5</td>\n",
       "      <td>2.0</td>\n",
       "      <td>yes</td>\n",
       "    </tr>\n",
       "    <tr>\n",
       "      <th>4</th>\n",
       "      <td>11.5</td>\n",
       "      <td>2.0</td>\n",
       "      <td>no</td>\n",
       "    </tr>\n",
       "    <tr>\n",
       "      <th>...</th>\n",
       "      <td>...</td>\n",
       "      <td>...</td>\n",
       "      <td>...</td>\n",
       "    </tr>\n",
       "    <tr>\n",
       "      <th>377</th>\n",
       "      <td>5.0</td>\n",
       "      <td>2.0</td>\n",
       "      <td>no</td>\n",
       "    </tr>\n",
       "    <tr>\n",
       "      <th>378</th>\n",
       "      <td>12.0</td>\n",
       "      <td>4.0</td>\n",
       "      <td>no</td>\n",
       "    </tr>\n",
       "    <tr>\n",
       "      <th>379</th>\n",
       "      <td>4.5</td>\n",
       "      <td>1.0</td>\n",
       "      <td>no</td>\n",
       "    </tr>\n",
       "    <tr>\n",
       "      <th>380</th>\n",
       "      <td>13.0</td>\n",
       "      <td>5.0</td>\n",
       "      <td>no</td>\n",
       "    </tr>\n",
       "    <tr>\n",
       "      <th>381</th>\n",
       "      <td>10.5</td>\n",
       "      <td>1.0</td>\n",
       "      <td>no</td>\n",
       "    </tr>\n",
       "  </tbody>\n",
       "</table>\n",
       "<p>370 rows × 3 columns</p>\n",
       "</div>"
      ],
      "text/plain": [
       "       g3  goout romantic\n",
       "0     8.5    4.0       no\n",
       "1     8.5    3.0       no\n",
       "2    11.0    2.0       no\n",
       "3    14.5    2.0      yes\n",
       "4    11.5    2.0       no\n",
       "..    ...    ...      ...\n",
       "377   5.0    2.0       no\n",
       "378  12.0    4.0       no\n",
       "379   4.5    1.0       no\n",
       "380  13.0    5.0       no\n",
       "381  10.5    1.0       no\n",
       "\n",
       "[370 rows x 3 columns]"
      ]
     },
     "execution_count": 19,
     "metadata": {},
     "output_type": "execute_result"
    }
   ],
   "source": [
    "# data filtering\n",
    "result = check_contraditories(inner_mixed_df, ['goout'])\n",
    "print(f'{np.round(len(result) / len(inner_mixed_df),2)} % of contradictory values')\n",
    "result2 = check_contraditories(inner_mixed_df, ['romantic'])\n",
    "print(f'{np.round(len(result2) / len(inner_mixed_df),2)} % of contradictory values')\n",
    "\n",
    "box_df = pd.DataFrame()\n",
    "box_df['g3'] = pd.concat([inner_mixed_df['G3_x'], inner_mixed_df['G3_y']], axis=1).median(axis=1)\n",
    "box_df['goout'] = pd.concat([inner_mixed_df['goout_x'], inner_mixed_df['goout_y']], axis=1).median(axis=1)\n",
    "box_df['romantic'] = inner_mixed_df['romantic_x']\n",
    "box_df.drop(index=result.index.append(result2.index), inplace=True)\n",
    "box_df"
   ]
  },
  {
   "cell_type": "code",
   "execution_count": 20,
   "metadata": {},
   "outputs": [
    {
     "data": {
      "application/vnd.plotly.v1+json": {
       "config": {
        "plotlyServerURL": "https://plot.ly"
       },
       "data": [
        {
         "marker": {
          "color": "grey"
         },
         "name": "Nein",
         "offsetgroup": "0",
         "type": "box",
         "x": [
          4,
          3,
          2,
          2,
          2,
          4,
          4,
          2,
          1,
          3,
          2,
          3,
          3,
          4,
          3,
          2,
          5,
          3,
          1,
          2,
          1,
          4,
          2,
          2,
          2,
          4,
          3,
          2,
          1,
          2,
          3,
          1,
          3,
          2,
          1,
          3,
          1,
          3,
          5,
          2,
          3,
          4,
          3,
          3,
          5,
          4,
          4,
          2,
          2,
          2,
          3,
          4,
          3,
          4,
          3,
          3,
          3,
          2,
          2,
          3,
          2,
          3,
          3,
          3,
          1,
          3,
          2,
          4,
          3,
          2,
          4,
          3,
          2,
          3,
          5,
          3,
          3,
          4,
          2,
          3,
          4,
          5,
          5,
          3,
          5,
          4,
          3,
          2,
          3,
          3,
          2,
          2,
          2,
          4,
          3,
          2,
          4,
          3,
          3,
          4,
          4,
          5,
          2,
          5,
          1,
          5,
          2,
          2,
          3,
          2,
          4,
          5,
          2,
          2,
          2,
          5,
          4,
          2,
          5,
          2,
          5,
          5,
          5,
          4,
          5,
          4,
          4,
          4,
          3,
          2,
          2,
          3,
          3,
          3,
          4,
          2,
          3,
          3,
          4,
          4,
          2,
          5,
          3,
          4,
          2,
          5,
          3,
          2,
          3,
          4,
          4,
          1,
          4,
          4,
          3,
          3,
          5,
          1,
          3,
          2,
          4,
          3,
          2,
          4,
          2,
          1,
          4,
          3,
          5,
          2,
          3,
          2,
          2,
          5,
          3,
          5,
          2,
          2,
          4,
          3,
          1,
          4,
          2,
          2,
          3,
          5,
          4,
          5,
          3,
          4,
          3,
          4,
          2,
          4,
          5,
          3,
          3,
          3,
          4,
          3,
          2,
          2,
          2,
          3,
          4,
          3,
          1,
          3,
          2,
          3,
          3,
          4,
          4,
          2,
          3,
          3,
          3,
          5,
          5,
          4,
          5,
          4,
          4,
          5,
          3,
          3,
          3,
          3,
          5,
          4,
          4,
          4,
          3,
          2,
          2,
          4,
          5,
          4,
          2,
          3,
          4,
          4,
          3,
          2,
          3,
          3,
          2,
          4,
          1,
          5,
          1
         ],
         "y": [
          8.5,
          8.5,
          11,
          11.5,
          14,
          12,
          9.5,
          18,
          14,
          11.5,
          12.5,
          13,
          12,
          15.5,
          14,
          12,
          6,
          11,
          14.5,
          13.5,
          15,
          11,
          9,
          10,
          11.5,
          13,
          12,
          11.5,
          16,
          12,
          13.5,
          8.5,
          16,
          11.5,
          12.5,
          16.5,
          10.5,
          10,
          12,
          18.5,
          13.5,
          9.5,
          13,
          14.5,
          9.5,
          11.5,
          13,
          15,
          15.5,
          11.5,
          16,
          13.5,
          9.5,
          11,
          15.5,
          8,
          9.5,
          15.5,
          13,
          10,
          14,
          11,
          10.5,
          10.5,
          10,
          8,
          10,
          8.5,
          14,
          11,
          8.5,
          14.5,
          10.5,
          8.5,
          15.5,
          9,
          12,
          13,
          11.5,
          13,
          13.5,
          10.5,
          6.5,
          13,
          8,
          17,
          10.5,
          9,
          16,
          16.5,
          10.5,
          11.5,
          18.5,
          15,
          15,
          14,
          9.5,
          13.5,
          14.5,
          14,
          13,
          10.5,
          10,
          16.5,
          12.5,
          5,
          14.5,
          5.5,
          10,
          12,
          12,
          3,
          11.5,
          5.5,
          12,
          10.5,
          8,
          11.5,
          10.5,
          13,
          10.5,
          6.5,
          5,
          10,
          12,
          10,
          12.5,
          8,
          9.5,
          17,
          14,
          10,
          13,
          10.5,
          10,
          10,
          13,
          15,
          11,
          17,
          10.5,
          15.5,
          11,
          12.5,
          9.5,
          12,
          9.5,
          11.5,
          10,
          13.5,
          9.5,
          10.5,
          15,
          9,
          10.5,
          11.5,
          8.5,
          15.5,
          11.5,
          15,
          16,
          11.5,
          12,
          13.5,
          7.5,
          12,
          4,
          12,
          7.5,
          13.5,
          17,
          13,
          13,
          7.5,
          10,
          7,
          10,
          12.5,
          9,
          15,
          12.5,
          15,
          9.5,
          12,
          11,
          16.5,
          11.5,
          10.5,
          12,
          10.5,
          10,
          11.5,
          15,
          11.5,
          12.5,
          11.5,
          18.5,
          13,
          14.5,
          16,
          16.5,
          18.5,
          14.5,
          13,
          6.5,
          15.5,
          11.5,
          15,
          18,
          16.5,
          7.5,
          13.5,
          12,
          10.5,
          16,
          15,
          12,
          16.5,
          10,
          11,
          10,
          6,
          7,
          14.5,
          16,
          13,
          6.5,
          12,
          12,
          9.5,
          11.5,
          9,
          12.5,
          17,
          12.5,
          9.5,
          7,
          18,
          11,
          12,
          9.5,
          16.5,
          13,
          0,
          2.5,
          12.5,
          5,
          12,
          4.5,
          13,
          10.5
         ]
        },
        {
         "marker": {
          "color": "#E41B17"
         },
         "name": "Ja",
         "offsetgroup": "1",
         "type": "box",
         "x": [
          2,
          2,
          5,
          2,
          3,
          3,
          3,
          2,
          4,
          5,
          4,
          3,
          4,
          3,
          2,
          4,
          3,
          5,
          3,
          5,
          5,
          2,
          2,
          4,
          2,
          2,
          3,
          4,
          3,
          3,
          2,
          4,
          2,
          5,
          4,
          1,
          4,
          1,
          5,
          2,
          5,
          3,
          2,
          2,
          5,
          3,
          3,
          3,
          3,
          4,
          3,
          3,
          3,
          2,
          3,
          2,
          2,
          5,
          5,
          4,
          3,
          2,
          3,
          3,
          5,
          3,
          2,
          2,
          5,
          4,
          5,
          3,
          1,
          2,
          3,
          4,
          5,
          5,
          5,
          2,
          3,
          4,
          1,
          4,
          4,
          2,
          5,
          2,
          4,
          3,
          4,
          2,
          2,
          3,
          3,
          3,
          2,
          3,
          1,
          3,
          2,
          5,
          3,
          3,
          5,
          4,
          3,
          2,
          2,
          4,
          2,
          1,
          3,
          2,
          3,
          3,
          3,
          3,
          3
         ],
         "y": [
          14.5,
          15.5,
          11.5,
          15.5,
          14,
          10.5,
          11.5,
          8.5,
          11,
          13.5,
          11,
          12,
          8,
          12,
          12,
          10,
          9.5,
          11,
          16.5,
          12,
          15,
          9.5,
          13,
          9.5,
          11,
          6,
          6.5,
          12,
          5.5,
          7.5,
          5,
          11,
          4,
          0,
          12,
          11.5,
          5.5,
          12.5,
          6.5,
          4.5,
          7.5,
          17,
          15.5,
          17,
          6.5,
          10,
          12,
          12.5,
          11,
          12.5,
          11,
          15.5,
          11.5,
          15.5,
          8.5,
          14,
          9.5,
          12.5,
          7,
          6,
          7.5,
          10,
          14,
          13,
          11,
          11,
          14.5,
          11,
          13.5,
          5.5,
          6.5,
          7.5,
          6,
          16.5,
          6.5,
          12,
          12,
          5,
          15,
          16,
          13,
          12,
          9.5,
          10.5,
          9,
          13.5,
          11,
          16.5,
          13,
          11.5,
          13,
          15,
          11,
          14.5,
          14.5,
          6,
          7.5,
          16,
          7,
          15.5,
          16.5,
          11.5,
          14,
          8.5,
          11,
          9.5,
          13,
          12,
          11.5,
          15,
          14.5,
          4.5,
          10,
          5.5,
          11,
          11.5,
          15.5,
          3.5,
          8
         ]
        }
       ],
       "layout": {
        "boxmode": "group",
        "height": 700,
        "legend": {
         "font": {
          "size": 14
         },
         "orientation": "v",
         "title": {
          "text": "Partner vorhanden"
         },
         "traceorder": "normal",
         "x": 0.85,
         "y": 1.15
        },
        "margin": {
         "b": 50,
         "l": 50,
         "r": 20,
         "t": 10
        },
        "template": {
         "data": {
          "bar": [
           {
            "error_x": {
             "color": "#2a3f5f"
            },
            "error_y": {
             "color": "#2a3f5f"
            },
            "marker": {
             "line": {
              "color": "#E5ECF6",
              "width": 0.5
             },
             "pattern": {
              "fillmode": "overlay",
              "size": 10,
              "solidity": 0.2
             }
            },
            "type": "bar"
           }
          ],
          "barpolar": [
           {
            "marker": {
             "line": {
              "color": "#E5ECF6",
              "width": 0.5
             },
             "pattern": {
              "fillmode": "overlay",
              "size": 10,
              "solidity": 0.2
             }
            },
            "type": "barpolar"
           }
          ],
          "carpet": [
           {
            "aaxis": {
             "endlinecolor": "#2a3f5f",
             "gridcolor": "white",
             "linecolor": "white",
             "minorgridcolor": "white",
             "startlinecolor": "#2a3f5f"
            },
            "baxis": {
             "endlinecolor": "#2a3f5f",
             "gridcolor": "white",
             "linecolor": "white",
             "minorgridcolor": "white",
             "startlinecolor": "#2a3f5f"
            },
            "type": "carpet"
           }
          ],
          "choropleth": [
           {
            "colorbar": {
             "outlinewidth": 0,
             "ticks": ""
            },
            "type": "choropleth"
           }
          ],
          "contour": [
           {
            "colorbar": {
             "outlinewidth": 0,
             "ticks": ""
            },
            "colorscale": [
             [
              0,
              "#0d0887"
             ],
             [
              0.1111111111111111,
              "#46039f"
             ],
             [
              0.2222222222222222,
              "#7201a8"
             ],
             [
              0.3333333333333333,
              "#9c179e"
             ],
             [
              0.4444444444444444,
              "#bd3786"
             ],
             [
              0.5555555555555556,
              "#d8576b"
             ],
             [
              0.6666666666666666,
              "#ed7953"
             ],
             [
              0.7777777777777778,
              "#fb9f3a"
             ],
             [
              0.8888888888888888,
              "#fdca26"
             ],
             [
              1,
              "#f0f921"
             ]
            ],
            "type": "contour"
           }
          ],
          "contourcarpet": [
           {
            "colorbar": {
             "outlinewidth": 0,
             "ticks": ""
            },
            "type": "contourcarpet"
           }
          ],
          "heatmap": [
           {
            "colorbar": {
             "outlinewidth": 0,
             "ticks": ""
            },
            "colorscale": [
             [
              0,
              "#0d0887"
             ],
             [
              0.1111111111111111,
              "#46039f"
             ],
             [
              0.2222222222222222,
              "#7201a8"
             ],
             [
              0.3333333333333333,
              "#9c179e"
             ],
             [
              0.4444444444444444,
              "#bd3786"
             ],
             [
              0.5555555555555556,
              "#d8576b"
             ],
             [
              0.6666666666666666,
              "#ed7953"
             ],
             [
              0.7777777777777778,
              "#fb9f3a"
             ],
             [
              0.8888888888888888,
              "#fdca26"
             ],
             [
              1,
              "#f0f921"
             ]
            ],
            "type": "heatmap"
           }
          ],
          "heatmapgl": [
           {
            "colorbar": {
             "outlinewidth": 0,
             "ticks": ""
            },
            "colorscale": [
             [
              0,
              "#0d0887"
             ],
             [
              0.1111111111111111,
              "#46039f"
             ],
             [
              0.2222222222222222,
              "#7201a8"
             ],
             [
              0.3333333333333333,
              "#9c179e"
             ],
             [
              0.4444444444444444,
              "#bd3786"
             ],
             [
              0.5555555555555556,
              "#d8576b"
             ],
             [
              0.6666666666666666,
              "#ed7953"
             ],
             [
              0.7777777777777778,
              "#fb9f3a"
             ],
             [
              0.8888888888888888,
              "#fdca26"
             ],
             [
              1,
              "#f0f921"
             ]
            ],
            "type": "heatmapgl"
           }
          ],
          "histogram": [
           {
            "marker": {
             "pattern": {
              "fillmode": "overlay",
              "size": 10,
              "solidity": 0.2
             }
            },
            "type": "histogram"
           }
          ],
          "histogram2d": [
           {
            "colorbar": {
             "outlinewidth": 0,
             "ticks": ""
            },
            "colorscale": [
             [
              0,
              "#0d0887"
             ],
             [
              0.1111111111111111,
              "#46039f"
             ],
             [
              0.2222222222222222,
              "#7201a8"
             ],
             [
              0.3333333333333333,
              "#9c179e"
             ],
             [
              0.4444444444444444,
              "#bd3786"
             ],
             [
              0.5555555555555556,
              "#d8576b"
             ],
             [
              0.6666666666666666,
              "#ed7953"
             ],
             [
              0.7777777777777778,
              "#fb9f3a"
             ],
             [
              0.8888888888888888,
              "#fdca26"
             ],
             [
              1,
              "#f0f921"
             ]
            ],
            "type": "histogram2d"
           }
          ],
          "histogram2dcontour": [
           {
            "colorbar": {
             "outlinewidth": 0,
             "ticks": ""
            },
            "colorscale": [
             [
              0,
              "#0d0887"
             ],
             [
              0.1111111111111111,
              "#46039f"
             ],
             [
              0.2222222222222222,
              "#7201a8"
             ],
             [
              0.3333333333333333,
              "#9c179e"
             ],
             [
              0.4444444444444444,
              "#bd3786"
             ],
             [
              0.5555555555555556,
              "#d8576b"
             ],
             [
              0.6666666666666666,
              "#ed7953"
             ],
             [
              0.7777777777777778,
              "#fb9f3a"
             ],
             [
              0.8888888888888888,
              "#fdca26"
             ],
             [
              1,
              "#f0f921"
             ]
            ],
            "type": "histogram2dcontour"
           }
          ],
          "mesh3d": [
           {
            "colorbar": {
             "outlinewidth": 0,
             "ticks": ""
            },
            "type": "mesh3d"
           }
          ],
          "parcoords": [
           {
            "line": {
             "colorbar": {
              "outlinewidth": 0,
              "ticks": ""
             }
            },
            "type": "parcoords"
           }
          ],
          "pie": [
           {
            "automargin": true,
            "type": "pie"
           }
          ],
          "scatter": [
           {
            "fillpattern": {
             "fillmode": "overlay",
             "size": 10,
             "solidity": 0.2
            },
            "type": "scatter"
           }
          ],
          "scatter3d": [
           {
            "line": {
             "colorbar": {
              "outlinewidth": 0,
              "ticks": ""
             }
            },
            "marker": {
             "colorbar": {
              "outlinewidth": 0,
              "ticks": ""
             }
            },
            "type": "scatter3d"
           }
          ],
          "scattercarpet": [
           {
            "marker": {
             "colorbar": {
              "outlinewidth": 0,
              "ticks": ""
             }
            },
            "type": "scattercarpet"
           }
          ],
          "scattergeo": [
           {
            "marker": {
             "colorbar": {
              "outlinewidth": 0,
              "ticks": ""
             }
            },
            "type": "scattergeo"
           }
          ],
          "scattergl": [
           {
            "marker": {
             "colorbar": {
              "outlinewidth": 0,
              "ticks": ""
             }
            },
            "type": "scattergl"
           }
          ],
          "scattermapbox": [
           {
            "marker": {
             "colorbar": {
              "outlinewidth": 0,
              "ticks": ""
             }
            },
            "type": "scattermapbox"
           }
          ],
          "scatterpolar": [
           {
            "marker": {
             "colorbar": {
              "outlinewidth": 0,
              "ticks": ""
             }
            },
            "type": "scatterpolar"
           }
          ],
          "scatterpolargl": [
           {
            "marker": {
             "colorbar": {
              "outlinewidth": 0,
              "ticks": ""
             }
            },
            "type": "scatterpolargl"
           }
          ],
          "scatterternary": [
           {
            "marker": {
             "colorbar": {
              "outlinewidth": 0,
              "ticks": ""
             }
            },
            "type": "scatterternary"
           }
          ],
          "surface": [
           {
            "colorbar": {
             "outlinewidth": 0,
             "ticks": ""
            },
            "colorscale": [
             [
              0,
              "#0d0887"
             ],
             [
              0.1111111111111111,
              "#46039f"
             ],
             [
              0.2222222222222222,
              "#7201a8"
             ],
             [
              0.3333333333333333,
              "#9c179e"
             ],
             [
              0.4444444444444444,
              "#bd3786"
             ],
             [
              0.5555555555555556,
              "#d8576b"
             ],
             [
              0.6666666666666666,
              "#ed7953"
             ],
             [
              0.7777777777777778,
              "#fb9f3a"
             ],
             [
              0.8888888888888888,
              "#fdca26"
             ],
             [
              1,
              "#f0f921"
             ]
            ],
            "type": "surface"
           }
          ],
          "table": [
           {
            "cells": {
             "fill": {
              "color": "#EBF0F8"
             },
             "line": {
              "color": "white"
             }
            },
            "header": {
             "fill": {
              "color": "#C8D4E3"
             },
             "line": {
              "color": "white"
             }
            },
            "type": "table"
           }
          ]
         },
         "layout": {
          "annotationdefaults": {
           "arrowcolor": "#2a3f5f",
           "arrowhead": 0,
           "arrowwidth": 1
          },
          "autotypenumbers": "strict",
          "coloraxis": {
           "colorbar": {
            "outlinewidth": 0,
            "ticks": ""
           }
          },
          "colorscale": {
           "diverging": [
            [
             0,
             "#8e0152"
            ],
            [
             0.1,
             "#c51b7d"
            ],
            [
             0.2,
             "#de77ae"
            ],
            [
             0.3,
             "#f1b6da"
            ],
            [
             0.4,
             "#fde0ef"
            ],
            [
             0.5,
             "#f7f7f7"
            ],
            [
             0.6,
             "#e6f5d0"
            ],
            [
             0.7,
             "#b8e186"
            ],
            [
             0.8,
             "#7fbc41"
            ],
            [
             0.9,
             "#4d9221"
            ],
            [
             1,
             "#276419"
            ]
           ],
           "sequential": [
            [
             0,
             "#0d0887"
            ],
            [
             0.1111111111111111,
             "#46039f"
            ],
            [
             0.2222222222222222,
             "#7201a8"
            ],
            [
             0.3333333333333333,
             "#9c179e"
            ],
            [
             0.4444444444444444,
             "#bd3786"
            ],
            [
             0.5555555555555556,
             "#d8576b"
            ],
            [
             0.6666666666666666,
             "#ed7953"
            ],
            [
             0.7777777777777778,
             "#fb9f3a"
            ],
            [
             0.8888888888888888,
             "#fdca26"
            ],
            [
             1,
             "#f0f921"
            ]
           ],
           "sequentialminus": [
            [
             0,
             "#0d0887"
            ],
            [
             0.1111111111111111,
             "#46039f"
            ],
            [
             0.2222222222222222,
             "#7201a8"
            ],
            [
             0.3333333333333333,
             "#9c179e"
            ],
            [
             0.4444444444444444,
             "#bd3786"
            ],
            [
             0.5555555555555556,
             "#d8576b"
            ],
            [
             0.6666666666666666,
             "#ed7953"
            ],
            [
             0.7777777777777778,
             "#fb9f3a"
            ],
            [
             0.8888888888888888,
             "#fdca26"
            ],
            [
             1,
             "#f0f921"
            ]
           ]
          },
          "colorway": [
           "#636efa",
           "#EF553B",
           "#00cc96",
           "#ab63fa",
           "#FFA15A",
           "#19d3f3",
           "#FF6692",
           "#B6E880",
           "#FF97FF",
           "#FECB52"
          ],
          "font": {
           "color": "#2a3f5f"
          },
          "geo": {
           "bgcolor": "white",
           "lakecolor": "white",
           "landcolor": "#E5ECF6",
           "showlakes": true,
           "showland": true,
           "subunitcolor": "white"
          },
          "hoverlabel": {
           "align": "left"
          },
          "hovermode": "closest",
          "mapbox": {
           "style": "light"
          },
          "paper_bgcolor": "white",
          "plot_bgcolor": "#E5ECF6",
          "polar": {
           "angularaxis": {
            "gridcolor": "white",
            "linecolor": "white",
            "ticks": ""
           },
           "bgcolor": "#E5ECF6",
           "radialaxis": {
            "gridcolor": "white",
            "linecolor": "white",
            "ticks": ""
           }
          },
          "scene": {
           "xaxis": {
            "backgroundcolor": "#E5ECF6",
            "gridcolor": "white",
            "gridwidth": 2,
            "linecolor": "white",
            "showbackground": true,
            "ticks": "",
            "zerolinecolor": "white"
           },
           "yaxis": {
            "backgroundcolor": "#E5ECF6",
            "gridcolor": "white",
            "gridwidth": 2,
            "linecolor": "white",
            "showbackground": true,
            "ticks": "",
            "zerolinecolor": "white"
           },
           "zaxis": {
            "backgroundcolor": "#E5ECF6",
            "gridcolor": "white",
            "gridwidth": 2,
            "linecolor": "white",
            "showbackground": true,
            "ticks": "",
            "zerolinecolor": "white"
           }
          },
          "shapedefaults": {
           "line": {
            "color": "#2a3f5f"
           }
          },
          "ternary": {
           "aaxis": {
            "gridcolor": "white",
            "linecolor": "white",
            "ticks": ""
           },
           "baxis": {
            "gridcolor": "white",
            "linecolor": "white",
            "ticks": ""
           },
           "bgcolor": "#E5ECF6",
           "caxis": {
            "gridcolor": "white",
            "linecolor": "white",
            "ticks": ""
           }
          },
          "title": {
           "x": 0.05
          },
          "xaxis": {
           "automargin": true,
           "gridcolor": "white",
           "linecolor": "white",
           "ticks": "",
           "title": {
            "standoff": 15
           },
           "zerolinecolor": "white",
           "zerolinewidth": 2
          },
          "yaxis": {
           "automargin": true,
           "gridcolor": "white",
           "linecolor": "white",
           "ticks": "",
           "title": {
            "standoff": 15
           },
           "zerolinecolor": "white",
           "zerolinewidth": 2
          }
         }
        },
        "title": {
         "text": "Lernleistungseinfluss des Partnerstatus und sozialer Aktivitäten"
        },
        "width": 1200,
        "xaxis": {
         "title": {
          "font": {
           "size": 15
          },
          "text": "Intensität sozialer Aktivitäten im Freundeskreis<br>(1: sehr gering - 5: sehr hoch)"
         }
        },
        "yaxis": {
         "range": [
          0,
          20
         ],
         "title": {
          "font": {
           "size": 15
          },
          "text": "Median der erreichten Notenpunkte <br>in beiden Fächern"
         }
        }
       }
      }
     },
     "metadata": {},
     "output_type": "display_data"
    }
   ],
   "source": [
    "box = go.Figure()\n",
    "\n",
    "category_map = {'yes': 'Ja', 'no': 'Nein'}\n",
    "\n",
    "for index, (category, color) in enumerate(zip(['no', 'yes'], ['grey', '#E41B17'])):\n",
    "    df_category = box_df[box_df['romantic'] == category]\n",
    "    box.add_trace(go.Box(\n",
    "        x=df_category['goout'],\n",
    "        y=df_category['g3'],\n",
    "        name=f'{category_map[category]}',\n",
    "        marker_color=color,\n",
    "        offsetgroup=index\n",
    "    ))\n",
    "\n",
    "box.update_layout(\n",
    "    title='Lernleistungseinfluss des Partnerstatus und sozialer Aktivitäten',\n",
    "    yaxis = dict(range=[0,20]),\n",
    "    boxmode='group',\n",
    "    legend=dict(title='Partner vorhanden', orientation='v', traceorder='normal', x=0.85, y=1.15, font=dict(size=14)),\n",
    "    height=700,\n",
    "    width=1200,\n",
    "    margin=dict(l=50, r=20, t=10, b=50),\n",
    ")\n",
    "\n",
    "box.update_xaxes(title_text='Intensität sozialer Aktivitäten im Freundeskreis<br>(1: sehr gering - 5: sehr hoch)', title_font=dict(size=15))\n",
    "box.update_yaxes(title_text='Median der erreichten Notenpunkte <br>in beiden Fächern', title_font=dict(size=15))\n",
    "\n",
    "box.write_image('box.png')\n",
    "box.show()"
   ]
  },
  {
   "cell_type": "markdown",
   "metadata": {},
   "source": [
    "### Einfluss der individuellen Leistungsbereitschaft"
   ]
  },
  {
   "cell_type": "markdown",
   "metadata": {},
   "source": [
    "#### Einfluss von Lernunterstützung"
   ]
  },
  {
   "cell_type": "code",
   "execution_count": 21,
   "metadata": {},
   "outputs": [
    {
     "name": "stdout",
     "output_type": "stream",
     "text": [
      "   mat_sup_sum    G3\n",
      "0            0  11.0\n",
      "1            1  11.0\n",
      "2            2  11.0\n",
      "3            3   9.0\n",
      "   por_sup_sum    G3\n",
      "0            0  12.0\n",
      "1            1  12.0\n",
      "2            2  12.0\n",
      "3            3  12.0\n"
     ]
    }
   ],
   "source": [
    "balk_df = pd.DataFrame()\n",
    "mat_df['mat_sup_sum'] = (mat_df[['schoolsup', 'famsup', 'paid']] == 'yes').sum(axis=1)\n",
    "por_df['por_sup_sum'] = (por_df[['schoolsup', 'famsup', 'paid']] == 'yes').sum(axis=1)\n",
    "\n",
    "aggr_mat_balk_df = mat_df.groupby(['mat_sup_sum'])['G3'].median().reset_index()\n",
    "aggr_por_balk_df = por_df.groupby(['por_sup_sum'])['G3'].median().reset_index()\n",
    "\n",
    "print(aggr_mat_balk_df)\n",
    "print(aggr_por_balk_df)"
   ]
  },
  {
   "cell_type": "code",
   "execution_count": 22,
   "metadata": {},
   "outputs": [
    {
     "data": {
      "application/vnd.plotly.v1+json": {
       "config": {
        "plotlyServerURL": "https://plot.ly"
       },
       "data": [
        {
         "marker": {
          "color": "blue"
         },
         "name": "Mathematik",
         "offsetgroup": "0",
         "orientation": "v",
         "type": "box",
         "x": [
          1,
          1,
          2,
          2,
          2,
          2,
          0,
          2,
          2,
          2,
          2,
          1,
          2,
          2,
          1,
          1,
          2,
          2,
          1,
          1,
          0,
          2,
          0,
          1,
          3,
          2,
          2,
          1,
          2,
          2,
          2,
          1,
          1,
          0,
          2,
          1,
          1,
          1,
          3,
          3,
          1,
          1,
          1,
          2,
          1,
          3,
          1,
          0,
          2,
          2,
          2,
          2,
          0,
          3,
          1,
          1,
          2,
          1,
          2,
          1,
          1,
          2,
          1,
          3,
          1,
          1,
          1,
          3,
          3,
          1,
          2,
          0,
          2,
          0,
          3,
          2,
          0,
          1,
          2,
          1,
          3,
          2,
          2,
          1,
          1,
          1,
          1,
          1,
          1,
          1,
          2,
          1,
          2,
          2,
          1,
          3,
          2,
          2,
          0,
          3,
          3,
          1,
          1,
          3,
          2,
          1,
          3,
          1,
          2,
          2,
          0,
          2,
          1,
          0,
          0,
          1,
          1,
          0,
          1,
          0,
          0,
          2,
          2,
          1,
          1,
          1,
          1,
          1,
          1,
          1,
          1,
          1,
          1,
          0,
          1,
          1,
          0,
          1,
          0,
          0,
          2,
          1,
          2,
          0,
          1,
          2,
          1,
          2,
          1,
          0,
          0,
          0,
          2,
          1,
          2,
          2,
          0,
          1,
          0,
          2,
          0,
          2,
          0,
          0,
          0,
          1,
          0,
          1,
          2,
          2,
          1,
          2,
          2,
          0,
          2,
          1,
          1,
          0,
          1,
          1,
          2,
          1,
          1,
          1,
          2,
          1,
          2,
          1,
          1,
          0,
          0,
          0,
          1,
          1,
          0,
          0,
          0,
          2,
          1,
          2,
          1,
          3,
          2,
          1,
          2,
          2,
          2,
          1,
          2,
          2,
          2,
          2,
          3,
          2,
          2,
          1,
          1,
          2,
          2,
          2,
          1,
          1,
          1,
          2,
          1,
          0,
          0,
          2,
          3,
          0,
          0,
          2,
          2,
          2,
          2,
          0,
          1,
          0,
          0,
          0,
          0,
          2,
          0,
          0,
          2,
          0,
          0,
          0,
          1,
          1,
          0,
          2,
          0,
          0,
          0,
          1,
          2,
          1,
          0,
          1,
          2,
          2,
          0,
          0,
          2,
          2,
          1,
          1,
          2,
          1,
          2,
          2,
          2,
          2,
          2,
          3,
          0,
          1,
          2,
          1,
          1,
          0,
          2,
          1,
          1,
          1,
          2,
          2,
          1,
          2,
          2,
          2,
          0,
          2,
          2,
          2,
          2,
          2,
          2,
          2,
          1,
          1,
          2,
          2,
          1,
          2,
          0,
          2,
          0,
          2,
          0,
          1,
          0,
          2,
          0,
          0,
          2,
          2,
          2,
          2,
          2,
          1,
          2,
          1,
          0,
          0,
          0,
          1,
          2,
          2,
          1,
          1,
          0,
          0,
          0,
          0,
          1,
          2,
          1,
          2,
          1,
          1,
          0,
          1,
          1,
          0,
          0,
          2,
          2,
          1,
          0,
          2,
          0,
          1,
          2,
          1,
          2,
          0,
          0,
          0,
          0,
          0,
          1,
          2,
          0,
          2,
          1,
          2,
          2,
          2,
          0,
          2,
          0,
          0,
          0,
          0,
          2,
          1,
          1,
          2,
          1,
          0,
          0,
          0,
          1,
          1,
          2,
          0,
          2,
          0,
          2,
          0,
          0,
          0,
          0
         ],
         "xaxis": "x",
         "y": [
          6,
          6,
          10,
          15,
          10,
          15,
          11,
          6,
          19,
          15,
          9,
          12,
          14,
          11,
          16,
          14,
          14,
          10,
          5,
          10,
          15,
          15,
          16,
          12,
          8,
          8,
          11,
          15,
          11,
          11,
          12,
          17,
          16,
          12,
          15,
          6,
          18,
          15,
          11,
          13,
          11,
          12,
          18,
          11,
          9,
          6,
          11,
          20,
          14,
          7,
          13,
          13,
          10,
          11,
          13,
          10,
          15,
          15,
          9,
          16,
          11,
          11,
          9,
          9,
          10,
          15,
          12,
          6,
          8,
          16,
          15,
          10,
          5,
          14,
          11,
          10,
          10,
          11,
          10,
          5,
          12,
          11,
          6,
          15,
          10,
          8,
          6,
          14,
          10,
          7,
          8,
          18,
          6,
          10,
          14,
          10,
          15,
          10,
          14,
          8,
          5,
          17,
          14,
          6,
          18,
          11,
          8,
          18,
          13,
          16,
          19,
          10,
          13,
          19,
          9,
          16,
          14,
          13,
          8,
          13,
          15,
          15,
          13,
          13,
          8,
          12,
          11,
          9,
          0,
          18,
          0,
          0,
          12,
          11,
          0,
          0,
          0,
          0,
          12,
          15,
          0,
          9,
          11,
          13,
          0,
          11,
          0,
          11,
          0,
          10,
          0,
          14,
          10,
          0,
          12,
          8,
          13,
          10,
          15,
          12,
          0,
          7,
          0,
          10,
          7,
          12,
          10,
          16,
          0,
          14,
          0,
          16,
          10,
          0,
          9,
          9,
          11,
          6,
          9,
          11,
          8,
          12,
          17,
          8,
          12,
          11,
          11,
          15,
          9,
          10,
          13,
          9,
          8,
          10,
          14,
          15,
          16,
          10,
          18,
          10,
          16,
          10,
          10,
          6,
          11,
          9,
          7,
          13,
          10,
          7,
          8,
          13,
          14,
          8,
          10,
          15,
          4,
          8,
          8,
          10,
          6,
          0,
          17,
          13,
          14,
          7,
          15,
          12,
          9,
          12,
          14,
          11,
          9,
          13,
          6,
          10,
          13,
          12,
          11,
          0,
          12,
          12,
          0,
          12,
          0,
          18,
          13,
          8,
          5,
          15,
          8,
          10,
          8,
          8,
          12,
          8,
          13,
          11,
          14,
          0,
          18,
          8,
          12,
          9,
          0,
          17,
          10,
          11,
          10,
          0,
          9,
          14,
          11,
          14,
          10,
          12,
          9,
          9,
          8,
          10,
          8,
          10,
          12,
          10,
          11,
          11,
          19,
          12,
          14,
          15,
          11,
          15,
          13,
          18,
          14,
          11,
          0,
          8,
          14,
          16,
          11,
          10,
          14,
          18,
          13,
          12,
          18,
          8,
          12,
          10,
          0,
          13,
          11,
          11,
          13,
          11,
          0,
          9,
          10,
          11,
          13,
          9,
          11,
          15,
          15,
          11,
          16,
          10,
          9,
          14,
          8,
          14,
          0,
          0,
          0,
          15,
          13,
          0,
          17,
          10,
          11,
          0,
          15,
          0,
          10,
          14,
          16,
          9,
          15,
          13,
          8,
          13,
          8,
          8,
          11,
          9,
          13,
          11,
          10,
          16,
          13,
          12,
          10,
          15,
          12,
          10,
          13,
          0,
          10,
          11,
          9,
          12,
          11,
          5,
          19,
          10,
          15,
          10,
          15,
          10,
          14,
          7,
          10,
          0,
          5,
          10,
          6,
          0,
          8,
          0,
          9,
          16,
          7,
          10,
          9
         ],
         "yaxis": "y"
        },
        {
         "marker": {
          "color": "#FF0000"
         },
         "name": "Portugiesisch",
         "offsetgroup": "0",
         "orientation": "v",
         "type": "box",
         "x": [
          1,
          1,
          1,
          1,
          1,
          1,
          0,
          2,
          1,
          1,
          1,
          1,
          1,
          1,
          1,
          1,
          1,
          2,
          2,
          0,
          0,
          2,
          0,
          1,
          2,
          1,
          1,
          0,
          3,
          2,
          2,
          1,
          1,
          0,
          1,
          1,
          1,
          1,
          2,
          2,
          1,
          1,
          1,
          2,
          1,
          3,
          1,
          0,
          1,
          2,
          1,
          1,
          0,
          2,
          0,
          0,
          1,
          1,
          2,
          2,
          1,
          2,
          1,
          2,
          1,
          1,
          1,
          2,
          2,
          1,
          1,
          0,
          2,
          0,
          2,
          1,
          0,
          0,
          2,
          1,
          2,
          1,
          1,
          1,
          1,
          0,
          1,
          1,
          0,
          1,
          1,
          0,
          2,
          1,
          1,
          3,
          3,
          1,
          0,
          2,
          2,
          1,
          2,
          2,
          1,
          1,
          2,
          1,
          1,
          1,
          0,
          2,
          1,
          0,
          0,
          1,
          1,
          0,
          1,
          0,
          0,
          1,
          1,
          1,
          0,
          1,
          1,
          1,
          0,
          1,
          1,
          1,
          1,
          1,
          1,
          0,
          0,
          0,
          1,
          1,
          0,
          1,
          0,
          1,
          1,
          1,
          0,
          0,
          0,
          2,
          0,
          1,
          1,
          1,
          0,
          1,
          1,
          1,
          1,
          1,
          0,
          1,
          0,
          0,
          0,
          2,
          1,
          2,
          2,
          0,
          1,
          0,
          1,
          0,
          1,
          2,
          0,
          0,
          0,
          1,
          0,
          0,
          1,
          1,
          1,
          1,
          1,
          0,
          1,
          0,
          0,
          0,
          1,
          2,
          2,
          0,
          1,
          1,
          1,
          1,
          1,
          0,
          1,
          0,
          0,
          0,
          0,
          1,
          0,
          0,
          0,
          1,
          1,
          1,
          1,
          2,
          1,
          1,
          1,
          2,
          1,
          0,
          1,
          1,
          1,
          1,
          2,
          1,
          1,
          0,
          0,
          1,
          1,
          1,
          1,
          1,
          1,
          2,
          1,
          0,
          0,
          1,
          2,
          0,
          0,
          1,
          2,
          1,
          1,
          0,
          0,
          0,
          0,
          1,
          1,
          0,
          1,
          1,
          0,
          1,
          0,
          0,
          1,
          0,
          1,
          0,
          1,
          0,
          1,
          0,
          1,
          2,
          0,
          1,
          1,
          1,
          0,
          1,
          0,
          0,
          1,
          0,
          0,
          2,
          0,
          0,
          0,
          1,
          1,
          1,
          1,
          0,
          1,
          1,
          1,
          1,
          0,
          0,
          0,
          2,
          1,
          1,
          0,
          0,
          1,
          0,
          1,
          0,
          0,
          1,
          1,
          1,
          1,
          1,
          1,
          1,
          1,
          2,
          0,
          0,
          2,
          1,
          2,
          0,
          0,
          0,
          0,
          1,
          1,
          1,
          0,
          0,
          1,
          1,
          0,
          1,
          1,
          1,
          1,
          1,
          1,
          1,
          1,
          1,
          1,
          2,
          0,
          1,
          1,
          1,
          0,
          0,
          0,
          2,
          1,
          0,
          0,
          1,
          1,
          1,
          1,
          1,
          1,
          1,
          0,
          1,
          2,
          0,
          1,
          0,
          1,
          1,
          1,
          1,
          1,
          0,
          0,
          0,
          0,
          1,
          1,
          1,
          2,
          2,
          1,
          0,
          1,
          0,
          0,
          0,
          0,
          0,
          1,
          1,
          1,
          1,
          0,
          1,
          1,
          0,
          0,
          1,
          1,
          1,
          1,
          0,
          2,
          1,
          1,
          0,
          1,
          1,
          1,
          1,
          0,
          1,
          1,
          1,
          0,
          0,
          1,
          1,
          1,
          1,
          1,
          1,
          1,
          0,
          0,
          1,
          1,
          0,
          1,
          0,
          0,
          1,
          1,
          1,
          1,
          0,
          1,
          1,
          1,
          1,
          0,
          1,
          1,
          0,
          0,
          0,
          1,
          0,
          1,
          1,
          1,
          2,
          1,
          1,
          1,
          2,
          1,
          0,
          1,
          2,
          0,
          1,
          1,
          1,
          0,
          1,
          1,
          1,
          1,
          1,
          1,
          1,
          1,
          1,
          2,
          1,
          0,
          1,
          1,
          1,
          1,
          1,
          2,
          1,
          0,
          0,
          0,
          1,
          0,
          0,
          0,
          0,
          1,
          2,
          1,
          2,
          1,
          0,
          1,
          2,
          0,
          1,
          0,
          1,
          1,
          1,
          1,
          0,
          1,
          0,
          0,
          1,
          0,
          0,
          1,
          0,
          1,
          1,
          1,
          1,
          1,
          1,
          0,
          0,
          2,
          1,
          1,
          0,
          0,
          0,
          1,
          1,
          1,
          0,
          1,
          1,
          0,
          2,
          1,
          0,
          0,
          1,
          1,
          0,
          0,
          2,
          1,
          2,
          1,
          0,
          1,
          2,
          0,
          1,
          0,
          2,
          1,
          1,
          0,
          0,
          0,
          0,
          1,
          0,
          0,
          1,
          1,
          0,
          1,
          1,
          1,
          1,
          1,
          0,
          1,
          0,
          1,
          1,
          1,
          0,
          1,
          2,
          2,
          1,
          1,
          0,
          0,
          0,
          1,
          0,
          0,
          1,
          1,
          0,
          1,
          2,
          0,
          1,
          0,
          0,
          0,
          0,
          0,
          0,
          0,
          1,
          1,
          0,
          2,
          1,
          2,
          0,
          0,
          0,
          0,
          1,
          1,
          0,
          2,
          0,
          1,
          1,
          1,
          1,
          0,
          0,
          0,
          0,
          1,
          0,
          0,
          1,
          0,
          0,
          0,
          0,
          1,
          0,
          0,
          1,
          0,
          1,
          0,
          0,
          0
         ],
         "xaxis": "x2",
         "y": [
          11,
          11,
          12,
          14,
          13,
          13,
          13,
          13,
          17,
          13,
          14,
          13,
          12,
          13,
          15,
          17,
          14,
          14,
          7,
          12,
          14,
          12,
          14,
          10,
          10,
          12,
          12,
          11,
          13,
          12,
          11,
          15,
          15,
          12,
          12,
          11,
          14,
          13,
          12,
          12,
          10,
          11,
          15,
          10,
          11,
          11,
          13,
          17,
          13,
          12,
          13,
          16,
          9,
          12,
          13,
          12,
          15,
          16,
          14,
          16,
          16,
          16,
          10,
          13,
          12,
          16,
          12,
          10,
          11,
          15,
          11,
          10,
          11,
          14,
          11,
          11,
          11,
          13,
          10,
          11,
          12,
          9,
          11,
          13,
          12,
          12,
          11,
          15,
          11,
          10,
          11,
          13,
          12,
          14,
          12,
          13,
          11,
          12,
          13,
          13,
          8,
          16,
          12,
          10,
          16,
          10,
          10,
          14,
          11,
          14,
          14,
          11,
          10,
          18,
          10,
          14,
          16,
          15,
          11,
          14,
          14,
          13,
          13,
          13,
          11,
          9,
          11,
          11,
          15,
          13,
          12,
          8,
          11,
          13,
          12,
          14,
          11,
          11,
          11,
          15,
          10,
          13,
          12,
          11,
          11,
          10,
          10,
          14,
          9,
          11,
          9,
          13,
          11,
          13,
          11,
          6,
          12,
          10,
          11,
          13,
          11,
          8,
          11,
          0,
          10,
          13,
          11,
          13,
          8,
          10,
          11,
          11,
          1,
          10,
          9,
          8,
          10,
          8,
          8,
          8,
          11,
          18,
          13,
          17,
          10,
          18,
          10,
          13,
          15,
          11,
          14,
          10,
          11,
          13,
          11,
          13,
          17,
          14,
          16,
          14,
          11,
          16,
          14,
          10,
          13,
          12,
          12,
          10,
          12,
          16,
          14,
          12,
          16,
          11,
          15,
          12,
          15,
          13,
          13,
          8,
          12,
          15,
          13,
          12,
          12,
          12,
          13,
          11,
          11,
          15,
          10,
          10,
          13,
          13,
          11,
          12,
          14,
          10,
          16,
          8,
          17,
          11,
          11,
          16,
          12,
          13,
          13,
          14,
          9,
          12,
          16,
          10,
          13,
          10,
          10,
          7,
          8,
          9,
          15,
          10,
          11,
          13,
          8,
          8,
          10,
          15,
          14,
          15,
          12,
          15,
          15,
          12,
          15,
          11,
          10,
          11,
          16,
          11,
          13,
          5,
          10,
          11,
          7,
          10,
          6,
          12,
          13,
          10,
          13,
          17,
          11,
          11,
          14,
          14,
          13,
          14,
          16,
          10,
          12,
          12,
          15,
          11,
          12,
          13,
          13,
          9,
          16,
          14,
          12,
          14,
          10,
          12,
          16,
          13,
          18,
          15,
          16,
          12,
          10,
          12,
          13,
          15,
          10,
          10,
          11,
          10,
          13,
          18,
          13,
          14,
          14,
          12,
          18,
          14,
          15,
          17,
          16,
          18,
          19,
          15,
          15,
          13,
          14,
          17,
          17,
          15,
          13,
          8,
          16,
          18,
          11,
          15,
          11,
          11,
          15,
          14,
          17,
          17,
          15,
          17,
          14,
          10,
          13,
          14,
          17,
          17,
          13,
          14,
          11,
          11,
          9,
          10,
          13,
          10,
          17,
          15,
          14,
          13,
          17,
          10,
          13,
          15,
          11,
          12,
          10,
          10,
          15,
          15,
          12,
          12,
          14,
          14,
          15,
          15,
          16,
          13,
          17,
          14,
          14,
          17,
          17,
          14,
          13,
          15,
          16,
          11,
          13,
          12,
          12,
          15,
          17,
          15,
          17,
          10,
          15,
          11,
          18,
          17,
          14,
          11,
          17,
          10,
          13,
          11,
          12,
          10,
          11,
          17,
          9,
          11,
          11,
          10,
          7,
          14,
          11,
          10,
          8,
          12,
          12,
          16,
          0,
          9,
          14,
          8,
          11,
          9,
          11,
          9,
          17,
          13,
          15,
          11,
          11,
          8,
          8,
          9,
          15,
          11,
          13,
          10,
          11,
          14,
          14,
          12,
          11,
          8,
          11,
          14,
          13,
          13,
          12,
          12,
          16,
          10,
          11,
          14,
          8,
          11,
          8,
          10,
          10,
          11,
          9,
          11,
          8,
          11,
          10,
          10,
          9,
          10,
          10,
          9,
          10,
          10,
          9,
          13,
          14,
          10,
          14,
          16,
          7,
          13,
          9,
          14,
          13,
          11,
          10,
          10,
          9,
          18,
          17,
          10,
          7,
          8,
          7,
          10,
          16,
          15,
          8,
          0,
          8,
          10,
          8,
          6,
          8,
          16,
          14,
          10,
          9,
          11,
          9,
          10,
          8,
          16,
          12,
          10,
          14,
          12,
          11,
          10,
          11,
          11,
          12,
          8,
          12,
          8,
          16,
          11,
          11,
          18,
          13,
          13,
          10,
          12,
          10,
          13,
          11,
          10,
          10,
          13,
          10,
          10,
          12,
          0,
          10,
          9,
          9,
          0,
          9,
          8,
          8,
          9,
          7,
          10,
          10,
          10,
          11,
          11,
          10,
          9,
          10,
          8,
          7,
          0,
          11,
          8,
          0,
          8,
          9,
          10,
          7,
          14,
          13,
          14,
          18,
          17,
          18,
          0,
          11,
          14,
          14,
          10,
          13,
          0,
          10,
          0,
          18,
          12,
          11,
          12,
          0,
          15,
          11,
          10,
          12,
          15,
          14,
          18,
          15,
          13,
          15,
          13,
          9,
          16,
          9,
          10,
          0,
          10,
          12,
          9,
          17,
          12,
          9,
          14,
          16,
          9,
          19,
          0,
          16,
          0,
          0,
          15,
          11,
          10,
          10,
          16,
          9,
          10,
          11
         ],
         "yaxis": "y2"
        }
       ],
       "layout": {
        "annotations": [
         {
          "font": {
           "size": 16
          },
          "showarrow": false,
          "text": "Mathematik",
          "x": 0.225,
          "xanchor": "center",
          "xref": "paper",
          "y": 1,
          "yanchor": "bottom",
          "yref": "paper"
         },
         {
          "font": {
           "size": 16
          },
          "showarrow": false,
          "text": "Portugiesisch",
          "x": 0.775,
          "xanchor": "center",
          "xref": "paper",
          "y": 1,
          "yanchor": "bottom",
          "yref": "paper"
         }
        ],
        "boxmode": "group",
        "height": 700,
        "legend": {
         "font": {
          "size": 14
         },
         "orientation": "v",
         "title": {
          "text": "Schulfach"
         },
         "traceorder": "normal",
         "x": 0.89,
         "y": 1.15
        },
        "margin": {
         "b": 50,
         "l": 50,
         "r": 20,
         "t": 10
        },
        "template": {
         "data": {
          "bar": [
           {
            "error_x": {
             "color": "#2a3f5f"
            },
            "error_y": {
             "color": "#2a3f5f"
            },
            "marker": {
             "line": {
              "color": "#E5ECF6",
              "width": 0.5
             },
             "pattern": {
              "fillmode": "overlay",
              "size": 10,
              "solidity": 0.2
             }
            },
            "type": "bar"
           }
          ],
          "barpolar": [
           {
            "marker": {
             "line": {
              "color": "#E5ECF6",
              "width": 0.5
             },
             "pattern": {
              "fillmode": "overlay",
              "size": 10,
              "solidity": 0.2
             }
            },
            "type": "barpolar"
           }
          ],
          "carpet": [
           {
            "aaxis": {
             "endlinecolor": "#2a3f5f",
             "gridcolor": "white",
             "linecolor": "white",
             "minorgridcolor": "white",
             "startlinecolor": "#2a3f5f"
            },
            "baxis": {
             "endlinecolor": "#2a3f5f",
             "gridcolor": "white",
             "linecolor": "white",
             "minorgridcolor": "white",
             "startlinecolor": "#2a3f5f"
            },
            "type": "carpet"
           }
          ],
          "choropleth": [
           {
            "colorbar": {
             "outlinewidth": 0,
             "ticks": ""
            },
            "type": "choropleth"
           }
          ],
          "contour": [
           {
            "colorbar": {
             "outlinewidth": 0,
             "ticks": ""
            },
            "colorscale": [
             [
              0,
              "#0d0887"
             ],
             [
              0.1111111111111111,
              "#46039f"
             ],
             [
              0.2222222222222222,
              "#7201a8"
             ],
             [
              0.3333333333333333,
              "#9c179e"
             ],
             [
              0.4444444444444444,
              "#bd3786"
             ],
             [
              0.5555555555555556,
              "#d8576b"
             ],
             [
              0.6666666666666666,
              "#ed7953"
             ],
             [
              0.7777777777777778,
              "#fb9f3a"
             ],
             [
              0.8888888888888888,
              "#fdca26"
             ],
             [
              1,
              "#f0f921"
             ]
            ],
            "type": "contour"
           }
          ],
          "contourcarpet": [
           {
            "colorbar": {
             "outlinewidth": 0,
             "ticks": ""
            },
            "type": "contourcarpet"
           }
          ],
          "heatmap": [
           {
            "colorbar": {
             "outlinewidth": 0,
             "ticks": ""
            },
            "colorscale": [
             [
              0,
              "#0d0887"
             ],
             [
              0.1111111111111111,
              "#46039f"
             ],
             [
              0.2222222222222222,
              "#7201a8"
             ],
             [
              0.3333333333333333,
              "#9c179e"
             ],
             [
              0.4444444444444444,
              "#bd3786"
             ],
             [
              0.5555555555555556,
              "#d8576b"
             ],
             [
              0.6666666666666666,
              "#ed7953"
             ],
             [
              0.7777777777777778,
              "#fb9f3a"
             ],
             [
              0.8888888888888888,
              "#fdca26"
             ],
             [
              1,
              "#f0f921"
             ]
            ],
            "type": "heatmap"
           }
          ],
          "heatmapgl": [
           {
            "colorbar": {
             "outlinewidth": 0,
             "ticks": ""
            },
            "colorscale": [
             [
              0,
              "#0d0887"
             ],
             [
              0.1111111111111111,
              "#46039f"
             ],
             [
              0.2222222222222222,
              "#7201a8"
             ],
             [
              0.3333333333333333,
              "#9c179e"
             ],
             [
              0.4444444444444444,
              "#bd3786"
             ],
             [
              0.5555555555555556,
              "#d8576b"
             ],
             [
              0.6666666666666666,
              "#ed7953"
             ],
             [
              0.7777777777777778,
              "#fb9f3a"
             ],
             [
              0.8888888888888888,
              "#fdca26"
             ],
             [
              1,
              "#f0f921"
             ]
            ],
            "type": "heatmapgl"
           }
          ],
          "histogram": [
           {
            "marker": {
             "pattern": {
              "fillmode": "overlay",
              "size": 10,
              "solidity": 0.2
             }
            },
            "type": "histogram"
           }
          ],
          "histogram2d": [
           {
            "colorbar": {
             "outlinewidth": 0,
             "ticks": ""
            },
            "colorscale": [
             [
              0,
              "#0d0887"
             ],
             [
              0.1111111111111111,
              "#46039f"
             ],
             [
              0.2222222222222222,
              "#7201a8"
             ],
             [
              0.3333333333333333,
              "#9c179e"
             ],
             [
              0.4444444444444444,
              "#bd3786"
             ],
             [
              0.5555555555555556,
              "#d8576b"
             ],
             [
              0.6666666666666666,
              "#ed7953"
             ],
             [
              0.7777777777777778,
              "#fb9f3a"
             ],
             [
              0.8888888888888888,
              "#fdca26"
             ],
             [
              1,
              "#f0f921"
             ]
            ],
            "type": "histogram2d"
           }
          ],
          "histogram2dcontour": [
           {
            "colorbar": {
             "outlinewidth": 0,
             "ticks": ""
            },
            "colorscale": [
             [
              0,
              "#0d0887"
             ],
             [
              0.1111111111111111,
              "#46039f"
             ],
             [
              0.2222222222222222,
              "#7201a8"
             ],
             [
              0.3333333333333333,
              "#9c179e"
             ],
             [
              0.4444444444444444,
              "#bd3786"
             ],
             [
              0.5555555555555556,
              "#d8576b"
             ],
             [
              0.6666666666666666,
              "#ed7953"
             ],
             [
              0.7777777777777778,
              "#fb9f3a"
             ],
             [
              0.8888888888888888,
              "#fdca26"
             ],
             [
              1,
              "#f0f921"
             ]
            ],
            "type": "histogram2dcontour"
           }
          ],
          "mesh3d": [
           {
            "colorbar": {
             "outlinewidth": 0,
             "ticks": ""
            },
            "type": "mesh3d"
           }
          ],
          "parcoords": [
           {
            "line": {
             "colorbar": {
              "outlinewidth": 0,
              "ticks": ""
             }
            },
            "type": "parcoords"
           }
          ],
          "pie": [
           {
            "automargin": true,
            "type": "pie"
           }
          ],
          "scatter": [
           {
            "fillpattern": {
             "fillmode": "overlay",
             "size": 10,
             "solidity": 0.2
            },
            "type": "scatter"
           }
          ],
          "scatter3d": [
           {
            "line": {
             "colorbar": {
              "outlinewidth": 0,
              "ticks": ""
             }
            },
            "marker": {
             "colorbar": {
              "outlinewidth": 0,
              "ticks": ""
             }
            },
            "type": "scatter3d"
           }
          ],
          "scattercarpet": [
           {
            "marker": {
             "colorbar": {
              "outlinewidth": 0,
              "ticks": ""
             }
            },
            "type": "scattercarpet"
           }
          ],
          "scattergeo": [
           {
            "marker": {
             "colorbar": {
              "outlinewidth": 0,
              "ticks": ""
             }
            },
            "type": "scattergeo"
           }
          ],
          "scattergl": [
           {
            "marker": {
             "colorbar": {
              "outlinewidth": 0,
              "ticks": ""
             }
            },
            "type": "scattergl"
           }
          ],
          "scattermapbox": [
           {
            "marker": {
             "colorbar": {
              "outlinewidth": 0,
              "ticks": ""
             }
            },
            "type": "scattermapbox"
           }
          ],
          "scatterpolar": [
           {
            "marker": {
             "colorbar": {
              "outlinewidth": 0,
              "ticks": ""
             }
            },
            "type": "scatterpolar"
           }
          ],
          "scatterpolargl": [
           {
            "marker": {
             "colorbar": {
              "outlinewidth": 0,
              "ticks": ""
             }
            },
            "type": "scatterpolargl"
           }
          ],
          "scatterternary": [
           {
            "marker": {
             "colorbar": {
              "outlinewidth": 0,
              "ticks": ""
             }
            },
            "type": "scatterternary"
           }
          ],
          "surface": [
           {
            "colorbar": {
             "outlinewidth": 0,
             "ticks": ""
            },
            "colorscale": [
             [
              0,
              "#0d0887"
             ],
             [
              0.1111111111111111,
              "#46039f"
             ],
             [
              0.2222222222222222,
              "#7201a8"
             ],
             [
              0.3333333333333333,
              "#9c179e"
             ],
             [
              0.4444444444444444,
              "#bd3786"
             ],
             [
              0.5555555555555556,
              "#d8576b"
             ],
             [
              0.6666666666666666,
              "#ed7953"
             ],
             [
              0.7777777777777778,
              "#fb9f3a"
             ],
             [
              0.8888888888888888,
              "#fdca26"
             ],
             [
              1,
              "#f0f921"
             ]
            ],
            "type": "surface"
           }
          ],
          "table": [
           {
            "cells": {
             "fill": {
              "color": "#EBF0F8"
             },
             "line": {
              "color": "white"
             }
            },
            "header": {
             "fill": {
              "color": "#C8D4E3"
             },
             "line": {
              "color": "white"
             }
            },
            "type": "table"
           }
          ]
         },
         "layout": {
          "annotationdefaults": {
           "arrowcolor": "#2a3f5f",
           "arrowhead": 0,
           "arrowwidth": 1
          },
          "autotypenumbers": "strict",
          "coloraxis": {
           "colorbar": {
            "outlinewidth": 0,
            "ticks": ""
           }
          },
          "colorscale": {
           "diverging": [
            [
             0,
             "#8e0152"
            ],
            [
             0.1,
             "#c51b7d"
            ],
            [
             0.2,
             "#de77ae"
            ],
            [
             0.3,
             "#f1b6da"
            ],
            [
             0.4,
             "#fde0ef"
            ],
            [
             0.5,
             "#f7f7f7"
            ],
            [
             0.6,
             "#e6f5d0"
            ],
            [
             0.7,
             "#b8e186"
            ],
            [
             0.8,
             "#7fbc41"
            ],
            [
             0.9,
             "#4d9221"
            ],
            [
             1,
             "#276419"
            ]
           ],
           "sequential": [
            [
             0,
             "#0d0887"
            ],
            [
             0.1111111111111111,
             "#46039f"
            ],
            [
             0.2222222222222222,
             "#7201a8"
            ],
            [
             0.3333333333333333,
             "#9c179e"
            ],
            [
             0.4444444444444444,
             "#bd3786"
            ],
            [
             0.5555555555555556,
             "#d8576b"
            ],
            [
             0.6666666666666666,
             "#ed7953"
            ],
            [
             0.7777777777777778,
             "#fb9f3a"
            ],
            [
             0.8888888888888888,
             "#fdca26"
            ],
            [
             1,
             "#f0f921"
            ]
           ],
           "sequentialminus": [
            [
             0,
             "#0d0887"
            ],
            [
             0.1111111111111111,
             "#46039f"
            ],
            [
             0.2222222222222222,
             "#7201a8"
            ],
            [
             0.3333333333333333,
             "#9c179e"
            ],
            [
             0.4444444444444444,
             "#bd3786"
            ],
            [
             0.5555555555555556,
             "#d8576b"
            ],
            [
             0.6666666666666666,
             "#ed7953"
            ],
            [
             0.7777777777777778,
             "#fb9f3a"
            ],
            [
             0.8888888888888888,
             "#fdca26"
            ],
            [
             1,
             "#f0f921"
            ]
           ]
          },
          "colorway": [
           "#636efa",
           "#EF553B",
           "#00cc96",
           "#ab63fa",
           "#FFA15A",
           "#19d3f3",
           "#FF6692",
           "#B6E880",
           "#FF97FF",
           "#FECB52"
          ],
          "font": {
           "color": "#2a3f5f"
          },
          "geo": {
           "bgcolor": "white",
           "lakecolor": "white",
           "landcolor": "#E5ECF6",
           "showlakes": true,
           "showland": true,
           "subunitcolor": "white"
          },
          "hoverlabel": {
           "align": "left"
          },
          "hovermode": "closest",
          "mapbox": {
           "style": "light"
          },
          "paper_bgcolor": "white",
          "plot_bgcolor": "#E5ECF6",
          "polar": {
           "angularaxis": {
            "gridcolor": "white",
            "linecolor": "white",
            "ticks": ""
           },
           "bgcolor": "#E5ECF6",
           "radialaxis": {
            "gridcolor": "white",
            "linecolor": "white",
            "ticks": ""
           }
          },
          "scene": {
           "xaxis": {
            "backgroundcolor": "#E5ECF6",
            "gridcolor": "white",
            "gridwidth": 2,
            "linecolor": "white",
            "showbackground": true,
            "ticks": "",
            "zerolinecolor": "white"
           },
           "yaxis": {
            "backgroundcolor": "#E5ECF6",
            "gridcolor": "white",
            "gridwidth": 2,
            "linecolor": "white",
            "showbackground": true,
            "ticks": "",
            "zerolinecolor": "white"
           },
           "zaxis": {
            "backgroundcolor": "#E5ECF6",
            "gridcolor": "white",
            "gridwidth": 2,
            "linecolor": "white",
            "showbackground": true,
            "ticks": "",
            "zerolinecolor": "white"
           }
          },
          "shapedefaults": {
           "line": {
            "color": "#2a3f5f"
           }
          },
          "ternary": {
           "aaxis": {
            "gridcolor": "white",
            "linecolor": "white",
            "ticks": ""
           },
           "baxis": {
            "gridcolor": "white",
            "linecolor": "white",
            "ticks": ""
           },
           "bgcolor": "#E5ECF6",
           "caxis": {
            "gridcolor": "white",
            "linecolor": "white",
            "ticks": ""
           }
          },
          "title": {
           "x": 0.05
          },
          "xaxis": {
           "automargin": true,
           "gridcolor": "white",
           "linecolor": "white",
           "ticks": "",
           "title": {
            "standoff": 15
           },
           "zerolinecolor": "white",
           "zerolinewidth": 2
          },
          "yaxis": {
           "automargin": true,
           "gridcolor": "white",
           "linecolor": "white",
           "ticks": "",
           "title": {
            "standoff": 15
           },
           "zerolinecolor": "white",
           "zerolinewidth": 2
          }
         }
        },
        "title": {
         "text": "Einfluss von Lernunterstützungen zu den Lernleistungen von Schülern"
        },
        "width": 1200,
        "xaxis": {
         "anchor": "y",
         "domain": [
          0,
          0.45
         ],
         "title": {
          "font": {
           "size": 15
          },
          "text": "Summe der Lernunterstützungen"
         }
        },
        "xaxis2": {
         "anchor": "y2",
         "domain": [
          0.55,
          1
         ],
         "title": {
          "font": {
           "size": 15
          },
          "text": "Summe der Lernunterstützungen"
         }
        },
        "yaxis": {
         "anchor": "x",
         "domain": [
          0,
          1
         ],
         "title": {
          "font": {
           "size": 15
          },
          "text": "Final erreichte Notenpunkte"
         }
        },
        "yaxis2": {
         "anchor": "x2",
         "domain": [
          0,
          1
         ]
        }
       }
      }
     },
     "metadata": {},
     "output_type": "display_data"
    }
   ],
   "source": [
    "balk = go.Figure()\n",
    "balk = make_subplots(rows=1, cols=2, subplot_titles=('Mathematik', 'Portugiesisch'))\n",
    "\n",
    "balk.add_trace(go.Box(\n",
    "    x=mat_df['mat_sup_sum'],\n",
    "    y=mat_df['G3'],\n",
    "    name='Mathematik',\n",
    "    marker_color='blue',\n",
    "    offsetgroup=0,\n",
    "    orientation='v'),\n",
    "    row=1,\n",
    "    col=1\n",
    ")\n",
    "\n",
    "balk.add_trace(go.Box(\n",
    "    y=por_df['G3'],\n",
    "    x=por_df['por_sup_sum'],\n",
    "    name='Portugiesisch',\n",
    "    marker_color='#FF0000',\n",
    "    offsetgroup=0,\n",
    "    orientation='v'),\n",
    "    row=1,\n",
    "    col=2\n",
    ")\n",
    "\n",
    "balk.update_layout(\n",
    "    title='Einfluss von Lernunterstützungen zu den Lernleistungen von Schülern',\n",
    "    boxmode='group',\n",
    "    legend=dict(title='Schulfach', orientation='v', traceorder='normal', x=0.89, y=1.15, font=dict(size=14)),\n",
    "    height=700,\n",
    "    width=1200,\n",
    "    margin=dict(l=50, r=20, t=10, b=50),\n",
    ")\n",
    "\n",
    "balk.update_yaxes(title_text='Final erreichte Notenpunkte', row=1, col=1, title_font=dict(size=15))\n",
    "balk.update_xaxes(title_text='Summe der Lernunterstützungen', row=1, col=1, title_font=dict(size=15))\n",
    "balk.update_xaxes(title_text='Summe der Lernunterstützungen', row=1, col=2, title_font=dict(size=15))\n",
    "\n",
    "balk.write_image('balk.png')\n",
    "balk.show()"
   ]
  },
  {
   "cell_type": "markdown",
   "metadata": {},
   "source": [
    "#### Einfluss individueller Lernbereitschaft"
   ]
  },
  {
   "cell_type": "code",
   "execution_count": 23,
   "metadata": {},
   "outputs": [],
   "source": [
    "studytime_map = {1: '<2 Stunden', 2: '2 bis 5 Stunden', 3: '5 bis 10 Stunden',4: '>10 Stunden'}\n",
    "\n",
    "# create database for math \n",
    "mat_nextbar_df = pd.DataFrame()\n",
    "mat_nextbar_df['G3'] = mat_df['G3']\n",
    "mat_nextbar_df['studytime'] = mat_df['studytime']\n",
    "mat_nextbar_df['absences_bins'] = pd.cut(mat_df['absences'], bins=4).astype(str)\n",
    "mat_grouped = mat_nextbar_df.groupby(['studytime', 'absences_bins'])['G3'].median().reset_index()\n",
    "\n",
    "mat_grouped['absences_bins'] = mat_grouped['absences_bins'].str[1:-1]\n",
    "mat_grouped['absences_bins'] = mat_grouped['absences_bins'].replace('-0.075, 18.75', '0, 18.75')\n",
    "mat_grouped['studytime_order'] = mat_grouped['studytime'] \n",
    "mat_grouped['studytime'] = mat_grouped['studytime'].map(studytime_map)\n",
    "mat_grouped = mat_grouped.sort_values(by='studytime_order')\n",
    "mat_grouped.drop(columns='studytime_order', inplace=True)\n",
    "\n",
    "# create database for por\n",
    "por_nextbar_df = pd.DataFrame()\n",
    "por_nextbar_df['G3'] = por_df['G3']\n",
    "por_nextbar_df['studytime'] = por_df['studytime']\n",
    "por_nextbar_df['absences_bins'] = pd.cut(por_df['absences'], bins=4).astype(str)\n",
    "por_grouped = por_nextbar_df.groupby(['studytime', 'absences_bins'])['G3'].median().reset_index()\n",
    "\n",
    "por_grouped['absences_bins'] = por_grouped['absences_bins'].str[1:-1]\n",
    "por_grouped['absences_bins'] = por_grouped['absences_bins'].replace('-0.032, 8.0', '0, 8.0')\n",
    "por_grouped['absences_bins'] = por_grouped['absences_bins'].replace(',', 'bis')\n",
    "por_grouped['studytime_order'] = por_grouped['studytime'] \n",
    "por_grouped['studytime'] = por_grouped['studytime'].map(studytime_map)\n",
    "por_grouped = por_grouped.sort_values(by='studytime_order')\n",
    "por_grouped.drop(columns='studytime_order', inplace=True)"
   ]
  },
  {
   "cell_type": "code",
   "execution_count": 24,
   "metadata": {},
   "outputs": [
    {
     "data": {
      "application/vnd.plotly.v1+json": {
       "config": {
        "plotlyServerURL": "https://plot.ly"
       },
       "data": [
        {
         "marker": {
          "color": "#bbdb44"
         },
         "name": "Mathematik Fehltage im Bereich von: 0, 18.75 Tagen",
         "type": "bar",
         "x": [
          "<2 Stunden",
          "2 bis 5 Stunden",
          "5 bis 10 Stunden",
          ">10 Stunden"
         ],
         "xaxis": "x",
         "y": [
          10,
          10.5,
          12,
          12
         ],
         "yaxis": "y"
        },
        {
         "marker": {
          "color": "#f7e379"
         },
         "name": "Mathematik Fehltage im Bereich von: 18.75, 37.5 Tagen",
         "type": "bar",
         "x": [
          "<2 Stunden",
          "2 bis 5 Stunden",
          "5 bis 10 Stunden"
         ],
         "xaxis": "x",
         "y": [
          10,
          11,
          9
         ],
         "yaxis": "y"
        },
        {
         "marker": {
          "color": "#f2a134"
         },
         "name": "Mathematik Fehltage im Bereich von: 37.5, 56.25 Tagen",
         "type": "bar",
         "x": [
          "<2 Stunden",
          "2 bis 5 Stunden",
          "5 bis 10 Stunden"
         ],
         "xaxis": "x",
         "y": [
          8,
          9.5,
          11
         ],
         "yaxis": "y"
        },
        {
         "marker": {
          "color": "#e51f1f"
         },
         "name": "Mathematik Fehltage im Bereich von: 56.25, 75.0 Tagen",
         "type": "bar",
         "x": [
          "2 bis 5 Stunden"
         ],
         "xaxis": "x",
         "y": [
          9
         ],
         "yaxis": "y"
        },
        {
         "marker": {
          "color": "#bbdb44"
         },
         "name": "Portugiesisch Fehltage im Bereich von: 0, 8.0 Tagen",
         "type": "bar",
         "x": [
          "<2 Stunden",
          "2 bis 5 Stunden",
          "5 bis 10 Stunden",
          ">10 Stunden"
         ],
         "xaxis": "x2",
         "y": [
          11,
          12,
          13,
          13
         ],
         "yaxis": "y2"
        },
        {
         "marker": {
          "color": "#f7e379"
         },
         "name": "Portugiesisch Fehltage im Bereich von: 16.0, 24.0 Tagen",
         "type": "bar",
         "x": [
          "<2 Stunden",
          "2 bis 5 Stunden"
         ],
         "xaxis": "x2",
         "y": [
          11.5,
          10
         ],
         "yaxis": "y2"
        },
        {
         "marker": {
          "color": "#f2a134"
         },
         "name": "Portugiesisch Fehltage im Bereich von: 24.0, 32.0 Tagen",
         "type": "bar",
         "x": [
          "<2 Stunden",
          "2 bis 5 Stunden"
         ],
         "xaxis": "x2",
         "y": [
          12,
          14
         ],
         "yaxis": "y2"
        },
        {
         "marker": {
          "color": "#e51f1f"
         },
         "name": "Portugiesisch Fehltage im Bereich von: 8.0, 16.0 Tagen",
         "type": "bar",
         "x": [
          "<2 Stunden",
          "2 bis 5 Stunden",
          "5 bis 10 Stunden",
          ">10 Stunden"
         ],
         "xaxis": "x2",
         "y": [
          11,
          10,
          11,
          13
         ],
         "yaxis": "y2"
        }
       ],
       "layout": {
        "annotations": [
         {
          "font": {
           "size": 16
          },
          "showarrow": false,
          "text": "Mathematik",
          "x": 0.225,
          "xanchor": "center",
          "xref": "paper",
          "y": 1,
          "yanchor": "bottom",
          "yref": "paper"
         },
         {
          "font": {
           "size": 16
          },
          "showarrow": false,
          "text": "Portugiesisch",
          "x": 0.775,
          "xanchor": "center",
          "xref": "paper",
          "y": 1,
          "yanchor": "bottom",
          "yref": "paper"
         }
        ],
        "barmode": "group",
        "height": 700,
        "legend": {
         "font": {
          "size": 14
         },
         "orientation": "v",
         "title": {
          "text": "Anzahl der Fehltage"
         },
         "traceorder": "normal",
         "x": 0.65,
         "y": 1.65
        },
        "margin": {
         "b": 50,
         "l": 20,
         "r": 20,
         "t": 50
        },
        "template": {
         "data": {
          "bar": [
           {
            "error_x": {
             "color": "#2a3f5f"
            },
            "error_y": {
             "color": "#2a3f5f"
            },
            "marker": {
             "line": {
              "color": "#E5ECF6",
              "width": 0.5
             },
             "pattern": {
              "fillmode": "overlay",
              "size": 10,
              "solidity": 0.2
             }
            },
            "type": "bar"
           }
          ],
          "barpolar": [
           {
            "marker": {
             "line": {
              "color": "#E5ECF6",
              "width": 0.5
             },
             "pattern": {
              "fillmode": "overlay",
              "size": 10,
              "solidity": 0.2
             }
            },
            "type": "barpolar"
           }
          ],
          "carpet": [
           {
            "aaxis": {
             "endlinecolor": "#2a3f5f",
             "gridcolor": "white",
             "linecolor": "white",
             "minorgridcolor": "white",
             "startlinecolor": "#2a3f5f"
            },
            "baxis": {
             "endlinecolor": "#2a3f5f",
             "gridcolor": "white",
             "linecolor": "white",
             "minorgridcolor": "white",
             "startlinecolor": "#2a3f5f"
            },
            "type": "carpet"
           }
          ],
          "choropleth": [
           {
            "colorbar": {
             "outlinewidth": 0,
             "ticks": ""
            },
            "type": "choropleth"
           }
          ],
          "contour": [
           {
            "colorbar": {
             "outlinewidth": 0,
             "ticks": ""
            },
            "colorscale": [
             [
              0,
              "#0d0887"
             ],
             [
              0.1111111111111111,
              "#46039f"
             ],
             [
              0.2222222222222222,
              "#7201a8"
             ],
             [
              0.3333333333333333,
              "#9c179e"
             ],
             [
              0.4444444444444444,
              "#bd3786"
             ],
             [
              0.5555555555555556,
              "#d8576b"
             ],
             [
              0.6666666666666666,
              "#ed7953"
             ],
             [
              0.7777777777777778,
              "#fb9f3a"
             ],
             [
              0.8888888888888888,
              "#fdca26"
             ],
             [
              1,
              "#f0f921"
             ]
            ],
            "type": "contour"
           }
          ],
          "contourcarpet": [
           {
            "colorbar": {
             "outlinewidth": 0,
             "ticks": ""
            },
            "type": "contourcarpet"
           }
          ],
          "heatmap": [
           {
            "colorbar": {
             "outlinewidth": 0,
             "ticks": ""
            },
            "colorscale": [
             [
              0,
              "#0d0887"
             ],
             [
              0.1111111111111111,
              "#46039f"
             ],
             [
              0.2222222222222222,
              "#7201a8"
             ],
             [
              0.3333333333333333,
              "#9c179e"
             ],
             [
              0.4444444444444444,
              "#bd3786"
             ],
             [
              0.5555555555555556,
              "#d8576b"
             ],
             [
              0.6666666666666666,
              "#ed7953"
             ],
             [
              0.7777777777777778,
              "#fb9f3a"
             ],
             [
              0.8888888888888888,
              "#fdca26"
             ],
             [
              1,
              "#f0f921"
             ]
            ],
            "type": "heatmap"
           }
          ],
          "heatmapgl": [
           {
            "colorbar": {
             "outlinewidth": 0,
             "ticks": ""
            },
            "colorscale": [
             [
              0,
              "#0d0887"
             ],
             [
              0.1111111111111111,
              "#46039f"
             ],
             [
              0.2222222222222222,
              "#7201a8"
             ],
             [
              0.3333333333333333,
              "#9c179e"
             ],
             [
              0.4444444444444444,
              "#bd3786"
             ],
             [
              0.5555555555555556,
              "#d8576b"
             ],
             [
              0.6666666666666666,
              "#ed7953"
             ],
             [
              0.7777777777777778,
              "#fb9f3a"
             ],
             [
              0.8888888888888888,
              "#fdca26"
             ],
             [
              1,
              "#f0f921"
             ]
            ],
            "type": "heatmapgl"
           }
          ],
          "histogram": [
           {
            "marker": {
             "pattern": {
              "fillmode": "overlay",
              "size": 10,
              "solidity": 0.2
             }
            },
            "type": "histogram"
           }
          ],
          "histogram2d": [
           {
            "colorbar": {
             "outlinewidth": 0,
             "ticks": ""
            },
            "colorscale": [
             [
              0,
              "#0d0887"
             ],
             [
              0.1111111111111111,
              "#46039f"
             ],
             [
              0.2222222222222222,
              "#7201a8"
             ],
             [
              0.3333333333333333,
              "#9c179e"
             ],
             [
              0.4444444444444444,
              "#bd3786"
             ],
             [
              0.5555555555555556,
              "#d8576b"
             ],
             [
              0.6666666666666666,
              "#ed7953"
             ],
             [
              0.7777777777777778,
              "#fb9f3a"
             ],
             [
              0.8888888888888888,
              "#fdca26"
             ],
             [
              1,
              "#f0f921"
             ]
            ],
            "type": "histogram2d"
           }
          ],
          "histogram2dcontour": [
           {
            "colorbar": {
             "outlinewidth": 0,
             "ticks": ""
            },
            "colorscale": [
             [
              0,
              "#0d0887"
             ],
             [
              0.1111111111111111,
              "#46039f"
             ],
             [
              0.2222222222222222,
              "#7201a8"
             ],
             [
              0.3333333333333333,
              "#9c179e"
             ],
             [
              0.4444444444444444,
              "#bd3786"
             ],
             [
              0.5555555555555556,
              "#d8576b"
             ],
             [
              0.6666666666666666,
              "#ed7953"
             ],
             [
              0.7777777777777778,
              "#fb9f3a"
             ],
             [
              0.8888888888888888,
              "#fdca26"
             ],
             [
              1,
              "#f0f921"
             ]
            ],
            "type": "histogram2dcontour"
           }
          ],
          "mesh3d": [
           {
            "colorbar": {
             "outlinewidth": 0,
             "ticks": ""
            },
            "type": "mesh3d"
           }
          ],
          "parcoords": [
           {
            "line": {
             "colorbar": {
              "outlinewidth": 0,
              "ticks": ""
             }
            },
            "type": "parcoords"
           }
          ],
          "pie": [
           {
            "automargin": true,
            "type": "pie"
           }
          ],
          "scatter": [
           {
            "fillpattern": {
             "fillmode": "overlay",
             "size": 10,
             "solidity": 0.2
            },
            "type": "scatter"
           }
          ],
          "scatter3d": [
           {
            "line": {
             "colorbar": {
              "outlinewidth": 0,
              "ticks": ""
             }
            },
            "marker": {
             "colorbar": {
              "outlinewidth": 0,
              "ticks": ""
             }
            },
            "type": "scatter3d"
           }
          ],
          "scattercarpet": [
           {
            "marker": {
             "colorbar": {
              "outlinewidth": 0,
              "ticks": ""
             }
            },
            "type": "scattercarpet"
           }
          ],
          "scattergeo": [
           {
            "marker": {
             "colorbar": {
              "outlinewidth": 0,
              "ticks": ""
             }
            },
            "type": "scattergeo"
           }
          ],
          "scattergl": [
           {
            "marker": {
             "colorbar": {
              "outlinewidth": 0,
              "ticks": ""
             }
            },
            "type": "scattergl"
           }
          ],
          "scattermapbox": [
           {
            "marker": {
             "colorbar": {
              "outlinewidth": 0,
              "ticks": ""
             }
            },
            "type": "scattermapbox"
           }
          ],
          "scatterpolar": [
           {
            "marker": {
             "colorbar": {
              "outlinewidth": 0,
              "ticks": ""
             }
            },
            "type": "scatterpolar"
           }
          ],
          "scatterpolargl": [
           {
            "marker": {
             "colorbar": {
              "outlinewidth": 0,
              "ticks": ""
             }
            },
            "type": "scatterpolargl"
           }
          ],
          "scatterternary": [
           {
            "marker": {
             "colorbar": {
              "outlinewidth": 0,
              "ticks": ""
             }
            },
            "type": "scatterternary"
           }
          ],
          "surface": [
           {
            "colorbar": {
             "outlinewidth": 0,
             "ticks": ""
            },
            "colorscale": [
             [
              0,
              "#0d0887"
             ],
             [
              0.1111111111111111,
              "#46039f"
             ],
             [
              0.2222222222222222,
              "#7201a8"
             ],
             [
              0.3333333333333333,
              "#9c179e"
             ],
             [
              0.4444444444444444,
              "#bd3786"
             ],
             [
              0.5555555555555556,
              "#d8576b"
             ],
             [
              0.6666666666666666,
              "#ed7953"
             ],
             [
              0.7777777777777778,
              "#fb9f3a"
             ],
             [
              0.8888888888888888,
              "#fdca26"
             ],
             [
              1,
              "#f0f921"
             ]
            ],
            "type": "surface"
           }
          ],
          "table": [
           {
            "cells": {
             "fill": {
              "color": "#EBF0F8"
             },
             "line": {
              "color": "white"
             }
            },
            "header": {
             "fill": {
              "color": "#C8D4E3"
             },
             "line": {
              "color": "white"
             }
            },
            "type": "table"
           }
          ]
         },
         "layout": {
          "annotationdefaults": {
           "arrowcolor": "#2a3f5f",
           "arrowhead": 0,
           "arrowwidth": 1
          },
          "autotypenumbers": "strict",
          "coloraxis": {
           "colorbar": {
            "outlinewidth": 0,
            "ticks": ""
           }
          },
          "colorscale": {
           "diverging": [
            [
             0,
             "#8e0152"
            ],
            [
             0.1,
             "#c51b7d"
            ],
            [
             0.2,
             "#de77ae"
            ],
            [
             0.3,
             "#f1b6da"
            ],
            [
             0.4,
             "#fde0ef"
            ],
            [
             0.5,
             "#f7f7f7"
            ],
            [
             0.6,
             "#e6f5d0"
            ],
            [
             0.7,
             "#b8e186"
            ],
            [
             0.8,
             "#7fbc41"
            ],
            [
             0.9,
             "#4d9221"
            ],
            [
             1,
             "#276419"
            ]
           ],
           "sequential": [
            [
             0,
             "#0d0887"
            ],
            [
             0.1111111111111111,
             "#46039f"
            ],
            [
             0.2222222222222222,
             "#7201a8"
            ],
            [
             0.3333333333333333,
             "#9c179e"
            ],
            [
             0.4444444444444444,
             "#bd3786"
            ],
            [
             0.5555555555555556,
             "#d8576b"
            ],
            [
             0.6666666666666666,
             "#ed7953"
            ],
            [
             0.7777777777777778,
             "#fb9f3a"
            ],
            [
             0.8888888888888888,
             "#fdca26"
            ],
            [
             1,
             "#f0f921"
            ]
           ],
           "sequentialminus": [
            [
             0,
             "#0d0887"
            ],
            [
             0.1111111111111111,
             "#46039f"
            ],
            [
             0.2222222222222222,
             "#7201a8"
            ],
            [
             0.3333333333333333,
             "#9c179e"
            ],
            [
             0.4444444444444444,
             "#bd3786"
            ],
            [
             0.5555555555555556,
             "#d8576b"
            ],
            [
             0.6666666666666666,
             "#ed7953"
            ],
            [
             0.7777777777777778,
             "#fb9f3a"
            ],
            [
             0.8888888888888888,
             "#fdca26"
            ],
            [
             1,
             "#f0f921"
            ]
           ]
          },
          "colorway": [
           "#636efa",
           "#EF553B",
           "#00cc96",
           "#ab63fa",
           "#FFA15A",
           "#19d3f3",
           "#FF6692",
           "#B6E880",
           "#FF97FF",
           "#FECB52"
          ],
          "font": {
           "color": "#2a3f5f"
          },
          "geo": {
           "bgcolor": "white",
           "lakecolor": "white",
           "landcolor": "#E5ECF6",
           "showlakes": true,
           "showland": true,
           "subunitcolor": "white"
          },
          "hoverlabel": {
           "align": "left"
          },
          "hovermode": "closest",
          "mapbox": {
           "style": "light"
          },
          "paper_bgcolor": "white",
          "plot_bgcolor": "#E5ECF6",
          "polar": {
           "angularaxis": {
            "gridcolor": "white",
            "linecolor": "white",
            "ticks": ""
           },
           "bgcolor": "#E5ECF6",
           "radialaxis": {
            "gridcolor": "white",
            "linecolor": "white",
            "ticks": ""
           }
          },
          "scene": {
           "xaxis": {
            "backgroundcolor": "#E5ECF6",
            "gridcolor": "white",
            "gridwidth": 2,
            "linecolor": "white",
            "showbackground": true,
            "ticks": "",
            "zerolinecolor": "white"
           },
           "yaxis": {
            "backgroundcolor": "#E5ECF6",
            "gridcolor": "white",
            "gridwidth": 2,
            "linecolor": "white",
            "showbackground": true,
            "ticks": "",
            "zerolinecolor": "white"
           },
           "zaxis": {
            "backgroundcolor": "#E5ECF6",
            "gridcolor": "white",
            "gridwidth": 2,
            "linecolor": "white",
            "showbackground": true,
            "ticks": "",
            "zerolinecolor": "white"
           }
          },
          "shapedefaults": {
           "line": {
            "color": "#2a3f5f"
           }
          },
          "ternary": {
           "aaxis": {
            "gridcolor": "white",
            "linecolor": "white",
            "ticks": ""
           },
           "baxis": {
            "gridcolor": "white",
            "linecolor": "white",
            "ticks": ""
           },
           "bgcolor": "#E5ECF6",
           "caxis": {
            "gridcolor": "white",
            "linecolor": "white",
            "ticks": ""
           }
          },
          "title": {
           "x": 0.05
          },
          "xaxis": {
           "automargin": true,
           "gridcolor": "white",
           "linecolor": "white",
           "ticks": "",
           "title": {
            "standoff": 15
           },
           "zerolinecolor": "white",
           "zerolinewidth": 2
          },
          "yaxis": {
           "automargin": true,
           "gridcolor": "white",
           "linecolor": "white",
           "ticks": "",
           "title": {
            "standoff": 15
           },
           "zerolinecolor": "white",
           "zerolinewidth": 2
          }
         }
        },
        "title": {
         "text": "Lernleistung anhand der Lernzeit und Anzahl der Schulfehltage"
        },
        "width": 1200,
        "xaxis": {
         "anchor": "y",
         "domain": [
          0,
          0.45
         ],
         "title": {
          "font": {
           "size": 15
          },
          "text": "Wöchentliche Lernzeit"
         }
        },
        "xaxis2": {
         "anchor": "y2",
         "domain": [
          0.55,
          1
         ],
         "title": {
          "font": {
           "size": 15
          },
          "text": "Wöchentliche Lernzeit"
         }
        },
        "yaxis": {
         "anchor": "x",
         "domain": [
          0,
          1
         ],
         "range": [
          0,
          20
         ],
         "title": {
          "font": {
           "size": 15
          },
          "text": "Final erreichte Notenpunkte"
         }
        },
        "yaxis2": {
         "anchor": "x2",
         "domain": [
          0,
          1
         ]
        }
       }
      }
     },
     "metadata": {},
     "output_type": "display_data"
    }
   ],
   "source": [
    "# Creating a figure with subplots for each studytime value\n",
    "nextbar = go.Figure()\n",
    "nextbar = make_subplots(rows=1, cols=2, subplot_titles=('Mathematik', 'Portugiesisch'))\n",
    "\n",
    "# Define color scale ranging from yellow to red based on absence values\n",
    "colors = ['#ffc100', '#ff9a00','#ff7400','#ff0000']\n",
    "colors = ['#bbdb44','#f7e379','#f2a134', '#e51f1f']\n",
    "\n",
    "index_map = {1: 'Mathematik', 2: 'Portugiesisch'}\n",
    "\n",
    "datasets = [mat_grouped, por_grouped]\n",
    "for index, data in enumerate(datasets):\n",
    "    for i, absence_bin in enumerate(data['absences_bins'].unique()):\n",
    "        filtered_data = data[data['absences_bins'] == absence_bin]\n",
    "        nextbar.add_trace(go.Bar(x=filtered_data['studytime'], \n",
    "                                 y=filtered_data['G3'], \n",
    "                                 name=f'{index_map[index+1]} Fehltage im Bereich von: {absence_bin} Tagen',\n",
    "                                 marker=dict(color=colors[i])\n",
    "                                 ),\n",
    "                                row=1,\n",
    "                                col=index+1\n",
    "                         )\n",
    "\n",
    "# Updating layout\n",
    "nextbar.update_layout(\n",
    "    title='Lernleistung anhand der Lernzeit und Anzahl der Schulfehltage',\n",
    "    barmode='group',\n",
    "    # Adjust spacing between subplots\n",
    "    margin=dict(l=20, r=20, t=50, b=50),\n",
    "    yaxis = dict(range=[0,20]),\n",
    "    # Show legend\n",
    "    legend=dict(title='Anzahl der Fehltage', orientation='v', traceorder='normal', x=0.65, y=1.65, font=dict(size=14)),\n",
    "    height=700,\n",
    "    width=1200,\n",
    ")\n",
    "\n",
    "# Set x-axis titles for each subplot\n",
    "nextbar.update_xaxes(title_text='Wöchentliche Lernzeit', row=1, col=1, title_font=dict(size=15))\n",
    "nextbar.update_xaxes(title_text='Wöchentliche Lernzeit', row=1, col=2, title_font=dict(size=15))\n",
    "nextbar.update_yaxes(title_text='Final erreichte Notenpunkte', row=1, col=1, title_font=dict(size=15))\n",
    "\n",
    "# Show the plot\n",
    "nextbar.write_image('nextbar.png')\n",
    "nextbar.show()"
   ]
  }
 ],
 "metadata": {
  "kernelspec": {
   "display_name": "venv",
   "language": "python",
   "name": "python3"
  },
  "language_info": {
   "codemirror_mode": {
    "name": "ipython",
    "version": 3
   },
   "file_extension": ".py",
   "mimetype": "text/x-python",
   "name": "python",
   "nbconvert_exporter": "python",
   "pygments_lexer": "ipython3",
   "version": "3.11.7"
  }
 },
 "nbformat": 4,
 "nbformat_minor": 2
}
